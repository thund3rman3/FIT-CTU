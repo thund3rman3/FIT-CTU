{
  "nbformat": 4,
  "nbformat_minor": 0,
  "metadata": {
    "colab": {
      "name": "Cvičení 02 - Čísla, Řetězce.ipynb",
      "provenance": [],
      "collapsed_sections": [],
      "toc_visible": true
    },
    "kernelspec": {
      "name": "python3",
      "display_name": "Python 3"
    }
  },
  "cells": [
    {
      "cell_type": "markdown",
      "metadata": {
        "id": "pfv3eOqOuPQp"
      },
      "source": [
        "# Cvičení 02 - Čísla, Řetězce"
      ]
    },
    {
      "cell_type": "markdown",
      "metadata": {
        "id": "o2RZQvjD64D3"
      },
      "source": [
        "## Poznámka k minulému cvičení - dynamické vs. statické typování"
      ]
    },
    {
      "cell_type": "code",
      "metadata": {
        "id": "BMAvY2L76-wk"
      },
      "source": [
        "def scitani (a,b):\n",
        "    print(\"scitam \",end=\"\")\n",
        "    return a+b"
      ],
      "execution_count": null,
      "outputs": []
    },
    {
      "cell_type": "markdown",
      "metadata": {
        "id": "BDOs2VK77YHp"
      },
      "source": [
        "Můžete volat s různými typy."
      ]
    },
    {
      "cell_type": "code",
      "metadata": {
        "id": "D3DVGwG67ai8",
        "colab": {
          "base_uri": "https://localhost:8080/",
          "height": 70
        },
        "outputId": "27514a11-a239-4e47-dd61-6223ddd50b7e"
      },
      "source": [
        "print(scitani(1,1))\n",
        "print(scitani(1.2,1))\n",
        "print(scitani('a','hoj'))"
      ],
      "execution_count": null,
      "outputs": [
        {
          "output_type": "stream",
          "text": [
            "scitam 2\n",
            "scitam 2.2\n",
            "scitam ahoj\n"
          ],
          "name": "stdout"
        }
      ]
    },
    {
      "cell_type": "markdown",
      "metadata": {
        "id": "PmiRCmkc7aGT"
      },
      "source": [
        "Zároveň je python silně typovaný jazyk"
      ]
    },
    {
      "cell_type": "code",
      "metadata": {
        "id": "iHc3LElv7kaC",
        "colab": {
          "base_uri": "https://localhost:8080/",
          "height": 168
        },
        "outputId": "d939814d-0f97-4364-deca-1ab21fbb9e38"
      },
      "source": [
        "print(scitani(1+\"ahoj\"))"
      ],
      "execution_count": null,
      "outputs": [
        {
          "output_type": "error",
          "ename": "TypeError",
          "evalue": "ignored",
          "traceback": [
            "\u001b[0;31m---------------------------------------------------------------------------\u001b[0m",
            "\u001b[0;31mTypeError\u001b[0m                                 Traceback (most recent call last)",
            "\u001b[0;32m<ipython-input-29-2e12589cb9e3>\u001b[0m in \u001b[0;36m<module>\u001b[0;34m()\u001b[0m\n\u001b[0;32m----> 1\u001b[0;31m \u001b[0mprint\u001b[0m\u001b[0;34m(\u001b[0m\u001b[0mscitani\u001b[0m\u001b[0;34m(\u001b[0m\u001b[0;36m1\u001b[0m\u001b[0;34m+\u001b[0m\u001b[0;34m\"ahoj\"\u001b[0m\u001b[0;34m)\u001b[0m\u001b[0;34m)\u001b[0m\u001b[0;34m\u001b[0m\u001b[0;34m\u001b[0m\u001b[0m\n\u001b[0m",
            "\u001b[0;31mTypeError\u001b[0m: unsupported operand type(s) for +: 'int' and 'str'"
          ]
        }
      ]
    },
    {
      "cell_type": "markdown",
      "metadata": {
        "id": "OZNyXCGt7p-1"
      },
      "source": [
        "Jak je to ale se statickým typováním? No python statické typování podporuje"
      ]
    },
    {
      "cell_type": "code",
      "metadata": {
        "id": "8skzWuqS7790"
      },
      "source": [
        "def scitani_int (a:int,b:int) -> int:\n",
        "    print(\"scitam int \",end=\"\")\n",
        "    return a+b"
      ],
      "execution_count": null,
      "outputs": []
    },
    {
      "cell_type": "markdown",
      "metadata": {
        "id": "_60LjEf28ALd"
      },
      "source": [
        "Problém je však v tom, že python je stále dynamicky typovaný jazyk a statické typování nevynucuje"
      ]
    },
    {
      "cell_type": "code",
      "metadata": {
        "id": "jmAdWmp27-1C",
        "colab": {
          "base_uri": "https://localhost:8080/",
          "height": 34
        },
        "outputId": "1c1cd3a2-3d77-4dce-8c50-d4713443abad"
      },
      "source": [
        "print(scitani_int(\"a\",\"hojky\"))"
      ],
      "execution_count": null,
      "outputs": [
        {
          "output_type": "stream",
          "text": [
            "scitam int ahojky\n"
          ],
          "name": "stdout"
        }
      ]
    },
    {
      "cell_type": "markdown",
      "metadata": {
        "id": "Ba2taan58Q2P"
      },
      "source": [
        "Pokud chcete nějakým způsobem ověřit, že máte typování ok, můžete použít ke kontrole použít mypy (`pip3 install mypy`):\n",
        "\n",
        "```python\n",
        "mypy static.py\n",
        "\n",
        "static.py:15: error: Argument 1 to \"scitani_int\" has incompatible type \"str\"; expected \"int\"\n",
        "```\n",
        "\n",
        "Nebo použít pyCharm IDE.\n",
        "\n",
        "Dalším problémem, který z tohoto přístupu vyplývá je, že tím pádem nefunguje overload funkcí.\n",
        "Čili si nelze nadefinovat jednu variantu funkce scitani pro int, jednu pro str a další pro float.\n",
        "Předchozí definice se vždy přepíše poslední definicí. Toto chování lze ne úplně intuitivně obejít prostřednictvím tříd.\n",
        "Zájemce odkazuji například [sem](https://www.codementor.io/@arpitbhayani/overload-functions-in-python-13e32ahzqt).\n",
        "\n",
        "Možná by ale bylo lepší si položit otázku: Opravdu potřebujeme statické typování?\n",
        "[Pohled autora pythonu](https://www.techrepublic.com/article/the-creator-of-python-on-how-the-programming-language-is-learning-from-typescript/),\n",
        "[Úvaha na root.cz](https://www.root.cz/clanky/staticka-dynamicka-typova-kontrola/)\n",
        "\n",
        "Doufám, že javisti mezi vámi z tohoto přístupu nemají migrénu.\n"
      ]
    },
    {
      "cell_type": "markdown",
      "metadata": {
        "id": "s02b0urLzD3J"
      },
      "source": [
        "## Čísla"
      ]
    },
    {
      "cell_type": "markdown",
      "metadata": {
        "id": "8xe62TiwuV4M"
      },
      "source": [
        "### Python int\n",
        "V minulém cvičení jsme si říkali, že v pythonu jsou dva základní typy čísel - `int` a `float`. Než se podíváme trochu více do hloubky bych chtěl ještě upřesnit odpověď na jeden dotaz - jak velký je v pythonu `int`? Minule jsem odpověděl, že `int64`, což nebylo úplně přesné - implementace `int` v pythonu3 je poněkud složitější."
      ]
    },
    {
      "cell_type": "code",
      "metadata": {
        "id": "hP7P9k1tuN8k",
        "colab": {
          "base_uri": "https://localhost:8080/",
          "height": 52
        },
        "outputId": "b28ca7d3-1204-4cbd-c600-10b099c7102f"
      },
      "source": [
        "import sys\n",
        "\n",
        "i = 1\n",
        "j = 12345**12345\n",
        "\n",
        "print(\"i:\", type(i), \"of size\", sys.getsizeof(i), \"bytes.\")\n",
        "print(\"j:\", type(j), \"of size\", sys.getsizeof(j), \"bytes.\")\n",
        "\n"
      ],
      "execution_count": null,
      "outputs": [
        {
          "output_type": "stream",
          "text": [
            "i: <class 'int'> of size 28 bytes.\n",
            "j: <class 'int'> of size 22396 bytes.\n"
          ],
          "name": "stdout"
        }
      ]
    },
    {
      "cell_type": "markdown",
      "metadata": {
        "id": "YlNtqGjtw5Ze"
      },
      "source": [
        "Jak je vidět, `int` je v pythonu3 implementován jako postupně se zvětšující pole číslic a ne jako číslo s pevně vymezenou oblast paměti. Pokud chcete pracovat s `int` jako např. v C++ musíte využít numpy:"
      ]
    },
    {
      "cell_type": "code",
      "metadata": {
        "id": "ujCJ2QiOwWH7",
        "colab": {
          "base_uri": "https://localhost:8080/",
          "height": 222
        },
        "outputId": "2347e45f-130e-4b62-bb57-1bdbb7d4e0e2"
      },
      "source": [
        "import numpy as np\n",
        "\n",
        "print(\"i as int32:\", np.uint32(i))\n",
        "print(\"j as int64:\", np.int64(j))"
      ],
      "execution_count": null,
      "outputs": [
        {
          "output_type": "stream",
          "text": [
            "i as int32: 1\n"
          ],
          "name": "stdout"
        },
        {
          "output_type": "error",
          "ename": "OverflowError",
          "evalue": "ignored",
          "traceback": [
            "\u001b[0;31m---------------------------------------------------------------------------\u001b[0m",
            "\u001b[0;31mOverflowError\u001b[0m                             Traceback (most recent call last)",
            "\u001b[0;32m<ipython-input-3-88a63ff736ae>\u001b[0m in \u001b[0;36m<module>\u001b[0;34m()\u001b[0m\n\u001b[1;32m      2\u001b[0m \u001b[0;34m\u001b[0m\u001b[0m\n\u001b[1;32m      3\u001b[0m \u001b[0mprint\u001b[0m\u001b[0;34m(\u001b[0m\u001b[0;34m\"i as int32:\"\u001b[0m\u001b[0;34m,\u001b[0m \u001b[0mnp\u001b[0m\u001b[0;34m.\u001b[0m\u001b[0muint32\u001b[0m\u001b[0;34m(\u001b[0m\u001b[0mi\u001b[0m\u001b[0;34m)\u001b[0m\u001b[0;34m)\u001b[0m\u001b[0;34m\u001b[0m\u001b[0;34m\u001b[0m\u001b[0m\n\u001b[0;32m----> 4\u001b[0;31m \u001b[0mprint\u001b[0m\u001b[0;34m(\u001b[0m\u001b[0;34m\"j as int64:\"\u001b[0m\u001b[0;34m,\u001b[0m \u001b[0mnp\u001b[0m\u001b[0;34m.\u001b[0m\u001b[0mint64\u001b[0m\u001b[0;34m(\u001b[0m\u001b[0mj\u001b[0m\u001b[0;34m)\u001b[0m\u001b[0;34m)\u001b[0m\u001b[0;34m\u001b[0m\u001b[0;34m\u001b[0m\u001b[0m\n\u001b[0m",
            "\u001b[0;31mOverflowError\u001b[0m: Python int too large to convert to C long"
          ]
        }
      ]
    },
    {
      "cell_type": "markdown",
      "metadata": {
        "id": "DS-OO2uL1kWf"
      },
      "source": [
        "Více info na https://www.quora.com/How-is-a-long-integer-implemented-in-python nebo v PEP237 https://www.python.org/dev/peps/pep-0237/"
      ]
    },
    {
      "cell_type": "markdown",
      "metadata": {
        "id": "77CpE3zz4kte"
      },
      "source": [
        "### Python float\n",
        "\n",
        "`float` je v pythonu implementován jako `float64`. Float s jinou přesností je možné použít opět prostřednictvím numpy"
      ]
    },
    {
      "cell_type": "code",
      "metadata": {
        "id": "m2i4e70p4X2Z",
        "colab": {
          "base_uri": "https://localhost:8080/",
          "height": 70
        },
        "outputId": "c5060615-3e28-4461-c920-59aec6492851"
      },
      "source": [
        "print(\"2.28 as python float is \", (2.28).hex())\n",
        "print(\"2.28 as numpy float64 is\", np.float64(2.28).hex())\n",
        "\n",
        "a = 2.32343265622321313\n",
        "b = np.float32(a)\n",
        "c = np.float16(b)\n",
        "\n",
        "print(a,b,c)"
      ],
      "execution_count": null,
      "outputs": [
        {
          "output_type": "stream",
          "text": [
            "2.28 as python float is  0x1.23d70a3d70a3dp+1\n",
            "2.28 as numpy float64 is 0x1.23d70a3d70a3dp+1\n",
            "2.323432656223213 2.3234327 2.324\n"
          ],
          "name": "stdout"
        }
      ]
    },
    {
      "cell_type": "markdown",
      "metadata": {
        "id": "h_WfuWo49HHM"
      },
      "source": [
        "### Číselné operátory, standardní knihovna `math`\n",
        "\n",
        "V minulém cvičení jsme si povídali o operátorech:\n",
        "\n",
        "- číselné:\n",
        "  - `+` sčítání\n",
        "  - `-` odčítání\n",
        "  - `*` násobení\n",
        "  - `**` mocnění\n",
        "  - `/` dělění\n",
        "  - `//` celočíselné dělění\n",
        "  - `%` zbytek po celočíselném dělění\n",
        "\n",
        "  Nyní si ukážeme další funkce ze standardní knihovny `math` https://docs.python.org/3/library/math.html"
      ]
    },
    {
      "cell_type": "code",
      "metadata": {
        "id": "Nnmd1-2dyVjd",
        "colab": {
          "base_uri": "https://localhost:8080/",
          "height": 532
        },
        "outputId": "36e323c7-57b5-43f3-9462-549b3a918841"
      },
      "source": [
        "import math\n",
        "\n",
        "print(\"#### constants ###\")\n",
        "print(\"math.pi\", math.pi)\n",
        "print(\"math.e\", math.e)\n",
        "print(\"### basic arithmetics ###\")\n",
        "print(\"math.ceil(2.8)\", math.ceil(2.8))\n",
        "print(\"math.floor(2.8)\", math.floor(2.8))\n",
        "print(\"math.trunc(2.8)\", math.trunc(2.8))\n",
        "print(\"math.trunc(-2.8)\", math.trunc(-2.8))\n",
        "print(\"round(2.55332,2)\", round(2.55332,2))\n",
        "print(\"### power functions ###\")\n",
        "print(\"math.pow(2,5)\", math.pow(2,5))\n",
        "print(\"math.exp(2)\", math.exp(2))\n",
        "print(\"### log functions ###\")\n",
        "print(\"math.log(math.e)\", math.log(math.e))\n",
        "print(\"math.log(10**2,10)\", math.log(10**2,10))\n",
        "print(\"### complex numbers ###\")\n",
        "print(\"i+3j\", i+3j)\n",
        "print(\"type(i+3j)\", type(i+3j))\n",
        "print(\"### další funkce ###\")\n",
        "print(\"Nejvyšší společný dělitel: math.gcd(200,300)\",math.gcd(200,300))\n",
        "print(\"Suma: math.fsum(range(1,6))\", math.fsum(range(1,6)))\n",
        "print(\"sum(range(1,6))\", sum(range(1,6)))\n",
        "# math.prod available since 3.8 - colab is 3.6, must use np.prod\n",
        "print(\"math.prod(range(1,6))\", np.prod(range(1,6)))\n",
        "print(\"math.factorial(5)\", math.factorial(5))\n",
        "print(\"### geometrie a goniometrické funkce ###\")\n",
        "print(\"math.radians(90)\", math.radians(90))\n",
        "print(\"math.degrees(math.pi/2)\", math.degrees(math.pi/2))\n",
        "print(\"math.cos(math.pi)\", math.cos(math.pi))\n",
        "print(\"math.sin(math.pi)\", math.sin(math.pi))\n"
      ],
      "execution_count": null,
      "outputs": [
        {
          "output_type": "stream",
          "text": [
            "#### constants ###\n",
            "math.pi 3.141592653589793\n",
            "math.e 2.718281828459045\n",
            "### basic arithmetics ###\n",
            "math.ceil(2.8) 3\n",
            "math.floor(2.8) 2\n",
            "math.trunc(2.8) 2\n",
            "math.trunc(-2.8) -2\n",
            "round(2.55332,2) 2.55\n",
            "### power functions ###\n",
            "math.pow(2,5) 32.0\n",
            "math.exp(2) 7.38905609893065\n",
            "### log functions ###\n",
            "math.log(math.e) 1.0\n",
            "math.log(10**2,10) 2.0\n",
            "### complex numbers ###\n",
            "i+3j (1+3j)\n",
            "type(i+3j) <class 'complex'>\n",
            "### další funkce ###\n",
            "Nejvyšší společný dělitel: math.gcd(200,300) 100\n",
            "Suma: math.fsum(range(1,6)) 15.0\n",
            "sum(range(1,6)) 15\n",
            "math.prod(range(1,6)) 120\n",
            "math.factorial(5) 120\n",
            "### geometrie a goniometrické funkce ###\n",
            "math.radians(90) 1.5707963267948966\n",
            "math.degrees(math.pi/2) 90.0\n",
            "math.cos(math.pi) -1.0\n",
            "math.sin(math.pi) 1.2246467991473532e-16\n"
          ],
          "name": "stdout"
        }
      ]
    },
    {
      "cell_type": "markdown",
      "metadata": {
        "id": "aQjZdivSJ8xa"
      },
      "source": [
        "Hezký tutorial např. zde https://realpython.com/python-math-module/"
      ]
    },
    {
      "cell_type": "code",
      "metadata": {
        "id": "mekcHXOCePO-",
        "colab": {
          "base_uri": "https://localhost:8080/",
          "height": 70
        },
        "outputId": "f7251991-9b64-4d9d-e12e-f6c40d1c06cd"
      },
      "source": [
        "# šestnáctkově\n",
        "print(\"int(0xA)\", int(0xA))\n",
        "\n",
        "# osmičkově\n",
        "print(\"int(0o10\", int(0o10))\n",
        "\n",
        "# dvojkově\n",
        "print(\"int(0b10)\", int(0b10))"
      ],
      "execution_count": null,
      "outputs": [
        {
          "output_type": "stream",
          "text": [
            "int(0xA) 10\n",
            "int(0o10 8\n",
            "int(0b10) 2\n"
          ],
          "name": "stdout"
        }
      ]
    },
    {
      "cell_type": "markdown",
      "metadata": {
        "id": "Ac4-MnVxJDZv"
      },
      "source": [
        "### Poznámka k logickým operátorům\n",
        "\n",
        "Ne úplně intuitivní je také přímé použítí logických operátorů and, or, not na typy str, int a podobně.\n",
        "Ano v pythonu můžete použít výrazy jako `\"ahoj\" and \"vojto\"`. Jaký ale bude výsledek tohoto výrazu?\n",
        "\n",
        "V pythonu platí následující: Prázdný řetězec má hodnotu False, neprázdný True. Tzn:\n",
        "\n",
        "```python\n",
        ">>> bool('')\n",
        "False\n",
        ">>> bool('vojta')\n",
        "True\n",
        "```\n",
        "\n",
        "Pro int pak pak platí: 0 má hodnotu False, nenulový True. Tzn:\n",
        "\n",
        "```python\n",
        ">>> bool(0)\n",
        "False\n",
        ">>> bool(28)\n",
        "True\n",
        ">>> bool(-2)\n",
        "True\n",
        "```\n",
        "\n",
        "Dále platí pro operátor and: Pokud je levá hodnota True, pravá hodnota je vyhodnocena a případně vrácena.\n",
        "Pokud je levá hodnota False, je vrácena (tzn výsledek nemusí být False, může to být prázdný řetězec - viz předchozí stránka):\n",
        "\n",
        "```python\n",
        ">>> True and \"vojta\"\n",
        "'vojta'\n",
        ">>> False and \"vojta\"\n",
        "False\n",
        ">>> \"\" and \"vojta\"\n",
        "''\n",
        ">>> \"ahoj\" and \"vojta\"\n",
        "'vojta'\n",
        "```\n",
        "Pro operátor or pak platí, že pokud je levá hodnota True, je vrácena, jinak pokud je levá hodnota False pravá hodnota je vrácena.\n",
        "\n",
        "```python\n",
        ">>> True or 'vojta'\n",
        "True\n",
        ">>> False or 'vojta'\n",
        "'vojta'\n",
        "```\n",
        "A tak dále."
      ]
    },
    {
      "cell_type": "markdown",
      "metadata": {
        "id": "hY6N8bFHIkTI"
      },
      "source": [
        "### Binární operátory\n",
        "\n",
        "Krom minule probíraných operátorů (číselné, logické, porovnávací) jsou v pythonu ještě operátory binární\n",
        "\n",
        "#### binární operátory >> a <<\n",
        "\n",
        "Binární operátory pracují pouze s celým čísly (`int`)\n",
        "\n",
        "```python\n",
        "x << y\n",
        "\n",
        ">>> 2<<1 # 10 --> 100\n",
        "4\n",
        "```\n",
        "Výsledkem je x s posunutými bity doleva o y pozic. Nové bity zprava budou 0. Stejné jako `x*(2**y)`.\n",
        "\n",
        "```python\n",
        "x >> y\n",
        "\n",
        ">>> 4>>1 # 100 -> 10\n",
        "2\n",
        "```\n",
        "\n",
        "Výsledkem je x s posunutými bity doprava o y pozic. Nové bity zleva budou 0. Stejné jako `x//(2**y)`.\n",
        "\n",
        "#### binární operátory & a |\n",
        "```python\n",
        "x & y\n",
        "\n",
        ">>> 4 & 2 # 100 & 010 --> 000\n",
        "0\n",
        ">>> 4 & 5 # 100 & 101 --> 100\n",
        "4\n",
        "```\n",
        "Provede bitový and. Pokud jsou odpovídající bity v obou číslech 1, tak na odpovídajícím místě ve výsledném čísle bude 1, jinak 0.\n",
        "\n",
        "```python\n",
        "x | y\n",
        "\n",
        ">>> 4 | 2 # 100 | 010 --> 110\n",
        "6\n",
        ">>> 4 | 5 # 100 | 101 --> 101\n",
        "5\n",
        "```\n",
        "Provede bitový or. Pokud jsou odpovídající bity v obou číslech 0, tak na odpovídajícím místě ve výsledném čísle bude 0, jinak 1.\n",
        "\n",
        "#### binární operátor ~\n",
        "\n",
        "```python\n",
        ">>> ~126\n",
        "-127\n",
        ">>> ~0\n",
        "-1\n",
        ">>> ~-1\n",
        "0\n",
        "```\n",
        "Prohodí bity v binární reprezentaci x (`~x == -x -1`)\n",
        "\n",
        "Proč? Vyplývá to z toho jak jsou uchovávána čísla v paměti.\n",
        "Tady si nejdříve musíme uvědomit, JAK je `int` uchováván v paměti.\n",
        "\n",
        "Konvence, že `-x = ~(x-1)` je výhodná při počítání s int (zde pro int8, python používá implementaci viz. výše):\n",
        "```python\n",
        "-7+2 = 11111001+00000010 = 11111011 = -5\n",
        "-7+8 = 11111001+00001000 = 00000001 = 1\n",
        "```\n",
        "\n",
        "tedy pak:\n",
        "\n",
        "```python\n",
        "127 = 01111111 --> -127 = ~126 = ~01111110 = 10000001\n",
        "1 = 00000001 --> -1 = ~0 = ~00000000 = 11111111\n",
        "0 = 00000000 --> -0 = ~-1 = ~11111111 = 00000000\n",
        "```\n",
        "\n",
        "#### binární operátor ^\n",
        "```python\n",
        "x ^ y\n",
        "\n",
        ">>> 4 ^ 2 # 100 ^ 010 --> 110\n",
        "6\n",
        ">>> 4 ^ 5 # 100 ^ 101 --> 001\n",
        "1\n",
        "```\n",
        "\n",
        "Bitový XOR. Pokud jsou odpovídající bity v obou číslech stejné, tak na odpovídajícím místě ve výsledném čísle bude 0, jinak 1.\n"
      ]
    },
    {
      "cell_type": "markdown",
      "metadata": {
        "id": "1hDFtx67LpAg"
      },
      "source": [
        "## Řetězce"
      ]
    },
    {
      "cell_type": "markdown",
      "metadata": {
        "id": "ECVLOihFLrFg"
      },
      "source": [
        "V Pythonu 3 jsou všechny řetězce posloupnostmi znaků v **Unicode**.\n",
        "- Řetězec vytvoříme tak, že posloupnost znaků uzavřeme do uvozovacích znaků. Pythonovské řetězce mohou být definovány uzavřením buď do apostrofů ('; single quotes) nebo do uvozovek (\"; double quotes).\n",
        "- Zabudovaná funkce len() vrací délku řetězce, tj. počet znaků. Je to stejná funkce, jakou používáme pro nalezení délky seznamu, n-tice, množiny nebo slovníku. Řetězec připomíná n-tici znaků.\n",
        "- S využitím indexové notace můžeme získat jednotlivé znaky řetězce, podobně jako u seznamu.\n",
        "- Operátor + provádí konkatenaci řetězců (zřetězení, spojení), stejně jako u seznamů.\n"
      ]
    },
    {
      "cell_type": "code",
      "metadata": {
        "id": "JeKFmF7IzrpK",
        "colab": {
          "base_uri": "https://localhost:8080/",
          "height": 106
        },
        "outputId": "b2a776ed-90a0-4aa1-856a-f462f6a1263d"
      },
      "source": [
        "s = '\"Ahoj\"'\n",
        "print(s*5)\n",
        "print(s[0])\n",
        "print(s[0:2])\n",
        "print(len(s))\n",
        "\"Ahoj\"+\"nazdar\""
      ],
      "execution_count": null,
      "outputs": [
        {
          "output_type": "stream",
          "text": [
            "\"Ahoj\"\"Ahoj\"\"Ahoj\"\"Ahoj\"\"Ahoj\"\n",
            "\"\n",
            "\"A\n",
            "6\n"
          ],
          "name": "stdout"
        },
        {
          "output_type": "execute_result",
          "data": {
            "application/vnd.google.colaboratory.intrinsic+json": {
              "type": "string"
            },
            "text/plain": [
              "'Ahojnazdar'"
            ]
          },
          "metadata": {
            "tags": []
          },
          "execution_count": 4
        }
      ]
    },
    {
      "cell_type": "code",
      "metadata": {
        "id": "GIKbumqRMXJv",
        "colab": {
          "base_uri": "https://localhost:8080/",
          "height": 123
        },
        "outputId": "6bcee1ad-8474-4df8-b2e6-d4554e2ae371"
      },
      "source": [
        "s2 = 'Ahoj'\n",
        "s3 = 'Ahoj \\\n",
        "na více řádků?'\n",
        "s4 = \"\"\"Docstrings\n",
        "can\n",
        "have\n",
        "multiple lines.\"\"\"\n",
        "\n",
        "print(s2)\n",
        "print(s3)\n",
        "print(s4)"
      ],
      "execution_count": null,
      "outputs": [
        {
          "output_type": "stream",
          "text": [
            "Ahoj\n",
            "Ahoj na více řádků?\n",
            "Docstrings\n",
            "can\n",
            "have\n",
            "multiple lines.\n"
          ],
          "name": "stdout"
        }
      ]
    },
    {
      "cell_type": "markdown",
      "metadata": {
        "id": "l3dZMWteMFqK"
      },
      "source": [
        "Dále viz [Strings cheatsheet](https://www.shortcutfoo.com/app/dojos/python-strings/cheatsheet)."
      ]
    },
    {
      "cell_type": "markdown",
      "metadata": {
        "id": "AY4uAdxCNINR"
      },
      "source": [
        "### Řetězce vs Seznamy\n",
        "\n",
        "Seznamy (a také n-tice, množiny a slovníky) budeme probírat příště, ale malou odbočku k seznamům si v tento moment nemůžu odpustit.\n",
        "\n",
        "Seznamy (lists) jsou uspořádané posloupnosti hodnot."
      ]
    },
    {
      "cell_type": "code",
      "metadata": {
        "id": "tZQN9ChgLoSn",
        "colab": {
          "base_uri": "https://localhost:8080/",
          "height": 105
        },
        "outputId": "23f58c44-6e59-494d-fb4f-c9368d477265"
      },
      "source": [
        "s = [1, 2, 3]\n",
        "\n",
        "print(s[1])\n",
        "\n",
        "for x in s:\n",
        "  print(x)\n",
        "\n",
        "s[2]"
      ],
      "execution_count": null,
      "outputs": [
        {
          "output_type": "stream",
          "text": [
            "2\n",
            "1\n",
            "2\n",
            "3\n"
          ],
          "name": "stdout"
        },
        {
          "output_type": "execute_result",
          "data": {
            "text/plain": [
              "3"
            ]
          },
          "metadata": {
            "tags": []
          },
          "execution_count": 5
        }
      ]
    },
    {
      "cell_type": "markdown",
      "metadata": {
        "id": "tQ1yhcadOxnv"
      },
      "source": [
        "Řetězec samozřejmě můžeme převést na seznam přímo pomocí konstruktoru `list()`"
      ]
    },
    {
      "cell_type": "code",
      "metadata": {
        "id": "CIFPchhyOnyi",
        "colab": {
          "base_uri": "https://localhost:8080/",
          "height": 34
        },
        "outputId": "9599c191-be12-47e0-e3a2-5beb5b7f8f7d"
      },
      "source": [
        "list(\"Ahoj\")"
      ],
      "execution_count": null,
      "outputs": [
        {
          "output_type": "execute_result",
          "data": {
            "text/plain": [
              "['A', 'h', 'o', 'j']"
            ]
          },
          "metadata": {
            "tags": []
          },
          "execution_count": 80
        }
      ]
    },
    {
      "cell_type": "markdown",
      "metadata": {
        "id": "18lQ_w3fPKmO"
      },
      "source": [
        "Rozdělení řetězce na části se provádí pomocí metody `split()`. Například převod věty na seznam slov:"
      ]
    },
    {
      "cell_type": "code",
      "metadata": {
        "id": "6xalEwDPOj1G",
        "colab": {
          "base_uri": "https://localhost:8080/",
          "height": 230
        },
        "outputId": "03aee47f-f085-4d44-f8f5-7e856374fa7f"
      },
      "source": [
        "l = 'All human beings are born free and equal in dignity and rights.'.split(' ')\n",
        "l"
      ],
      "execution_count": null,
      "outputs": [
        {
          "output_type": "execute_result",
          "data": {
            "text/plain": [
              "['All',\n",
              " 'human',\n",
              " 'beings',\n",
              " 'are',\n",
              " 'born',\n",
              " 'free',\n",
              " 'and',\n",
              " 'equal',\n",
              " 'in',\n",
              " 'dignity',\n",
              " 'and',\n",
              " 'rights.']"
            ]
          },
          "metadata": {
            "tags": []
          },
          "execution_count": 6
        }
      ]
    },
    {
      "cell_type": "markdown",
      "metadata": {
        "id": "u1A3-73kP8gN"
      },
      "source": [
        "A spojit pomocí `join()`"
      ]
    },
    {
      "cell_type": "code",
      "metadata": {
        "id": "2bl4xHZ-Ot-s",
        "colab": {
          "base_uri": "https://localhost:8080/",
          "height": 70
        },
        "outputId": "41634c66-9207-438a-844a-feb93439d059"
      },
      "source": [
        "print(\"\".join(l))\n",
        "print(\" \".join(l))\n",
        "print(\"_\".join(l))"
      ],
      "execution_count": null,
      "outputs": [
        {
          "output_type": "stream",
          "text": [
            "Allhumanbeingsarebornfreeandequalindignityandrights.\n",
            "All human beings are born free and equal in dignity and rights.\n",
            "All_human_beings_are_born_free_and_equal_in_dignity_and_rights.\n"
          ],
          "name": "stdout"
        }
      ]
    },
    {
      "cell_type": "code",
      "metadata": {
        "id": "Gjb5X6EOVtdo",
        "colab": {
          "base_uri": "https://localhost:8080/",
          "height": 230
        },
        "outputId": "ca5136ed-bc53-4408-c521-94c079e7a29d"
      },
      "source": [
        "for x in l:\n",
        "  print(x)"
      ],
      "execution_count": null,
      "outputs": [
        {
          "output_type": "stream",
          "text": [
            "All\n",
            "human\n",
            "beings\n",
            "are\n",
            "born\n",
            "free\n",
            "and\n",
            "equal\n",
            "in\n",
            "dignity\n",
            "and\n",
            "rights.\n"
          ],
          "name": "stdout"
        }
      ]
    },
    {
      "cell_type": "markdown",
      "metadata": {
        "id": "OOdbCZbrRFsU"
      },
      "source": [
        "## List comprehensions\n",
        "\n",
        "Opět - toto bude primárně náplní příštího cvičení, ale při řešení úkolu na gitlabu by se vám to mohlo hodit. \n",
        "\n",
        "List comprehension - česky generátorová notace seznamu - je velice běžnou součásti jazyka python a umožňuje stručný zápis vytvoření seznamu z jiného iterable objektu aplikováním funkce na všechny prvky zdrojového objektu.\n",
        "\n"
      ]
    },
    {
      "cell_type": "code",
      "metadata": {
        "id": "G7TJAc7nQJNk",
        "colab": {
          "base_uri": "https://localhost:8080/",
          "height": 34
        },
        "outputId": "2a26e0d7-ddb8-497b-f8b2-969725ebe1a8"
      },
      "source": [
        "[x**2 for x in range(10)]\n",
        "\n",
        "mocniny = []\n",
        "for x in range(10):\n",
        "  mocniny.append(x**2)\n",
        "\n",
        "mocniny"
      ],
      "execution_count": null,
      "outputs": [
        {
          "output_type": "execute_result",
          "data": {
            "text/plain": [
              "[0, 1, 4, 9, 16, 25, 36, 49, 64, 81]"
            ]
          },
          "metadata": {
            "tags": []
          },
          "execution_count": 9
        }
      ]
    },
    {
      "cell_type": "markdown",
      "metadata": {
        "id": "7wjc80BtR8--"
      },
      "source": [
        "\n",
        "V našem případě aplikujeme druhou mocninu na všechny x z rozsahu 0 až 10.\n",
        "\n",
        "Vybraná x lze omezit pomocí if:"
      ]
    },
    {
      "cell_type": "code",
      "metadata": {
        "id": "3DAztruqRFAi",
        "colab": {
          "base_uri": "https://localhost:8080/",
          "height": 34
        },
        "outputId": "7b51751b-df46-480d-d34b-719a9f725b63"
      },
      "source": [
        "[x**2 for x in range(10) if x%2==0]"
      ],
      "execution_count": null,
      "outputs": [
        {
          "output_type": "execute_result",
          "data": {
            "text/plain": [
              "[0, 4, 16, 36, 64]"
            ]
          },
          "metadata": {
            "tags": []
          },
          "execution_count": 91
        }
      ]
    },
    {
      "cell_type": "markdown",
      "metadata": {
        "id": "nJbJN00ZSHFL"
      },
      "source": [
        "S výsledným seznamem lze pracovat jako s každým jiným seznamem, například můžeme jeho prvky sečíst.\n"
      ]
    },
    {
      "cell_type": "code",
      "metadata": {
        "id": "nzlg61cOSCuz",
        "colab": {
          "base_uri": "https://localhost:8080/",
          "height": 34
        },
        "outputId": "1eabf3be-bf02-4cfa-90bb-6f493d99e53a"
      },
      "source": [
        "sum([x**2 for x in range(10)])"
      ],
      "execution_count": null,
      "outputs": [
        {
          "output_type": "execute_result",
          "data": {
            "text/plain": [
              "285"
            ]
          },
          "metadata": {
            "tags": []
          },
          "execution_count": 92
        }
      ]
    },
    {
      "cell_type": "markdown",
      "metadata": {
        "id": "RoOnkotJSNKt"
      },
      "source": [
        "Jak číst list comprehensions?\n",
        "\n",
        "1. Vždy si výrazu najděte prostřední část **`for prvek in iterable`**\n",
        "2. V levé části pak uvidíte co se prvkem stane před tím než je vložen do nového seznamu, např. **`prvek/2`**\n",
        "3. v pravé části najdete podmínku pomocí inline if, která říká kdy prvek projde do levé části výrazu, např. **`if prvek%2==0`**. Tato část je nepovinná "
      ]
    },
    {
      "cell_type": "code",
      "metadata": {
        "id": "wIiLTfnaSJuu",
        "colab": {
          "base_uri": "https://localhost:8080/",
          "height": 70
        },
        "outputId": "5d3794e2-5094-4a2c-88cb-e85dca22c316"
      },
      "source": [
        "iterable = [1,2,3,4,5,6,7,8,9,10]\n",
        "print([prvek for prvek in iterable])\n",
        "print([prvek/2 for prvek in iterable])\n",
        "print([prvek/2 for prvek in iterable if prvek%2==0])\n"
      ],
      "execution_count": null,
      "outputs": [
        {
          "output_type": "stream",
          "text": [
            "[1, 2, 3, 4, 5, 6, 7, 8, 9, 10]\n",
            "[0.5, 1.0, 1.5, 2.0, 2.5, 3.0, 3.5, 4.0, 4.5, 5.0]\n",
            "[1.0, 2.0, 3.0, 4.0, 5.0]\n"
          ],
          "name": "stdout"
        }
      ]
    },
    {
      "cell_type": "markdown",
      "metadata": {
        "id": "RHCGJTq_XXUT"
      },
      "source": [
        "Příklad: text odshora dolů - každé slovo věty vypíšeme postupně od shora dolů:"
      ]
    },
    {
      "cell_type": "code",
      "metadata": {
        "id": "Y4luOPinTtFe",
        "colab": {
          "base_uri": "https://localhost:8080/",
          "height": 230
        },
        "outputId": "32e832b9-e67b-4f38-d6ac-f57261b1a52b"
      },
      "source": [
        "sentence = 'All human beings are born free and equal in dignity and rights'\n",
        "l = sentence.split()\n",
        "l"
      ],
      "execution_count": null,
      "outputs": [
        {
          "output_type": "execute_result",
          "data": {
            "text/plain": [
              "['All',\n",
              " 'human',\n",
              " 'beings',\n",
              " 'are',\n",
              " 'born',\n",
              " 'free',\n",
              " 'and',\n",
              " 'equal',\n",
              " 'in',\n",
              " 'dignity',\n",
              " 'and',\n",
              " 'rights']"
            ]
          },
          "metadata": {
            "tags": []
          },
          "execution_count": 1
        }
      ]
    },
    {
      "cell_type": "code",
      "metadata": {
        "id": "ESd0bI-PUNVW",
        "colab": {
          "base_uri": "https://localhost:8080/",
          "height": 247
        },
        "outputId": "a0f5ce4c-f0be-4b04-8645-27447d4cdcea"
      },
      "source": [
        "num_words = len(l) \n",
        "max_len = max([len(x) for x in l])\n",
        "print(num_words,max_len)\n",
        "size=max(num_words,max_len)\n",
        "ls = [list(x.ljust(size)) for x in l]\n",
        "ls"
      ],
      "execution_count": null,
      "outputs": [
        {
          "output_type": "stream",
          "text": [
            "12 7\n"
          ],
          "name": "stdout"
        },
        {
          "output_type": "execute_result",
          "data": {
            "text/plain": [
              "[['A', 'l', 'l', ' ', ' ', ' ', ' ', ' ', ' ', ' ', ' ', ' '],\n",
              " ['h', 'u', 'm', 'a', 'n', ' ', ' ', ' ', ' ', ' ', ' ', ' '],\n",
              " ['b', 'e', 'i', 'n', 'g', 's', ' ', ' ', ' ', ' ', ' ', ' '],\n",
              " ['a', 'r', 'e', ' ', ' ', ' ', ' ', ' ', ' ', ' ', ' ', ' '],\n",
              " ['b', 'o', 'r', 'n', ' ', ' ', ' ', ' ', ' ', ' ', ' ', ' '],\n",
              " ['f', 'r', 'e', 'e', ' ', ' ', ' ', ' ', ' ', ' ', ' ', ' '],\n",
              " ['a', 'n', 'd', ' ', ' ', ' ', ' ', ' ', ' ', ' ', ' ', ' '],\n",
              " ['e', 'q', 'u', 'a', 'l', ' ', ' ', ' ', ' ', ' ', ' ', ' '],\n",
              " ['i', 'n', ' ', ' ', ' ', ' ', ' ', ' ', ' ', ' ', ' ', ' '],\n",
              " ['d', 'i', 'g', 'n', 'i', 't', 'y', ' ', ' ', ' ', ' ', ' '],\n",
              " ['a', 'n', 'd', ' ', ' ', ' ', ' ', ' ', ' ', ' ', ' ', ' '],\n",
              " ['r', 'i', 'g', 'h', 't', 's', ' ', ' ', ' ', ' ', ' ', ' ']]"
            ]
          },
          "metadata": {
            "tags": []
          },
          "execution_count": 2
        }
      ]
    },
    {
      "cell_type": "code",
      "metadata": {
        "id": "IUpVoQ-cUZoN",
        "colab": {
          "base_uri": "https://localhost:8080/",
          "height": 230
        },
        "outputId": "16597c65-6c3b-4805-eafd-20b1f2613cd0"
      },
      "source": [
        "transposed_ls = [[ls[y][x] for y in range(size)] for x in range(size)]\n",
        "transposed_ls"
      ],
      "execution_count": null,
      "outputs": [
        {
          "output_type": "execute_result",
          "data": {
            "text/plain": [
              "[['A', 'h', 'b', 'a', 'b', 'f', 'a', 'e', 'i', 'd', 'a', 'r'],\n",
              " ['l', 'u', 'e', 'r', 'o', 'r', 'n', 'q', 'n', 'i', 'n', 'i'],\n",
              " ['l', 'm', 'i', 'e', 'r', 'e', 'd', 'u', ' ', 'g', 'd', 'g'],\n",
              " [' ', 'a', 'n', ' ', 'n', 'e', ' ', 'a', ' ', 'n', ' ', 'h'],\n",
              " [' ', 'n', 'g', ' ', ' ', ' ', ' ', 'l', ' ', 'i', ' ', 't'],\n",
              " [' ', ' ', 's', ' ', ' ', ' ', ' ', ' ', ' ', 't', ' ', 's'],\n",
              " [' ', ' ', ' ', ' ', ' ', ' ', ' ', ' ', ' ', 'y', ' ', ' '],\n",
              " [' ', ' ', ' ', ' ', ' ', ' ', ' ', ' ', ' ', ' ', ' ', ' '],\n",
              " [' ', ' ', ' ', ' ', ' ', ' ', ' ', ' ', ' ', ' ', ' ', ' '],\n",
              " [' ', ' ', ' ', ' ', ' ', ' ', ' ', ' ', ' ', ' ', ' ', ' '],\n",
              " [' ', ' ', ' ', ' ', ' ', ' ', ' ', ' ', ' ', ' ', ' ', ' '],\n",
              " [' ', ' ', ' ', ' ', ' ', ' ', ' ', ' ', ' ', ' ', ' ', ' ']]"
            ]
          },
          "metadata": {
            "tags": []
          },
          "execution_count": 3
        }
      ]
    },
    {
      "cell_type": "code",
      "metadata": {
        "id": "tfQX9JCAVlXx",
        "colab": {
          "base_uri": "https://localhost:8080/",
          "height": 230
        },
        "outputId": "cadcbd26-72d0-492e-def9-7289a176977f"
      },
      "source": [
        "transposed_l = [\"  \".join(x) for x in transposed_ls]\n",
        "transposed_l"
      ],
      "execution_count": null,
      "outputs": [
        {
          "output_type": "execute_result",
          "data": {
            "text/plain": [
              "['A  h  b  a  b  f  a  e  i  d  a  r',\n",
              " 'l  u  e  r  o  r  n  q  n  i  n  i',\n",
              " 'l  m  i  e  r  e  d  u     g  d  g',\n",
              " '   a  n     n  e     a     n     h',\n",
              " '   n  g              l     i     t',\n",
              " '      s                    t     s',\n",
              " '                           y      ',\n",
              " '                                  ',\n",
              " '                                  ',\n",
              " '                                  ',\n",
              " '                                  ',\n",
              " '                                  ']"
            ]
          },
          "metadata": {
            "tags": []
          },
          "execution_count": 4
        }
      ]
    },
    {
      "cell_type": "code",
      "metadata": {
        "id": "GFSo1pxdWiZV",
        "colab": {
          "base_uri": "https://localhost:8080/",
          "height": 230
        },
        "outputId": "94a752a3-5b3d-45e0-b8b1-98dd795f68c9"
      },
      "source": [
        "for x in transposed_l:\n",
        "  print(x)"
      ],
      "execution_count": null,
      "outputs": [
        {
          "output_type": "stream",
          "text": [
            "A  h  b  a  b  f  a  e  i  d  a  r\n",
            "l  u  e  r  o  r  n  q  n  i  n  i\n",
            "l  m  i  e  r  e  d  u     g  d  g\n",
            "   a  n     n  e     a     n     h\n",
            "   n  g              l     i     t\n",
            "      s                    t     s\n",
            "                           y      \n",
            "                                  \n",
            "                                  \n",
            "                                  \n",
            "                                  \n",
            "                                  \n"
          ],
          "name": "stdout"
        }
      ]
    },
    {
      "cell_type": "markdown",
      "metadata": {
        "id": "R8XDM5ldZoPL"
      },
      "source": [
        "## Matrix script - procvičování řetězců\n",
        "\n",
        "https://colab.research.google.com/drive/1RSs3rwbREbgakun3CoCMqj5aIP-wGwwq?usp=sharing\n",
        "\n",
        "Zkuste si vyřešit za domácí úkol :-)"
      ]
    },
    {
      "cell_type": "code",
      "metadata": {
        "id": "THr_zBk6XOxZ"
      },
      "source": [
        ""
      ],
      "execution_count": null,
      "outputs": []
    }
  ]
}