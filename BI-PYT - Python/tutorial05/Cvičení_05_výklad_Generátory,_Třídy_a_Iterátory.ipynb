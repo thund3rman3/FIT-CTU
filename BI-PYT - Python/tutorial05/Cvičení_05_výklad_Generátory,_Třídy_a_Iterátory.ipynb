{
  "nbformat": 4,
  "nbformat_minor": 0,
  "metadata": {
    "colab": {
      "name": "Cvičení 05 - výklad-Generátory, Třídy a Iterátory.ipynb",
      "provenance": [],
      "collapsed_sections": []
    },
    "kernelspec": {
      "name": "python3",
      "display_name": "Python 3"
    }
  },
  "cells": [
    {
      "cell_type": "markdown",
      "metadata": {
        "id": "ngHKyGb0kZlM"
      },
      "source": [
        "# Generátory\n",
        "\n",
        "S objektem `generator` jsme se již setkali, když jsem vás upozorňoval, že nemáte používat seznamy na všechno. Jsou totiž situace, kdy není nutné si vytvářet celý seznam do paměti - stačí nám si brát jeden prvek po druhém zrovna když je potřeba.\n",
        "\n",
        "Příklad - sečtení druhých mocnin v daném rozsahu: můžeme si samozřejmě vytvořit seznam, a ten sečíst:\n"
      ]
    },
    {
      "cell_type": "code",
      "metadata": {
        "id": "V3B2BXhWkQz-",
        "colab": {
          "base_uri": "https://localhost:8080/"
        },
        "outputId": "ba6a0584-b559-43b9-a1c0-21d668e910d2"
      },
      "source": [
        "s = [x**2 for x in range(100)]\n",
        "print(sum(s))"
      ],
      "execution_count": null,
      "outputs": [
        {
          "output_type": "stream",
          "text": [
            "328350\n"
          ],
          "name": "stdout"
        }
      ]
    },
    {
      "cell_type": "markdown",
      "metadata": {
        "id": "pA7hW7ReykG8"
      },
      "source": [
        "nicméně pro delší řady si tím zbytečně zabíráme paměť. Lepší je použít generator expression:"
      ]
    },
    {
      "cell_type": "code",
      "metadata": {
        "id": "rMOHuf4exGbe",
        "colab": {
          "base_uri": "https://localhost:8080/"
        },
        "outputId": "360a4829-8115-46e8-9505-2295ea5f9f8d"
      },
      "source": [
        "g = (x**2 for x in range(100))\n",
        "print(sum(g))\n",
        "\n",
        "print(type(s))\n",
        "print(type(g))"
      ],
      "execution_count": null,
      "outputs": [
        {
          "output_type": "stream",
          "text": [
            "328350\n",
            "<class 'list'>\n",
            "<class 'generator'>\n"
          ],
          "name": "stdout"
        }
      ]
    },
    {
      "cell_type": "markdown",
      "metadata": {
        "id": "rCQnjfS2y_rH"
      },
      "source": [
        "Objekt `generator` je tedy objekt, který postupně vytváří nějakou strukturu a z ní vrací pouze tu část, která je aktuálně potřeba. \n",
        "\n",
        "Takovou strukturu si můžeme vytvořit i pomocí funkce; průběžné výsledky budeme vracet pomocí klíčového slova `yield`."
      ]
    },
    {
      "cell_type": "code",
      "metadata": {
        "id": "XgjV0hnzXpZa",
        "colab": {
          "base_uri": "https://localhost:8080/"
        },
        "outputId": "d719dda8-2acd-46f6-e870-85a5642e957f"
      },
      "source": [
        "def pozdrav():\n",
        "  yield \"Ahoj\"\n",
        "  yield \"Nazdar\"\n",
        "  yield \"Čau\"\n",
        "\n",
        "\n",
        "for x in pozdrav():\n",
        "  print(x)"
      ],
      "execution_count": null,
      "outputs": [
        {
          "output_type": "stream",
          "text": [
            "Ahoj\n",
            "Nazdar\n",
            "Čau\n"
          ],
          "name": "stdout"
        }
      ]
    },
    {
      "cell_type": "markdown",
      "metadata": {
        "id": "1exNKrirYXs4"
      },
      "source": [
        "Vzpomínáte na vestavěnou funkci range? Pojďme si ji naimplementovat s jedním parametrem:"
      ]
    },
    {
      "cell_type": "code",
      "metadata": {
        "id": "_rDp8yg_c0G5",
        "colab": {
          "base_uri": "https://localhost:8080/"
        },
        "outputId": "8128aa6b-37d8-4f75-9916-18aed58b9d00"
      },
      "source": [
        "def rozsah(x):\n",
        "  i = 0\n",
        "  while i < x:\n",
        "    yield i\n",
        "    i += 1\n",
        "\n",
        "for x in rozsah(10):\n",
        "  print(x, end=\" \")\n",
        "\n",
        "print() # new line\n",
        "print([x**2 for x in rozsah(10)])\n",
        "\n",
        "print(sum((x**2 for x in rozsah(100))))"
      ],
      "execution_count": null,
      "outputs": [
        {
          "output_type": "stream",
          "text": [
            "0 1 2 3 4 5 6 7 8 9 \n",
            "[0, 1, 4, 9, 16, 25, 36, 49, 64, 81]\n",
            "328350\n"
          ],
          "name": "stdout"
        }
      ]
    },
    {
      "cell_type": "markdown",
      "metadata": {
        "id": "mY2j3jj8fa64"
      },
      "source": [
        "Poznámka: Trochu se nám míchá pojem generátor-objekt a generátor-funkce. V našem případě je `rozsah` generátor-funkce, která pomocí `yield` vytváří generátor-objekt. Když se ale řekne Generátor, je tím  myšlena právě generátor-funkce. Pokud chcete víc detailů, prostudujte si [PEP 255](https://www.python.org/dev/peps/pep-0255/#specification-generators-and-exception-propagation)."
      ]
    },
    {
      "cell_type": "code",
      "metadata": {
        "id": "9DxTSNJ6fbdn",
        "colab": {
          "base_uri": "https://localhost:8080/"
        },
        "outputId": "add202c1-b103-4428-9b83-a890574ccd2c"
      },
      "source": [
        "r = rozsah(10) \n",
        "\n",
        "print(type(rozsah))\n",
        "print(type(r))"
      ],
      "execution_count": null,
      "outputs": [
        {
          "output_type": "stream",
          "text": [
            "<class 'function'>\n",
            "<class 'generator'>\n"
          ],
          "name": "stdout"
        }
      ]
    },
    {
      "cell_type": "markdown",
      "metadata": {
        "id": "XcHiisOgfl_H"
      },
      "source": [
        "Poznámka 2: podívejme se na help ke generátor-objektu `r`:"
      ]
    },
    {
      "cell_type": "code",
      "metadata": {
        "id": "2WQJlQNcftNJ",
        "colab": {
          "base_uri": "https://localhost:8080/"
        },
        "outputId": "3635d0aa-1463-48c9-d8c1-fc18c05167d2"
      },
      "source": [
        "help(r)"
      ],
      "execution_count": null,
      "outputs": [
        {
          "output_type": "stream",
          "text": [
            "Help on generator object:\n",
            "\n",
            "rozsah = class generator(object)\n",
            " |  Methods defined here:\n",
            " |  \n",
            " |  __del__(...)\n",
            " |  \n",
            " |  __getattribute__(self, name, /)\n",
            " |      Return getattr(self, name).\n",
            " |  \n",
            " |  __iter__(self, /)\n",
            " |      Implement iter(self).\n",
            " |  \n",
            " |  __next__(self, /)\n",
            " |      Implement next(self).\n",
            " |  \n",
            " |  __repr__(self, /)\n",
            " |      Return repr(self).\n",
            " |  \n",
            " |  close(...)\n",
            " |      close() -> raise GeneratorExit inside generator.\n",
            " |  \n",
            " |  send(...)\n",
            " |      send(arg) -> send 'arg' into generator,\n",
            " |      return next yielded value or raise StopIteration.\n",
            " |  \n",
            " |  throw(...)\n",
            " |      throw(typ[,val[,tb]]) -> raise exception in generator,\n",
            " |      return next yielded value or raise StopIteration.\n",
            " |  \n",
            " |  ----------------------------------------------------------------------\n",
            " |  Data descriptors defined here:\n",
            " |  \n",
            " |  gi_code\n",
            " |  \n",
            " |  gi_frame\n",
            " |  \n",
            " |  gi_running\n",
            " |  \n",
            " |  gi_yieldfrom\n",
            " |      object being iterated by yield from, or None\n",
            "\n"
          ],
          "name": "stdout"
        }
      ]
    },
    {
      "cell_type": "markdown",
      "metadata": {
        "id": "HJL9ij2PrSaU"
      },
      "source": [
        "Tím se pomalu dostáváme k iterátorům. Nejdřív si ale musíme udělat malou odbočku k třídám."
      ]
    },
    {
      "cell_type": "markdown",
      "metadata": {
        "id": "mEQiD3UEuF8a"
      },
      "source": [
        "# Třídy\n",
        "\n",
        "Na druhém cvičení se nám rozproudila filozofická debata, co je vlastně Python. V emailovém zpravodaji jsem to tehdy uzavřel takto: \n",
        "\n",
        "> Python je od všeho trochu.\n",
        "> \n",
        "> Chcete si psát skripty procedurálním způsobem? Prosím beze všeho, v pythonu můžete. Je to ale procedurální jazyk? No asi ne, když je všechno vlastně objekt.\n",
        ">\n",
        ">Je tedy python objektově orientované programování? Ano, ale je tu spousta ALE. Za všechny například python třídy neumožňují vytvářet privátní metody.\n",
        ">\n",
        ">A co funkcionální programování? No, řekněme, že python je funkcionální pouze částečně. \n",
        ">\n",
        ">Zájemce o řešení filosofické otázky co je vlastně python proto odkazuji na [je python procedurální nebo objektový](https://www.tutorialspoint.com/is-python-object-oriented-or-procedural) a [proč není python vhodný na funkcionální programování](https://stackoverflow.com/questions/1017621/why-isnt-python-very-good-for-functional-programming). Jinými slovy, je to na vás: optimista bude nadšen, že si může vybrat přístup, který se mu zrovna hodí a pesimista bude brblat, že nic to neumí pořádně.\n",
        "\n",
        "Teď je čas to trochu více rozvést.\n",
        "\n",
        "Třídu definujeme v Pythonu pomocí klíčového slova class.\n"
      ]
    },
    {
      "cell_type": "code",
      "metadata": {
        "id": "NG2L_QOgRciv",
        "colab": {
          "base_uri": "https://localhost:8080/"
        },
        "outputId": "884924cf-7307-468f-ab0a-eedbf2c92be6"
      },
      "source": [
        "class Str:\n",
        "  def __init__(self, s=\"\"):\n",
        "    self._s = list(str(s))\n",
        "  \n",
        "  def length(self):\n",
        "    return len(self._s)\n",
        "\n",
        "s = Str(\"ahoj\")\n",
        "\n",
        "help(Str)\n",
        "print(s.length())\n",
        "print(s)\n",
        "s"
      ],
      "execution_count": null,
      "outputs": [
        {
          "output_type": "stream",
          "text": [
            "Help on class Str in module __main__:\n",
            "\n",
            "class Str(builtins.object)\n",
            " |  Str(s='')\n",
            " |  \n",
            " |  Methods defined here:\n",
            " |  \n",
            " |  __init__(self, s='')\n",
            " |      Initialize self.  See help(type(self)) for accurate signature.\n",
            " |  \n",
            " |  length(self)\n",
            " |  \n",
            " |  ----------------------------------------------------------------------\n",
            " |  Data descriptors defined here:\n",
            " |  \n",
            " |  __dict__\n",
            " |      dictionary for instance variables (if defined)\n",
            " |  \n",
            " |  __weakref__\n",
            " |      list of weak references to the object (if defined)\n",
            "\n",
            "4\n",
            "<__main__.Str object at 0x7ff733bdc410>\n"
          ],
          "name": "stdout"
        },
        {
          "output_type": "execute_result",
          "data": {
            "text/plain": [
              "<__main__.Str at 0x7ff733bdc410>"
            ]
          },
          "metadata": {
            "tags": []
          },
          "execution_count": 25
        }
      ]
    },
    {
      "cell_type": "markdown",
      "metadata": {
        "id": "WIdCkefSAo-U"
      },
      "source": [
        "Pythonovské třídy nemají explicitní konstruktory a destruktory. Místo nich se používají metody `__init__` (a `__del__`). Se speciálními objekty jsme se již setkali a víme, že začínají a končí dvěma podtržítky. Třídy navíc můžou mít celou řadu speciálních metod, díky nimž se jejich instance můžou chovat jako proměnné, jako funkce a další. Některé nejzákladnější bych uvedl:\n",
        "\n",
        "`__init__` - konstruktor  \n",
        "`__repr__` - reprezentace objektu  \n",
        "`__str__` - vyjádření objektu jako řetězce      \n",
        "`__int__` - vyjádření objektu jako celého čísla  \n",
        "`__call__` - objekt lze volat jako funkci        \n",
        "`__add__` - implementuje sčítání nad objektem   \n",
        "`__eq__`, `__ne__` - rovnost, nerovnost  \n",
        "`__lt__`,`__le__`,`__gt__`, `__ge__` - porovnání (menší než, menší nebo rovno, větší než, větší nebo rovno)  \n",
        "`__len__` - řeší len(objekt)  \n",
        "`__contains__` - pro objekt lze použít `x in obj`  (objekt se chová jako množina)  \n",
        "`__getitem__`, `__setitem__`, `__delitem__`, `__missing_` - implementuje obj[index] - objekt se bude chovat jako slovník (nebo seznam)\n",
        "\n",
        "Pro kompletní seznam speciálních (magických) metod vás odkáži do [dokumentace](https://docs.python.org/2/reference/datamodel.html#implementing-descriptors).\n"
      ]
    },
    {
      "cell_type": "code",
      "metadata": {
        "id": "y_p8rj5qH2Bj"
      },
      "source": [
        "class String:\n",
        "  def __init__(self, s=\"\"):\n",
        "    self._s=list(str(s))\n",
        "  \n",
        "  def length(self):\n",
        "    return len(self._s)\n",
        "\n",
        "  def __repr__(self):\n",
        "    return \"String '\"+str(self)+\"'\"\n",
        "  \n",
        "  def __str__(self):\n",
        "    return \"\".join(self._s)\n",
        "  \n",
        "  def __int__(self):\n",
        "    return self.length()\n",
        "  \n",
        "  def __call__(self):\n",
        "    print(\"Function call\")\n",
        "    return int(self)\n",
        "  \n",
        "  def __eq__(self, other):\n",
        "    return str(self)==str(other)\n",
        "  \n",
        "  def __len__(self):\n",
        "    return self.length()\n",
        "  \n",
        "  def __contains__(self, x):\n",
        "    return x in self._s\n",
        "  \n",
        "  def __getitem__(self, n):\n",
        "    n = int(n)\n",
        "    return self._s[n]\n",
        "  \n",
        "  def __setitem__(self,n,x):\n",
        "    n = int(n)\n",
        "    x = str(x)\n",
        "    if len(x) == 1:\n",
        "      self._s[n] = x\n",
        "    else: \n",
        "      raise ValueError(\"Only characters can be elements of strings\")"
      ],
      "execution_count": null,
      "outputs": []
    },
    {
      "cell_type": "code",
      "metadata": {
        "id": "cZo6kgyfNG3_",
        "colab": {
          "base_uri": "https://localhost:8080/"
        },
        "outputId": "e7bd8236-7765-4e33-9f28-1ca0d32fb0ab"
      },
      "source": [
        "s = String(\"Ahoj\")\n",
        "# __str__\n",
        "print(s)\n",
        "# __int__\n",
        "print(int(s))\n",
        "# __call__\n",
        "s()\n",
        "# __eq__\n",
        "print(s == \"Ahoj\")\n",
        "# __contains__\n",
        "print(\"h\" in s)\n",
        "# __getitem__\n",
        "print(s[1])\n",
        "# __repr__\n",
        "s"
      ],
      "execution_count": null,
      "outputs": [
        {
          "output_type": "stream",
          "text": [
            "Ahoj\n",
            "4\n",
            "Function call\n",
            "True\n",
            "True\n",
            "h\n"
          ],
          "name": "stdout"
        },
        {
          "output_type": "execute_result",
          "data": {
            "text/plain": [
              "String 'Ahoj'"
            ]
          },
          "metadata": {
            "tags": []
          },
          "execution_count": 29
        }
      ]
    },
    {
      "cell_type": "markdown",
      "metadata": {
        "id": "SGgX2snNZDwA"
      },
      "source": [
        "A konečně, naše reimplementace řetězce je mutable"
      ]
    },
    {
      "cell_type": "code",
      "metadata": {
        "id": "O6qP0s6VNI67",
        "colab": {
          "base_uri": "https://localhost:8080/"
        },
        "outputId": "5e50f0ef-7b27-4b7c-aede-a37894167c7d"
      },
      "source": [
        "s[3] = \"x\"\n",
        "print(s)"
      ],
      "execution_count": null,
      "outputs": [
        {
          "output_type": "stream",
          "text": [
            "Ahox\n"
          ],
          "name": "stdout"
        }
      ]
    },
    {
      "cell_type": "markdown",
      "metadata": {
        "id": "6C9UxuWxanRn"
      },
      "source": [
        "Samozřejmě ale musíme brát v úvahu, že jednotlivé prvky řetězce jsou typu str, tedy immutable."
      ]
    },
    {
      "cell_type": "code",
      "metadata": {
        "id": "Ek9ON2PwNI2A",
        "colab": {
          "base_uri": "https://localhost:8080/"
        },
        "outputId": "3bc29a44-1f60-4eaa-84e9-54426a4d2fcc"
      },
      "source": [
        "for x in s:\n",
        "  x = \"A\"\n",
        "  print(x)\n",
        "\n",
        "print(s)"
      ],
      "execution_count": null,
      "outputs": [
        {
          "output_type": "stream",
          "text": [
            "A\n",
            "A\n",
            "A\n",
            "A\n",
            "Ahox\n"
          ],
          "name": "stdout"
        }
      ]
    },
    {
      "cell_type": "markdown",
      "metadata": {
        "id": "Z_z-sG39bzt2"
      },
      "source": [
        " I to by se dalo obejít, například přes vytvoření datového typu Char (můžete si vyzkoušet sami)"
      ]
    },
    {
      "cell_type": "markdown",
      "metadata": {
        "id": "MIR3Yt-F9N_F"
      },
      "source": [
        "Na závěr kapitoly o třídách bych se chtěl ještě vyjádřit k několika tématům.  \n",
        "\n",
        "**Dědičnost** se chová očekávaným způsobem: "
      ]
    },
    {
      "cell_type": "code",
      "metadata": {
        "id": "AawX1aHeNIss"
      },
      "source": [
        "class New_String(String):\n",
        "  def __call__(self, debug=False):\n",
        "    if debug:\n",
        "      return super().__call__()\n",
        "    return int(self)\n",
        "\n",
        "  @staticmethod\n",
        "  def aaa():\n",
        "    return 42"
      ],
      "execution_count": null,
      "outputs": []
    },
    {
      "cell_type": "code",
      "metadata": {
        "id": "79CKr12FdquU",
        "colab": {
          "base_uri": "https://localhost:8080/"
        },
        "outputId": "479657b4-97cb-42da-a0cb-2eedf0cf573a"
      },
      "source": [
        "s = New_String(\"Ahoj\")\n",
        "# __str__\n",
        "print(s)\n",
        "# __int__\n",
        "print(int(s))\n",
        "# __call__\n",
        "s() # nevypise nic\n",
        "s(True) # zavola puvodni __call__\n",
        "# __eq__\n",
        "print(s==\"Ahoj\")\n",
        "# __contains__\n",
        "print(\"h\" in s)\n",
        "# __getitem__\n",
        "print(s[1])\n",
        "# __repr__\n",
        "s"
      ],
      "execution_count": null,
      "outputs": [
        {
          "output_type": "stream",
          "text": [
            "Ahoj\n",
            "4\n",
            "Function call\n",
            "True\n",
            "True\n",
            "h\n"
          ],
          "name": "stdout"
        },
        {
          "output_type": "execute_result",
          "data": {
            "text/plain": [
              "String 'Ahoj'"
            ]
          },
          "metadata": {
            "tags": []
          },
          "execution_count": 32
        }
      ]
    },
    {
      "cell_type": "markdown",
      "metadata": {
        "id": "4ZWMK_CQgbY6"
      },
      "source": [
        "**Instanční metoda** definuje chování objektu (instance), nikoli třídy. Definice obsahuje parametr self. Všechny metody naší třídy `String` byly instanční metody.\n",
        "\n",
        "**Metoda třídy** definuje chování celé třídy, nikoli objektu. Definice obsahuje parametr `cls` a je uvedena vestavěným dekorátorem `@classmethod`\n",
        "Tato metoda má přístup k proměnné třídy a ke statické metodě, nemá přístup k datům instance.\n",
        "\n",
        "**Statická metoda** je obyčejná funkce, deklarovaná uvnitř třídy. Deklarace je uvedena vestavěným dekorátorem `@staticmethod`. Tato metoda má přístup pouze ke svým vlastním atributům. \n",
        "\n",
        "Pro větší detaily včetně příkladů vás odkáži [na py.cz](http://howto.py.cz/cap12.htm) (odkud jsem bral i výše uvedené definice) nebo na [pěkné shrnutí na StackOverflow](https://stackoverflow.com/questions/136097/difference-between-staticmethod-and-classmethod).\n"
      ]
    },
    {
      "cell_type": "markdown",
      "metadata": {
        "id": "zIr4R7MNlEhK"
      },
      "source": [
        "**Privátní metody** \n",
        "\n",
        "Python jako takový nemá úplně privátní metody. Privátní metody se zavádí tak, že jejich jméno začíná dvěmi a končí maximálně jedním podtržítkem:"
      ]
    },
    {
      "cell_type": "code",
      "metadata": {
        "id": "y3SYkHBinWGa",
        "colab": {
          "base_uri": "https://localhost:8080/",
          "height": 223
        },
        "outputId": "2e5a3a3b-60e7-470e-9822-a652e6a37bf5"
      },
      "source": [
        "class A:\n",
        "  def __private(self):\n",
        "    print(\"Ahoj\")\n",
        "    \n",
        "  def f(self):\n",
        "    self.__private()\n",
        "\n",
        "a = A()\n",
        "a.f()\n",
        "a.__private()"
      ],
      "execution_count": null,
      "outputs": [
        {
          "output_type": "stream",
          "text": [
            "Ahoj\n"
          ],
          "name": "stdout"
        },
        {
          "output_type": "error",
          "ename": "AttributeError",
          "evalue": "ignored",
          "traceback": [
            "\u001b[0;31m---------------------------------------------------------------------------\u001b[0m",
            "\u001b[0;31mAttributeError\u001b[0m                            Traceback (most recent call last)",
            "\u001b[0;32m<ipython-input-33-cbe7e0bdbb79>\u001b[0m in \u001b[0;36m<module>\u001b[0;34m()\u001b[0m\n\u001b[1;32m      8\u001b[0m \u001b[0ma\u001b[0m \u001b[0;34m=\u001b[0m \u001b[0mA\u001b[0m\u001b[0;34m(\u001b[0m\u001b[0;34m)\u001b[0m\u001b[0;34m\u001b[0m\u001b[0;34m\u001b[0m\u001b[0m\n\u001b[1;32m      9\u001b[0m \u001b[0ma\u001b[0m\u001b[0;34m.\u001b[0m\u001b[0mf\u001b[0m\u001b[0;34m(\u001b[0m\u001b[0;34m)\u001b[0m\u001b[0;34m\u001b[0m\u001b[0;34m\u001b[0m\u001b[0m\n\u001b[0;32m---> 10\u001b[0;31m \u001b[0ma\u001b[0m\u001b[0;34m.\u001b[0m\u001b[0m__private\u001b[0m\u001b[0;34m(\u001b[0m\u001b[0;34m)\u001b[0m\u001b[0;34m\u001b[0m\u001b[0;34m\u001b[0m\u001b[0m\n\u001b[0m",
            "\u001b[0;31mAttributeError\u001b[0m: 'A' object has no attribute '__private'"
          ]
        }
      ]
    },
    {
      "cell_type": "markdown",
      "metadata": {
        "id": "xt0uyPz8n_jj"
      },
      "source": [
        "Hurá máme privátní metodu!  \n",
        "\n",
        "Nebo ne?"
      ]
    },
    {
      "cell_type": "code",
      "metadata": {
        "id": "x2U3wvJTn2eN",
        "colab": {
          "base_uri": "https://localhost:8080/"
        },
        "outputId": "7b2d8a33-3e0e-4344-b954-c0b7502bd645"
      },
      "source": [
        "dir(A)"
      ],
      "execution_count": null,
      "outputs": [
        {
          "output_type": "execute_result",
          "data": {
            "text/plain": [
              "['_A__private',\n",
              " '__class__',\n",
              " '__delattr__',\n",
              " '__dict__',\n",
              " '__dir__',\n",
              " '__doc__',\n",
              " '__eq__',\n",
              " '__format__',\n",
              " '__ge__',\n",
              " '__getattribute__',\n",
              " '__gt__',\n",
              " '__hash__',\n",
              " '__init__',\n",
              " '__init_subclass__',\n",
              " '__le__',\n",
              " '__lt__',\n",
              " '__module__',\n",
              " '__ne__',\n",
              " '__new__',\n",
              " '__reduce__',\n",
              " '__reduce_ex__',\n",
              " '__repr__',\n",
              " '__setattr__',\n",
              " '__sizeof__',\n",
              " '__str__',\n",
              " '__subclasshook__',\n",
              " '__weakref__',\n",
              " 'f']"
            ]
          },
          "metadata": {
            "tags": []
          },
          "execution_count": 34
        }
      ]
    },
    {
      "cell_type": "code",
      "metadata": {
        "id": "y0Z9rHBioGk8",
        "colab": {
          "base_uri": "https://localhost:8080/"
        },
        "outputId": "2ca6a251-9d92-449e-8759-c350a5892719"
      },
      "source": [
        "a._A__private()"
      ],
      "execution_count": null,
      "outputs": [
        {
          "output_type": "stream",
          "text": [
            "Ahoj\n"
          ],
          "name": "stdout"
        }
      ]
    },
    {
      "cell_type": "markdown",
      "metadata": {
        "id": "HqIInw9HoM2T"
      },
      "source": [
        "Toto chování bylo do pythonu primárně zaneseno z důvodu korektního chování při dědění tříd:"
      ]
    },
    {
      "cell_type": "code",
      "metadata": {
        "id": "MV4baejLoV7l",
        "colab": {
          "base_uri": "https://localhost:8080/"
        },
        "outputId": "263529d1-32f7-48d4-a0a2-25705206fb6d"
      },
      "source": [
        "class B(A):\n",
        "  def __private(self):\n",
        "    print(\"Čau\")\n",
        "\n",
        "b = B()\n",
        "b.f()\n",
        "b._B__private()\n",
        "b._A__private()"
      ],
      "execution_count": null,
      "outputs": [
        {
          "output_type": "stream",
          "text": [
            "Ahoj\n",
            "Čau\n",
            "Ahoj\n"
          ],
          "name": "stdout"
        }
      ]
    },
    {
      "cell_type": "markdown",
      "metadata": {
        "id": "T6AkoZfFpICo"
      },
      "source": [
        "Více v [dokumentaci](https://docs.python.org/3/tutorial/classes.html#private-variables-and-class-local-references)."
      ]
    },
    {
      "cell_type": "markdown",
      "metadata": {
        "id": "lHcOeAf9wYdN"
      },
      "source": [
        "# Iterátory\n",
        "\n",
        "V minulé kapitole jsme si říkali, že pomocí speciálních (magických) metod můžeme jednoduše přinutit třídu k tomu, aby se její instance chovala jako funkce, nebo jako další objekty.\n",
        "\n",
        "Nepřakvapivě můžeme přinutit třídu, aby se její instance chovala jako generátor. Instance takové třídy je objekt, který nazýváme iterátor.\n",
        "\n",
        "Iterátor vytvoříme pomocí třídy s následujícími magickými metodami:\n",
        "\n",
        "`__iter__` - je volána, kdykoliv je vytvářen nový iterátor.\n",
        "`__next__` - vrací další hodnotu iterátoru\n",
        "\n",
        "poznámka: iterování ukončíme pomocí vyvolání vyjímky `StopIteration`"
      ]
    },
    {
      "cell_type": "code",
      "metadata": {
        "id": "5ouBJJ9Zuy2J",
        "colab": {
          "base_uri": "https://localhost:8080/"
        },
        "outputId": "ad523d0d-efc5-47f7-8c23-1fbc8f8ae39b"
      },
      "source": [
        "class Rozsah:\n",
        "  \n",
        "  def __init__(self, m):\n",
        "    self.i_max = m\n",
        "    self.i = 0\n",
        "  \n",
        "  def __iter__(self):\n",
        "    return self\n",
        "  \n",
        "  def __next__(self):\n",
        "    ret = self.i\n",
        "    self.i += 1\n",
        "    if self.i <= self.i_max:\n",
        "      return ret\n",
        "    raise StopIteration\n",
        "\n",
        "for x in Rozsah(10):\n",
        "  print(x)\n",
        "\n",
        "print('--'*20)\n",
        "r = Rozsah(5)\n",
        "print(next(r), next(r))"
      ],
      "execution_count": null,
      "outputs": [
        {
          "output_type": "stream",
          "text": [
            "0\n",
            "1\n",
            "2\n",
            "3\n",
            "4\n",
            "5\n",
            "6\n",
            "7\n",
            "8\n",
            "9\n",
            "----------------------------------------\n",
            "0 1\n"
          ],
          "name": "stdout"
        }
      ]
    },
    {
      "cell_type": "markdown",
      "metadata": {
        "id": "Z40_SJ0mwR9b"
      },
      "source": [
        "Poznámka: všechny objekty vytvořené pomocí generátorových výrazů i pomocí generátorů jsou Iterátory (mají metody `__iter__` a `__next__` - můžeme ověřit pomocí `dir`)"
      ]
    },
    {
      "cell_type": "code",
      "metadata": {
        "id": "7J0gtayguyxV",
        "colab": {
          "base_uri": "https://localhost:8080/"
        },
        "outputId": "ff2842bd-d0db-4ad0-edd4-9a000c9ee74d"
      },
      "source": [
        "g = (x**2 for x in range(100))\n",
        "dir(g)"
      ],
      "execution_count": null,
      "outputs": [
        {
          "output_type": "execute_result",
          "data": {
            "text/plain": [
              "['__class__',\n",
              " '__del__',\n",
              " '__delattr__',\n",
              " '__dir__',\n",
              " '__doc__',\n",
              " '__eq__',\n",
              " '__format__',\n",
              " '__ge__',\n",
              " '__getattribute__',\n",
              " '__gt__',\n",
              " '__hash__',\n",
              " '__init__',\n",
              " '__init_subclass__',\n",
              " '__iter__',\n",
              " '__le__',\n",
              " '__lt__',\n",
              " '__name__',\n",
              " '__ne__',\n",
              " '__new__',\n",
              " '__next__',\n",
              " '__qualname__',\n",
              " '__reduce__',\n",
              " '__reduce_ex__',\n",
              " '__repr__',\n",
              " '__setattr__',\n",
              " '__sizeof__',\n",
              " '__str__',\n",
              " '__subclasshook__',\n",
              " 'close',\n",
              " 'gi_code',\n",
              " 'gi_frame',\n",
              " 'gi_running',\n",
              " 'gi_yieldfrom',\n",
              " 'send',\n",
              " 'throw']"
            ]
          },
          "metadata": {
            "tags": []
          },
          "execution_count": 39
        }
      ]
    },
    {
      "cell_type": "markdown",
      "metadata": {
        "id": "qEgR-5He2-oG"
      },
      "source": [
        "Úplně poslední poznámka na konec.\n",
        "\n",
        "Na iterátorech je krásně vidět, proč je python tak populární. Potřebujete jednoduchý generátor, který použijete jenom jednou? Použijte generator expressions. Potřebujete stejnou věc trochu složitější a nebo ji chcete používat opakovaně? Generátory (def - yield) jsou tu pro vás. Ale pokud je potřeba, můžete si napsat třídu, jejíž instance bude iterátor, ale zároveň může mít spoustu dalších vlastností.\n",
        "\n",
        "Tento přístup je v pythonu vidět velmi často, dalším příkladem jsou funkce (lambda - definovaná funkce - třída s `__call__` metodou)."
      ]
    }
  ]
}