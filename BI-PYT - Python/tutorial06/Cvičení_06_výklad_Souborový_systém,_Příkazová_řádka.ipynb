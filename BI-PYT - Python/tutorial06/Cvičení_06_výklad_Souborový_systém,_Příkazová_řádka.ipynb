{
 "cells": [
  {
   "cell_type": "markdown",
   "metadata": {
    "id": "-pK4XLfjFiI6"
   },
   "source": [
    "# Souborový systém\n",
    "\n",
    "Přednášky k prostudování zde: \n",
    "\n",
    "[http://vyuka.ookami.cz/materialy/python/files/basics.xml](http://vyuka.ookami.cz/materialy/python/files/basics.xml)\n",
    "\n",
    "[http://vyuka.ookami.cz/materialy/python/files/pathlib.xml](http://vyuka.ookami.cz/materialy/python/files/pathlib.xml)"
   ]
  },
  {
   "cell_type": "markdown",
   "metadata": {
    "id": "xJmjqp_n2Zhn"
   },
   "source": [
    "## Colaboratory\n",
    "\n",
    "A začnu rovnou poznámkou k práci v google colaboratory, kde máte k dispozici celý virtuální stroj. Shellové příkazy se spouští pomocí `!` (platí pro jupyter obecně):"
   ]
  },
  {
   "cell_type": "code",
   "execution_count": null,
   "metadata": {
    "colab": {
     "base_uri": "https://localhost:8080/"
    },
    "id": "5qgUGvqD20bF",
    "outputId": "f00d5a90-04ec-4bb1-de4c-80510cf52cc7"
   },
   "outputs": [
    {
     "name": "stdout",
     "output_type": "stream",
     "text": [
      "\u001b[?1h\u001b=\u001b[H\u001b[2J\u001b[mtop - 12:45:47 up 4 min,  0 users,  load average: 0.06, 0.27, 0.14\u001b[m\u001b[m\u001b[m\u001b[m\u001b[K\n",
      "Tasks:\u001b[m\u001b[m\u001b[1m   7 \u001b[m\u001b[mtotal,\u001b[m\u001b[m\u001b[1m   1 \u001b[m\u001b[mrunning,\u001b[m\u001b[m\u001b[1m   6 \u001b[m\u001b[msleeping,\u001b[m\u001b[m\u001b[1m   0 \u001b[m\u001b[mstopped,\u001b[m\u001b[m\u001b[1m   0 \u001b[m\u001b[mzombie\u001b[m\u001b[m\u001b[m\u001b[m\u001b[K\n",
      "%Cpu(s):\u001b[m\u001b[m\u001b[1m  8.1 \u001b[m\u001b[mus,\u001b[m\u001b[m\u001b[1m  3.7 \u001b[m\u001b[msy,\u001b[m\u001b[m\u001b[1m  0.0 \u001b[m\u001b[mni,\u001b[m\u001b[m\u001b[1m 82.7 \u001b[m\u001b[mid,\u001b[m\u001b[m\u001b[1m  5.4 \u001b[m\u001b[mwa,\u001b[m\u001b[m\u001b[1m  0.0 \u001b[m\u001b[mhi,\u001b[m\u001b[m\u001b[1m  0.0 \u001b[m\u001b[msi,\u001b[m\u001b[m\u001b[1m  0.1 \u001b[m\u001b[mst\u001b[m\u001b[m\u001b[m\u001b[m\u001b[K\n",
      "KiB Mem :\u001b[m\u001b[m\u001b[1m 13333568 \u001b[m\u001b[mtotal,\u001b[m\u001b[m\u001b[1m 10849736 \u001b[m\u001b[mfree,\u001b[m\u001b[m\u001b[1m   541340 \u001b[m\u001b[mused,\u001b[m\u001b[m\u001b[1m  1942492 \u001b[m\u001b[mbuff/cache\u001b[m\u001b[m\u001b[m\u001b[m\u001b[K\n",
      "KiB Swap:\u001b[m\u001b[m\u001b[1m        0 \u001b[m\u001b[mtotal,\u001b[m\u001b[m\u001b[1m        0 \u001b[m\u001b[mfree,\u001b[m\u001b[m\u001b[1m        0 \u001b[m\u001b[mused.\u001b[m\u001b[m\u001b[1m 12508328 \u001b[m\u001b[mavail Mem \u001b[m\u001b[m\u001b[m\u001b[m\u001b[K\n",
      "\u001b[K\n",
      "\u001b[7m    PID USER      PR  NI    VIRT    RES    SHR S  %CPU %MEM     TIME+ COMMAND   \u001b[m\u001b[m\u001b[K\n",
      "\u001b[m     63 root      20   0  690492 114852  31996 S   6.2  0.9   0:01.64 python3   \u001b[m\u001b[m\u001b[K\n",
      "\u001b[m      1 root      20   0  304648  45276  30836 S   0.0  0.3   0:01.05 node      \u001b[m\u001b[m\u001b[K\n",
      "\u001b[m     15 root      20   0   35896   4820   3728 S   0.0  0.0   0:00.54 tail      \u001b[m\u001b[m\u001b[K\n",
      "\u001b[m     51 root      20   0  193896  59716  13452 S   0.0  0.4   0:01.11 jupyter-+ \u001b[m\u001b[m\u001b[K\n",
      "\u001b[m     52 root      20   0  707352   6172   4596 S   0.0  0.0   0:00.01 dap_mult+ \u001b[m\u001b[m\u001b[K\n",
      "\u001b[m     83 root      20   0  127392  14636   5420 S   0.0  0.1   0:00.02 python3   \u001b[m\u001b[m\u001b[K\n",
      "\u001b[m\u001b[1m    107 root      20   0   63188   6724   4996 R   0.0  0.1   0:00.00 top       \u001b[m\u001b[m\u001b[K\n",
      "\u001b[J\u001b[?1l\u001b>\u001b[25;1H\n",
      "\u001b[K-------------------------------------------------------------------------------\n",
      "Filesystem      Size  Used Avail Use% Mounted on\n",
      "overlay         108G   39G   70G  36% /\n",
      "tmpfs            64M     0   64M   0% /dev\n",
      "tmpfs           6.4G     0  6.4G   0% /sys/fs/cgroup\n",
      "shm             5.9G     0  5.9G   0% /dev/shm\n",
      "tmpfs           6.4G   24K  6.4G   1% /var/colab\n",
      "/dev/sda1       114G   40G   75G  35% /etc/hosts\n",
      "tmpfs           6.4G     0  6.4G   0% /proc/acpi\n",
      "tmpfs           6.4G     0  6.4G   0% /proc/scsi\n",
      "tmpfs           6.4G     0  6.4G   0% /sys/firmware\n"
     ]
    }
   ],
   "source": [
    "!top -n 1\n",
    "print(\"-\" * 79)\n",
    "!df -h"
   ]
  },
  {
   "cell_type": "markdown",
   "metadata": {
    "id": "z332yOhu3M0r"
   },
   "source": [
    "Protože po odpojení se všechna data ve virtuálním google colab stroji smažou, můžete si připojit gdrive a práci si průběžně ukládat tam (nejsem si jist, že to bude fungovat i mimo colab, ale lokálně si můžete synchronizovat gdrive jinak):"
   ]
  },
  {
   "cell_type": "code",
   "execution_count": null,
   "metadata": {
    "colab": {
     "base_uri": "https://localhost:8080/"
    },
    "id": "PXLj6WMh5FWC",
    "outputId": "ebf8b421-75c5-4c9e-941c-ee01b0205f2a"
   },
   "outputs": [
    {
     "name": "stdout",
     "output_type": "stream",
     "text": [
      "Mounted at /content/gdrive\n"
     ]
    }
   ],
   "source": [
    "from google.colab import drive\n",
    "# mount GDRIVE\n",
    "drive.mount('/content/gdrive')"
   ]
  },
  {
   "cell_type": "code",
   "execution_count": null,
   "metadata": {
    "colab": {
     "base_uri": "https://localhost:8080/",
     "height": 131
    },
    "id": "IcbHbvik5FRm",
    "outputId": "8fc7188e-a1fe-46a6-d9a4-df02c3b5b194"
   },
   "outputs": [
    {
     "ename": "SyntaxError",
     "evalue": "ignored",
     "output_type": "error",
     "traceback": [
      "\u001b[0;36m  File \u001b[0;32m\"<ipython-input-20-228c763d9d1f>\"\u001b[0;36m, line \u001b[0;32m3\u001b[0m\n\u001b[0;31m    cd '/content/gdrive/My Drive'\u001b[0m\n\u001b[0m                                ^\u001b[0m\n\u001b[0;31mSyntaxError\u001b[0m\u001b[0;31m:\u001b[0m invalid syntax\n"
     ]
    }
   ],
   "source": [
    "# před cd není vykřičník - potřebujeme změnit dir v ipython instanci\n",
    "# viz https://stackoverflow.com/questions/36512527/cd-vs-cd-vs-cd-in-ipython\n",
    "cd '/content/gdrive/My Drive'"
   ]
  },
  {
   "cell_type": "code",
   "execution_count": null,
   "metadata": {
    "colab": {
     "base_uri": "https://localhost:8080/"
    },
    "id": "2FMdGGvHAwER",
    "outputId": "4aba7709-95e8-4d76-b4cc-5afd4ed5cac9"
   },
   "outputs": [
    {
     "name": "stdout",
     "output_type": "stream",
     "text": [
      "anscombe.json\t\t      mnist_test.csv\n",
      "california_housing_test.csv   mnist_train_small.csv\n",
      "california_housing_train.csv  README.md\n"
     ]
    }
   ],
   "source": [
    "# soubory ve vašem GDrive\n",
    "!ls /content/sample_data/"
   ]
  },
  {
   "cell_type": "markdown",
   "metadata": {
    "id": "qeAl6J5F2DXe"
   },
   "source": [
    "## open, readline, read, write a with\n",
    "\n",
    "V následující části jsem čerpal z článku na [RealPython](https://realpython.com/working-with-files-in-python/)\n",
    "\n",
    "\n",
    "![alt text](https://files.realpython.com/media/Practical-Recipes-for-Working-With-Multiple-Files-in-Python_Watermarked.4ff8c72dc712.jpg)\n",
    "\n",
    "Soubor otevřete pomocí vestavěné funkce open:"
   ]
  },
  {
   "cell_type": "code",
   "execution_count": null,
   "metadata": {
    "colab": {
     "base_uri": "https://localhost:8080/"
    },
    "id": "viVv0A1n16CA",
    "outputId": "964554b2-93e1-4ae7-d9da-22f9d6bde900"
   },
   "outputs": [
    {
     "name": "stdout",
     "output_type": "stream",
     "text": [
      "\"longitude\",\"latitude\",\"housing_median_age\",\"total_rooms\",\"total_bedrooms\",\"population\",\"households\",\"median_income\",\"median_house_value\"\n",
      "-122.050000,37.370000,27.000000,3885.000000,661.000000,1537.000000,606.000000,6.608500,344700.000000\n",
      "-118.300000,34.260000,43.000000,1510.000000,310.000000,809.000000,277.000000,3.599000,176500.000000\n",
      "-117.810000,33.780000,27.000000,3589.000000,507.000000,1484.000000,495.000000,5.793400,270500.000000\n",
      "-118.360000,33.820000,28.000000,67.000000,15.000000,49.000000,11.000000,6.135900,330000.000000\n",
      "-119.670000,36.330000,19.000000,1241.000000,244.000000,850.000000,237.000000,2.937500,81700.000000\n",
      "-119.560000,36.510000,37.000000,1018.000000,213.000000,663.000000,204.000000,1.663500,67000.000000\n",
      "-121.430000,38.630000,43.000000,1009.000000,225.000000,604.000000,218.000000,1.664100,67000.000000\n",
      "-120.650000,35.480000,19.000000,2310.000000,471.000000,1341.000000,441.000000,3.225000,166900.000000\n",
      "-122.840000,38.400000,15.000000,3080.000000,617.000000,1446.000000,599.000000,3.669600,194400.000000\n"
     ]
    }
   ],
   "source": [
    "# otevřu soubor\n",
    "# pokud nepouštíte v colaboratory, použijte libovolný textový soubor\n",
    "file = open(\"/content/sample_data/california_housing_test.csv\", mode=\"rt\", encoding=\"utf-8\")\n",
    "\n",
    "# pracuji se souborem po jedotlivých řádcích\n",
    "for i in range(10):\n",
    "  line = file.readline() #readline načte jednu řádku textového souboru\n",
    "  print(line, end=\"\")\n",
    "\n",
    "# uzavřu soubor\n",
    "file.close()"
   ]
  },
  {
   "cell_type": "markdown",
   "metadata": {
    "id": "kBwvz_R4YFIh"
   },
   "source": [
    "`open` - `close` lze nahradit klauzulí with:"
   ]
  },
  {
   "cell_type": "code",
   "execution_count": null,
   "metadata": {
    "colab": {
     "base_uri": "https://localhost:8080/"
    },
    "id": "Rxh4IHDFFgfl",
    "outputId": "b8f71310-d7b1-4c51-8ab0-6c89977af928"
   },
   "outputs": [
    {
     "name": "stdout",
     "output_type": "stream",
     "text": [
      "\"longitude\",\"latitude\",\"housing_median_age\",\"total_rooms\",\"total_bedrooms\",\"population\",\"households\",\"median_income\",\"median_house_value\"\n",
      "-122.050000,37.370000,27.000000,3885.000000,661.000000,1537.000000,606.000000,6.608500,344700.000000\n",
      "-118.300000,34.260000,43.000000,1510.000000,310.000000,809.000000,277.000000,3.599000,176500.000000\n",
      "-117.810000,33.780000,27.000000,3589.000000,507.000000,1484.000000,495.000000,5.793400,270500.000000\n",
      "-118.360000,33.820000,28.000000,67.000000,15.000000,49.000000,11.000000,6.135900,330000.000000\n",
      "-119.670000,36.330000,19.000000,1241.000000,244.000000,850.000000,237.000000,2.937500,81700.000000\n",
      "-119.560000,36.510000,37.000000,1018.000000,213.000000,663.000000,204.000000,1.663500,67000.000000\n",
      "-121.430000,38.630000,43.000000,1009.000000,225.000000,604.000000,218.000000,1.664100,67000.000000\n",
      "-120.650000,35.480000,19.000000,2310.000000,471.000000,1341.000000,441.000000,3.225000,166900.000000\n",
      "-122.840000,38.400000,15.000000,3080.000000,617.000000,1446.000000,599.000000,3.669600,194400.000000\n"
     ]
    }
   ],
   "source": [
    "with open(\"/content/sample_data/california_housing_test.csv\", mode=\"rt\", encoding=\"utf-8\") as file:\n",
    "  test = file.read() # načte celý soubor do stringu\n",
    "\n",
    "lines = test.split()\n",
    "print(\"\\n\".join(lines[:10]))"
   ]
  },
  {
   "cell_type": "markdown",
   "metadata": {
    "id": "4S3lqh0XZI5k"
   },
   "source": [
    "Podstatné je, že při použití with nemusím soubor zavírat. Funkce `open` totiž vrací objekt, který má definované magické metody `__enter__` a `__exit__`, díky nimž umí nahradit následující `try`/`finally` block. `with` tedy soubor po projití bloku kódu zase uzavře."
   ]
  },
  {
   "cell_type": "code",
   "execution_count": null,
   "metadata": {
    "colab": {
     "base_uri": "https://localhost:8080/",
     "height": 207
    },
    "id": "-05nPsHFb_Fv",
    "outputId": "618b574c-a747-4344-c3c4-1ba48fe263d2"
   },
   "outputs": [
    {
     "name": "stdout",
     "output_type": "stream",
     "text": [
      "\"longitude\",\"latitude\",\"housing_median_age\",\"total_rooms\",\"total_bedrooms\",\"population\",\"households\",\"median_income\",\"median_house_value\"\n",
      "-122.050000,37.370000,27.000000,3885.000000,661.000000,1537.000000,606.000000,6.608500,344700.000000\n",
      "-118.300000,34.260000,43.000000,1510.000000,310.000000,809.000000,277.000000,3.599000,176500.000000\n",
      "-117.810000,33.780000,27.000000,3589.000000,507.000000,1484.000000,495.000000,5.793400,270500.000000\n",
      "-118.360000,33.820000,28.000000,67.000000,15.000000,49.000000,11.000000,6.135900,330000.000000\n",
      "-119.670000,36.330000,19.000000,1241.000000,244.000000,850.000000,237.000000,2.937500,81700.000000\n",
      "-119.560000,36.510000,37.000000,1018.000000,213.000000,663.000000,204.000000,1.663500,67000.000000\n",
      "-121.430000,38.630000,43.000000,1009.000000,225.000000,604.000000,218.000000,1.664100,67000.000000\n",
      "-120.650000,35.480000,19.000000,2310.000000,471.000000,1341.000000,441.000000,3.225000,166900.000000\n",
      "-122.840000,38.400000,15.000000,3080.000000,617.000000,1446.000000,599.000000,3.669600,194400.000000\n"
     ]
    }
   ],
   "source": [
    "# ekvivalentní with výše\n",
    "file = open(\"/content/sample_data/california_housing_test.csv\", mode=\"rt\", encoding=\"utf-8\")\n",
    "try:\n",
    "  test = file.read() # načte celý soubor do stringu\n",
    "finally:\n",
    "  file.close()\n",
    "\n",
    "lines = test.split()\n",
    "print(\"\\n\".join(lines[:10]))"
   ]
  },
  {
   "cell_type": "markdown",
   "metadata": {
    "id": "v_5762eqciUX"
   },
   "source": [
    "`with` tedy můžeme brát jako další příklad syntaktického cukru v jazyce python."
   ]
  },
  {
   "cell_type": "markdown",
   "metadata": {
    "id": "WajzH0Xnc9vb"
   },
   "source": [
    "Pokud chceme zapisovat do souboru, použijeme metodu `write`"
   ]
  },
  {
   "cell_type": "code",
   "execution_count": null,
   "metadata": {
    "id": "0FSiFpZ4dzgm"
   },
   "outputs": [],
   "source": [
    "with open(\"/content/bin.txt\", mode=\"wt\", encoding=\"utf-8\") as file:\n",
    "  file.write(\"First line\")\n",
    "  file.write(\"(adding something to line 1)\")\n",
    "  file.write(\"\\n\")\n",
    "  file.write(\"Second line\")"
   ]
  },
  {
   "cell_type": "code",
   "execution_count": null,
   "metadata": {
    "colab": {
     "base_uri": "https://localhost:8080/"
    },
    "id": "njL8K7UveP7T",
    "outputId": "1ef190bd-94a6-48c8-f746-a832e5bdb1db"
   },
   "outputs": [
    {
     "name": "stdout",
     "output_type": "stream",
     "text": [
      "First line(adding something to line 1)\n",
      "Second line"
     ]
    }
   ],
   "source": [
    "!cat /content/bin.txt"
   ]
  },
  {
   "cell_type": "markdown",
   "metadata": {
    "id": "W733AUbFQMrs"
   },
   "source": [
    "Pozor, `write` očekává právě jeden argument:"
   ]
  },
  {
   "cell_type": "code",
   "execution_count": null,
   "metadata": {
    "colab": {
     "base_uri": "https://localhost:8080/",
     "height": 198
    },
    "id": "mdlNDJwmQFnD",
    "outputId": "5f70546b-9731-4112-fdce-ad62f29c650e"
   },
   "outputs": [
    {
     "ename": "TypeError",
     "evalue": "ignored",
     "output_type": "error",
     "traceback": [
      "\u001b[0;31m---------------------------------------------------------------------------\u001b[0m",
      "\u001b[0;31mTypeError\u001b[0m                                 Traceback (most recent call last)",
      "\u001b[0;32m<ipython-input-29-901d6fe45369>\u001b[0m in \u001b[0;36m<module>\u001b[0;34m()\u001b[0m\n\u001b[1;32m      1\u001b[0m \u001b[0;32mwith\u001b[0m \u001b[0mopen\u001b[0m\u001b[0;34m(\u001b[0m\u001b[0;34m\"/content/bin.txt\"\u001b[0m\u001b[0;34m,\u001b[0m \u001b[0mmode\u001b[0m\u001b[0;34m=\u001b[0m\u001b[0;34m\"wt\"\u001b[0m\u001b[0;34m,\u001b[0m \u001b[0mencoding\u001b[0m\u001b[0;34m=\u001b[0m\u001b[0;34m\"utf-8\"\u001b[0m\u001b[0;34m)\u001b[0m \u001b[0;32mas\u001b[0m \u001b[0mfile\u001b[0m\u001b[0;34m:\u001b[0m\u001b[0;34m\u001b[0m\u001b[0;34m\u001b[0m\u001b[0m\n\u001b[0;32m----> 2\u001b[0;31m   \u001b[0mfile\u001b[0m\u001b[0;34m.\u001b[0m\u001b[0mwrite\u001b[0m\u001b[0;34m(\u001b[0m\u001b[0;34m\"First line\"\u001b[0m\u001b[0;34m,\u001b[0m\u001b[0;34m\"\\n\"\u001b[0m\u001b[0;34m,\u001b[0m\u001b[0;34m\"second line\"\u001b[0m\u001b[0;34m)\u001b[0m\u001b[0;34m\u001b[0m\u001b[0;34m\u001b[0m\u001b[0m\n\u001b[0m\u001b[1;32m      3\u001b[0m \u001b[0;34m\u001b[0m\u001b[0m\n",
      "\u001b[0;31mTypeError\u001b[0m: write() takes exactly one argument (3 given)"
     ]
    }
   ],
   "source": [
    "with open(\"/content/bin.txt\", mode=\"wt\", encoding=\"utf-8\") as file:\n",
    "  file.write(\"First line\",\"\\n\",\"second line\")\n",
    "  "
   ]
  },
  {
   "cell_type": "markdown",
   "metadata": {
    "id": "klZLVoLzegO-"
   },
   "source": [
    "## pathlib.Path, is_dir, is_file\n",
    "\n",
    "Pro práci s adresáři se používá modul `pathlib`. Prohlížení adresářů:"
   ]
  },
  {
   "cell_type": "markdown",
   "metadata": {
    "id": "TLgvFiaeUJWU"
   },
   "source": []
  },
  {
   "cell_type": "code",
   "execution_count": null,
   "metadata": {
    "colab": {
     "base_uri": "https://localhost:8080/"
    },
    "id": "AuXn1vKtfGrw",
    "outputId": "a91cabcf-97c4-4b48-df0d-a46e345ca430"
   },
   "outputs": [
    {
     "name": "stdout",
     "output_type": "stream",
     "text": [
      "vypis vsech objektu\n",
      "/content/.config\n",
      "/content/time_series_covid19_confirmed_global.csv\n",
      "/content/gdrive\n",
      "/content/bin.txt\n",
      "/content/sample_data\n",
      "\n",
      "vypis vsech adresaru\n",
      "/content/.config\n",
      "/content/gdrive\n",
      "/content/sample_data\n",
      "\n",
      "vypis vsech souboru\n",
      "/content/time_series_covid19_confirmed_global.csv\n",
      "/content/bin.txt\n"
     ]
    }
   ],
   "source": [
    "import pathlib\n",
    "\n",
    "my_dir = pathlib.Path('/content')\n",
    "\n",
    "print(\"vypis vsech objektu\")\n",
    "for entry in my_dir.iterdir():\n",
    "  print(entry)\n",
    "print()\n",
    "\n",
    "print(\"vypis vsech adresaru\")\n",
    "for entry in my_dir.iterdir():\n",
    "  if entry.is_dir():\n",
    "    print(entry)\n",
    "print()\n",
    "\n",
    "print(\"vypis vsech souboru\")\n",
    "for entry in my_dir.iterdir():\n",
    "  if entry.is_file():\n",
    "    print(entry)"
   ]
  },
  {
   "cell_type": "code",
   "execution_count": null,
   "metadata": {
    "colab": {
     "base_uri": "https://localhost:8080/"
    },
    "id": "_udrQBE8zJrW",
    "outputId": "cdd8941f-9ead-409e-ce64-93730d81a80f"
   },
   "outputs": [
    {
     "data": {
      "text/plain": [
       "4096"
      ]
     },
     "execution_count": 44,
     "metadata": {
      "tags": []
     },
     "output_type": "execute_result"
    }
   ],
   "source": [
    "my_dir.stat().st_size"
   ]
  },
  {
   "cell_type": "markdown",
   "metadata": {
    "id": "FlRnTiVhe1GB"
   },
   "source": [
    "## Příklad zpracování online open dat\n",
    "\n",
    "Jako ukázku pro práci se soubory jsem připravil stažení, zpracování a vizualizaci otevřených dat o potvrzených případech COVID19. Data jsou z [CSSEGISandData@github](https://github.com/CSSEGISandData/COVID-19/blob/master/csse_covid_19_data/csse_covid_19_time_series/time_series_covid19_confirmed_global.csv). Samozřejmě v praxi by se asi použil `csv.reader()`, ale zde je cílem demonstrovat práci se souborem..."
   ]
  },
  {
   "cell_type": "code",
   "execution_count": null,
   "metadata": {
    "colab": {
     "base_uri": "https://localhost:8080/"
    },
    "id": "1r1JAfg1Ra-s",
    "outputId": "8767a821-8d77-4566-e92a-88a79d032b21"
   },
   "outputs": [
    {
     "name": "stdout",
     "output_type": "stream",
     "text": [
      "--2020-11-02 11:10:09--  https://raw.githubusercontent.com/CSSEGISandData/COVID-19/master/csse_covid_19_data/csse_covid_19_time_series/time_series_covid19_confirmed_global.csv\n",
      "Resolving raw.githubusercontent.com (raw.githubusercontent.com)... 151.101.0.133, 151.101.64.133, 151.101.128.133, ...\n",
      "Connecting to raw.githubusercontent.com (raw.githubusercontent.com)|151.101.0.133|:443... connected.\n",
      "HTTP request sent, awaiting response... 200 OK\n",
      "Length: 326520 (319K) [text/plain]\n",
      "Saving to: ‘time_series_covid19_confirmed_global.csv’\n",
      "\n",
      "\r",
      "          time_seri   0%[                    ]       0  --.-KB/s               \r",
      "time_series_covid19 100%[===================>] 318.87K  --.-KB/s    in 0.06s   \n",
      "\n",
      "2020-11-02 11:10:09 (5.00 MB/s) - ‘time_series_covid19_confirmed_global.csv’ saved [326520/326520]\n",
      "\n"
     ]
    }
   ],
   "source": [
    "!rm -f time_series_covid19_confirmed_global.csv || true\n",
    "!wget https://raw.githubusercontent.com/CSSEGISandData/COVID-19/master/csse_covid_19_data/csse_covid_19_time_series/time_series_covid19_confirmed_global.csv"
   ]
  },
  {
   "cell_type": "code",
   "execution_count": null,
   "metadata": {
    "id": "33y3ecjORljg"
   },
   "outputs": [],
   "source": [
    "with open('time_series_covid19_confirmed_global.csv', mode='rt', encoding='utf-8') as file:\n",
    "  line = file.readline()[:-1] # remove \\n from end of the line\n",
    "  header = line.split(',') \n",
    "  max_date = header[-1]\n",
    "  categories = {val:index for index,val in enumerate(header)}\n",
    "  data = []\n",
    "  for line in file:\n",
    "    if '\"' in line: # some countries have \",\" in their name - this deals with it\n",
    "      i,j=[x for x in range(len(line)) if line[x]=='\"']\n",
    "      k,=[x for x in range(i,j) if line[x]==',']\n",
    "      line=\"\".join((line[:i],line[i+1:k],line[k+1:j],line[j+1:]))\n",
    "    row = line[:-1].split(',')\n",
    "    data.append(row)"
   ]
  },
  {
   "cell_type": "code",
   "execution_count": null,
   "metadata": {
    "id": "Igafyhw8nEE8"
   },
   "outputs": [],
   "source": [
    "def get_data(data, country, region=\"\"):\n",
    "  \"\"\"Extracts data for single country\"\"\"\n",
    "  return [x[4:] for x in data if x[categories['Country/Region']]==country and x[categories['Province/State']]==region][0]\n",
    "\n",
    "def get_series(data, tresh):\n",
    "  \"\"\"Adjusts data only after start of epidemics\"\"\"\n",
    "  return [int(x) for x in data if int(x)>tresh]"
   ]
  },
  {
   "cell_type": "code",
   "execution_count": null,
   "metadata": {
    "colab": {
     "base_uri": "https://localhost:8080/",
     "height": 542
    },
    "id": "uxa4fIoadr6g",
    "outputId": "fa55ba47-b064-4bc8-e5ee-7d55d6a1f021"
   },
   "outputs": [
    {
     "data": {
      "text/html": [
       "<html>\n",
       "<head><meta charset=\"utf-8\" /></head>\n",
       "<body>\n",
       "    <div>\n",
       "            <script src=\"https://cdnjs.cloudflare.com/ajax/libs/mathjax/2.7.5/MathJax.js?config=TeX-AMS-MML_SVG\"></script><script type=\"text/javascript\">if (window.MathJax) {MathJax.Hub.Config({SVG: {font: \"STIX-Web\"}});}</script>\n",
       "                <script type=\"text/javascript\">window.PlotlyConfig = {MathJaxConfig: 'local'};</script>\n",
       "        <script src=\"https://cdn.plot.ly/plotly-latest.min.js\"></script>    \n",
       "            <div id=\"019bc1f7-4c28-4c4e-beeb-9a0b52ddc9d2\" class=\"plotly-graph-div\" style=\"height:525px; width:100%;\"></div>\n",
       "            <script type=\"text/javascript\">\n",
       "                \n",
       "                    window.PLOTLYENV=window.PLOTLYENV || {};\n",
       "                    \n",
       "                if (document.getElementById(\"019bc1f7-4c28-4c4e-beeb-9a0b52ddc9d2\")) {\n",
       "                    Plotly.newPlot(\n",
       "                        '019bc1f7-4c28-4c4e-beeb-9a0b52ddc9d2',\n",
       "                        [{\"name\": \"Italy\", \"type\": \"scatter\", \"y\": [155, 229, 322, 453, 655, 888, 1128, 1694, 2036, 2502, 3089, 3858, 4636, 5883, 7375, 9172, 10149, 12462, 15113, 17660, 21157, 24747, 27980, 31506, 35713, 41035, 47021, 53578, 59138, 63927, 69176, 74386, 80589, 86498, 92472, 97689, 101739, 105792, 110574, 115242, 119827, 124632, 128948, 132547, 135586, 139422, 143626, 147577, 152271, 156363, 159516, 162488, 165155, 168941, 172434, 175925, 178972, 181228, 183957, 187327, 189973, 192994, 195351, 197675, 199414, 201505, 203591, 205463, 207428, 209328, 210717, 211938, 213013, 214457, 215858, 217185, 218268, 219070, 219814, 221216, 222104, 223096, 223885, 224760, 225435, 225886, 226699, 227364, 228006, 228658, 229327, 229858, 230158, 230555, 231139, 231732, 232248, 232664, 232997, 233197, 233515, 233836, 234013, 234531, 234801, 234998, 235278, 235561, 235763, 236142, 236305, 236651, 236989, 237290, 237500, 237828, 238159, 238011, 238275, 238499, 238720, 238833, 239410, 239706, 239961, 240136, 240310, 240436, 240578, 240760, 240961, 241184, 241419, 241611, 241819, 241956, 242149, 242363, 242639, 242827, 243061, 243230, 243344, 243506, 243736, 243967, 244216, 244434, 244624, 244752, 245032, 245338, 245590, 245864, 246118, 246286, 246488, 246776, 247158, 247537, 247832, 248070, 248229, 248419, 248803, 249204, 249756, 250103, 250566, 250825, 251237, 251713, 252235, 252809, 253438, 253915, 254235, 254636, 255278, 256118, 257065, 258136, 259345, 260298, 261174, 262540, 263949, 265409, 266853, 268218, 269214, 270189, 271515, 272912, 274644, 276338, 277634, 278784, 280153, 281583, 283180, 284796, 286297, 287753, 288761, 289990, 291442, 293025, 294932, 296569, 298156, 299506, 300897, 302537, 304323, 306235, 308104, 309870, 311364, 313011, 314861, 317409, 319908, 322751, 325329, 327586, 330263, 333940, 338398, 343770, 349494, 354950, 359569, 365467, 372799, 381602, 391611, 402536, 414241, 423578, 434449, 449648, 465726, 484869, 504509, 525782, 542789, 564778, 589766, 616595, 647674, 679430, 709335]}, {\"name\": \"Czech Republic\", \"type\": \"scatter\", \"y\": [141, 189, 253, 298, 396, 464, 694, 833, 995, 1120, 1236, 1394, 1654, 1925, 2279, 2631, 2817, 3001, 3308, 3508, 3858, 4091, 4472, 4587, 4822, 5017, 5312, 5569, 5732, 5831, 5991, 6059, 6111, 6216, 6433, 6549, 6606, 6746, 6900, 7033, 7132, 7187, 7273, 7352, 7404, 7445, 7504, 7579, 7682, 7737, 7755, 7781, 7819, 7896, 7974, 8031, 8077, 8095, 8123, 8176, 8221, 8269, 8351, 8406, 8455, 8475, 8586, 8647, 8721, 8754, 8813, 8890, 8955, 9002, 9050, 9086, 9140, 9196, 9230, 9268, 9302, 9364, 9438, 9494, 9529, 9567, 9628, 9697, 9751, 9824, 9855, 9938, 9991, 10024, 10064, 10111, 10162, 10280, 10406, 10448, 10498, 10523, 10650, 10777, 10870, 11038, 11298, 11603, 11805, 11954, 12046, 12178, 12319, 12440, 12515, 12566, 12685, 12814, 12919, 13001, 13115, 13174, 13238, 13341, 13475, 13612, 13742, 13855, 13945, 14098, 14324, 14570, 14800, 15081, 15212, 15324, 15516, 15799, 16093, 16371, 16574, 16699, 16800, 17008, 17286, 17529, 17731, 18060, 18235, 18353, 18494, 18783, 19075, 19401, 19693, 19891, 20012, 20202, 20483, 20798, 21045, 21551, 21790, 21923, 22181, 22548, 22951, 23169, 23777, 24094, 24367, 24618, 25117, 25773, 26452, 27249, 27752, 28156, 28716, 29877, 31036, 32413, 33860, 35401, 36188, 37222, 38896, 41032, 44155, 46262, 48306, 49290, 50764, 53158, 55464, 58374, 61318, 63294, 64597, 65883, 67843, 70763, 74255, 78051, 80605, 82446, 85566, 90022, 95360, 100757, 109374, 114005, 117110, 121421, 129747, 139290, 149010, 160112, 168827, 173885, 181962, 193946, 208915, 223065, 238323, 250797, 258097, 268370, 284033, 297013, 310068, 323673, 335102, 341644]}, {\"name\": \"Germany\", \"type\": \"scatter\", \"y\": [130, 159, 196, 262, 482, 670, 799, 1040, 1176, 1457, 1908, 2078, 3675, 4585, 5795, 7272, 9257, 12327, 15320, 19848, 22213, 24873, 29056, 32986, 37323, 43938, 50871, 57695, 62095, 66885, 71808, 77872, 84794, 91159, 96092, 100123, 103374, 107663, 113296, 118181, 122171, 124908, 127854, 130072, 131359, 134753, 137698, 141397, 143342, 145184, 147065, 148291, 150648, 153129, 154999, 156513, 157770, 158758, 159912, 161539, 163009, 164077, 164967, 165664, 166152, 167007, 168162, 169430, 170588, 171324, 171879, 172576, 173171, 174098, 174478, 175233, 175752, 176369, 176551, 177778, 178473, 179021, 179710, 179986, 180328, 180600, 181200, 181524, 182196, 182922, 183189, 183410, 183594, 183879, 184121, 184472, 184924, 185450, 185750, 186109, 186506, 186522, 186691, 187226, 187267, 187518, 187682, 188252, 188604, 189817, 190299, 190670, 191272, 191768, 192480, 192871, 193371, 194036, 194458, 194693, 195042, 195418, 195893, 196370, 196780, 197198, 197523, 198064, 198343, 198699, 199001, 199332, 199709, 199919, 200180, 200456, 200890, 201450, 202045, 202426, 202735, 203325, 203717, 204276, 204881, 205623, 206278, 206667, 207112, 207707, 208546, 209535, 210399, 211005, 211220, 212111, 212828, 214113, 215039, 216196, 216903, 217288, 218508, 219540, 220859, 222281, 223791, 224488, 225007, 226700, 228120, 229706, 231292, 233029, 233861, 234494, 236122, 237583, 239010, 240571, 242126, 242835, 243305, 244802, 246015, 247411, 248840, 250283, 251058, 251728, 253626, 254957, 256433, 258149, 259735, 260817, 261737, 263222, 265014, 266869, 269048, 271247, 272932, 273965, 275560, 277412, 279025, 281346, 283712, 285026, 286339, 288631, 290471, 292913, 295539, 298374, 300027, 301573, 304673, 307127, 311137, 315941, 320495, 323463, 326309, 332850, 337314, 344487, 352107, 359802, 364664, 368671, 377068, 385591, 397922, 403874, 426110, 434798, 437698, 450258, 463419, 486972, 498354, 517736, 531790, 552060]}, {\"name\": \"Austria\", \"type\": \"scatter\", \"y\": [104, 131, 182, 246, 302, 504, 655, 860, 1018, 1332, 1646, 2013, 2388, 2814, 3582, 4474, 5283, 5588, 6909, 7657, 8271, 8788, 9618, 10180, 10711, 11129, 11524, 11781, 12051, 12297, 12639, 12942, 13244, 13555, 13806, 13945, 14041, 14226, 14336, 14476, 14595, 14671, 14749, 14795, 14873, 14925, 15002, 15071, 15148, 15225, 15274, 15357, 15402, 15452, 15531, 15558, 15597, 15621, 15650, 15684, 15752, 15774, 15833, 15871, 15882, 15961, 15997, 16058, 16109, 16201, 16242, 16269, 16321, 16353, 16404, 16436, 16486, 16503, 16539, 16557, 16591, 16628, 16655, 16685, 16731, 16733, 16759, 16771, 16805, 16843, 16898, 16902, 16968, 16979, 17005, 17034, 17064, 17078, 17109, 17135, 17189, 17203, 17223, 17271, 17323, 17341, 17380, 17408, 17449, 17477, 17522, 17580, 17654, 17723, 17766, 17873, 17941, 18050, 18165, 18280, 18365, 18421, 18513, 18615, 18709, 18783, 18897, 18948, 19021, 19154, 19270, 19439, 19573, 19655, 19743, 19827, 19929, 20099, 20214, 20338, 20472, 20558, 20677, 20850, 20955, 21130, 21212, 21304, 21385, 21481, 21566, 21696, 21837, 21919, 22033, 22106, 22245, 22439, 22594, 22876, 23179, 23370, 23534, 23829, 24084, 24431, 24762, 25062, 25253, 25495, 25706, 26033, 26361, 26590, 26985, 27166, 27438, 27642, 27969, 28372, 28729, 29087, 29271, 29561, 30081, 30583, 31247, 31827, 32696, 33159, 33541, 34305, 35073, 35853, 36661, 37474, 38095, 38658, 39303, 39984, 40816, 41500, 42214, 42876, 43432, 44041, 44813, 45686, 46374, 47432, 48146, 48896, 49819, 50848, 52057, 53188, 54423, 55319, 56298, 57326, 58672, 60224, 61387, 63134, 64806, 65927, 67451, 69409, 71844, 74415, 78029, 80811, 83267, 86102, 89496, 93949, 99576, 104925, 109881]}, {\"name\": \"Britain\", \"type\": \"scatter\", \"y\": [134, 189, 245, 294, 373, 428, 482, 629, 887, 1298, 1787, 2266, 2630, 3072, 3684, 4452, 5451, 6506, 7760, 8957, 10333, 12668, 15039, 17732, 20816, 24017, 26839, 29696, 33969, 38484, 43398, 48263, 53178, 57198, 60792, 66067, 71517, 76646, 81498, 85813, 89390, 92885, 97068, 101393, 106458, 111756, 116721, 121437, 125289, 130147, 134907, 140397, 145540, 150513, 154261, 157729, 162431, 167152, 172587, 177543, 182270, 185491, 188465, 191843, 195527, 199358, 203125, 206174, 208324, 210645, 214228, 217617, 220915, 223524, 226041, 228106, 229932, 232506, 235547, 238253, 240795, 242825, 244332, 245680, 247287, 248937, 250739, 252473, 253977, 255076, 256145, 257579, 259046, 260388, 261622, 262727, 263518, 264235, 265321, 266474, 267656, 268657, 269710, 270597, 271404, 272430, 273507, 274504, 275524, 276504, 277170, 277792, 278684, 279566, 280340, 281037, 281675, 282308, 282703, 283307, 283710, 283770, 283774, 284276, 284900, 285416, 285768, 286349, 286979, 287621, 288133, 288953, 289603, 290133, 291373, 291911, 292552, 293239, 294066, 294792, 295372, 295817, 296377, 297146, 297914, 298681, 299426, 300111, 300658, 301455, 302301, 303181, 303942, 304685, 305623, 306293, 307184, 308134, 309005, 309763, 310825, 311641, 312789, 313798, 314927, 316367, 317379, 318484, 319197, 320286, 321098, 322280, 323313, 324601, 325642, 326614, 327798, 328846, 330368, 331644, 332752, 334467, 335873, 337168, 338676, 340411, 342351, 344164, 347152, 350100, 352560, 355219, 358138, 361677, 365174, 368504, 371125, 374228, 378219, 381614, 385936, 390358, 394257, 398625, 403551, 409729, 416363, 423236, 429277, 434969, 439013, 446156, 453264, 460178, 467146, 480017, 502978, 515571, 530113, 544275, 561815, 575679, 590844, 603716, 617688, 634920, 654644, 673622, 689257, 705428, 722409, 741212, 762542, 789229, 810467, 830998, 854010, 873800, 894690, 917575, 942275, 965340, 989745, 1011660, 1034914]}, {\"name\": \"U.S.A.\", \"type\": \"scatter\", \"y\": [107, 184, 237, 403, 519, 594, 782, 1147, 1586, 2219, 2978, 3212, 4679, 6512, 9169, 13663, 20030, 26025, 34832, 46052, 56629, 68663, 86556, 105196, 124793, 143724, 165733, 192101, 217920, 248309, 280306, 313304, 341489, 371675, 403073, 435089, 469738, 503274, 532632, 559591, 585382, 613973, 643981, 675504, 708310, 736161, 761842, 790264, 816302, 845599, 879030, 912596, 944397, 971497, 994670, 1019344, 1047189, 1076694, 1110914, 1138916, 1163418, 1186820, 1211383, 1236530, 1264321, 1291203, 1316172, 1335028, 1354477, 1377233, 1398200, 1425513, 1450808, 1474826, 1492945, 1514960, 1535992, 1559501, 1585166, 1608604, 1629802, 1649916, 1668235, 1687761, 1706351, 1729299, 1753651, 1777495, 1796670, 1814034, 1835408, 1855386, 1877125, 1902294, 1924132, 1941920, 1959448, 1977820, 1998646, 2021853, 2046724, 2071989, 2091366, 2111291, 2135088, 2160997, 2189189, 2220514, 2252770, 2278879, 2309366, 2345163, 2379622, 2420178, 2465501, 2507859, 2547213, 2587902, 2634076, 2685400, 2740521, 2793083, 2838831, 2888814, 2933464, 2993626, 3052808, 3116085, 3183803, 3243969, 3302870, 3362351, 3429328, 3496956, 3574334, 3646355, 3709118, 3770410, 3832417, 3896862, 3968185, 4037275, 4110392, 4176874, 4231723, 4288316, 4354137, 4425464, 4493284, 4560437, 4618344, 4665677, 4710524, 4768000, 4821657, 4881308, 4939655, 4995355, 5041480, 5091246, 5138159, 5195170, 5247164, 5311760, 5359187, 5400601, 5436540, 5481903, 5529243, 5573327, 5621550, 5665965, 5700393, 5738250, 5776482, 5821575, 5867456, 5913667, 5959695, 5995057, 6029571, 6072105, 6112688, 6156594, 6206707, 6250801, 6281949, 6306013, 6332750, 6366307, 6402666, 6450197, 6491252, 6525949, 6559903, 6599105, 6637664, 6682404, 6731128, 6775201, 6811437, 6863902, 6902893, 6941340, 6985491, 7036085, 7080965, 7117387, 7150706, 7192825, 7234242, 7279013, 7333550, 7383614, 7419081, 7458636, 7500589, 7550929, 7607158, 7664602, 7719244, 7763864, 7805537, 7857987, 7917523, 7981179, 8050344, 8107891, 8156114, 8214509, 8274864, 8337640, 8409341, 8493088, 8576818, 8637625, 8704423, 8778055, 8856413, 8944934, 9044255, 9125482, 9206975]}, {\"name\": \"South Korea\", \"type\": \"scatter\", \"y\": [104, 204, 433, 602, 833, 977, 1261, 1766, 2337, 3150, 3736, 4335, 5186, 5621, 6088, 6593, 7041, 7314, 7478, 7513, 7755, 7869, 7979, 8086, 8162, 8236, 8320, 8413, 8565, 8652, 8799, 8961, 8961, 9037, 9137, 9241, 9332, 9478, 9583, 9661, 9786, 9887, 9976, 10062, 10156, 10237, 10284, 10331, 10384, 10423, 10450, 10480, 10512, 10537, 10564, 10591, 10613, 10635, 10653, 10661, 10674, 10683, 10694, 10708, 10718, 10728, 10738, 10752, 10761, 10765, 10774, 10780, 10793, 10801, 10804, 10806, 10810, 10822, 10840, 10874, 10909, 10936, 10962, 10991, 11018, 11037, 11050, 11065, 11078, 11110, 11122, 11142, 11165, 11190, 11206, 11225, 11265, 11344, 11402, 11441, 11468, 11503, 11541, 11590, 11629, 11668, 11719, 11776, 11814, 11852, 11902, 11947, 12003, 12051, 12085, 12121, 12155, 12198, 12257, 12306, 12373, 12421, 12438, 12484, 12535, 12563, 12602, 12653, 12715, 12757, 12800, 12850, 12904, 12967, 13030, 13091, 13137, 13181, 13244, 13293, 13338, 13373, 13417, 13479, 13512, 13551, 13612, 13672, 13711, 13745, 13771, 13816, 13879, 13938, 13979, 14092, 14150, 14175, 14203, 14251, 14269, 14305, 14336, 14366, 14389, 14423, 14456, 14499, 14519, 14562, 14598, 14626, 14660, 14714, 14770, 14873, 15039, 15318, 15515, 15761, 16058, 16346, 16670, 17002, 17399, 17665, 17945, 18265, 18706, 19077, 19400, 19699, 19947, 20182, 20449, 20644, 20842, 21010, 21177, 21296, 21432, 21588, 21743, 21919, 22055, 22176, 22285, 22391, 22504, 22657, 22783, 22893, 22975, 23045, 23106, 23216, 23341, 23455, 23516, 23611, 23661, 23699, 23812, 23889, 23952, 24027, 24091, 24164, 24239, 24353, 24422, 24476, 24548, 24606, 24703, 24805, 24889, 24988, 25035, 25108, 25199, 25275, 25333, 25424, 25543, 25698, 25775, 25836, 25955, 26043, 26146, 26271, 26385, 26511, 26635, 26732]}, {\"name\": \"Spain\", \"type\": \"scatter\", \"y\": [120, 165, 222, 259, 400, 500, 673, 1073, 1695, 2277, 2277, 5232, 6391, 7798, 9942, 11748, 13910, 17963, 20410, 25374, 28768, 35136, 39885, 49515, 57786, 65719, 73235, 80110, 87956, 95923, 104118, 112065, 119199, 126168, 131646, 136675, 141942, 148220, 153222, 158273, 163027, 166831, 170099, 172541, 177644, 184948, 190839, 191726, 198674, 200210, 204178, 208389, 213024, 202990, 205905, 207634, 209465, 210773, 212917, 213435, 215216, 216582, 217466, 218011, 219329, 220325, 221447, 222857, 223578, 224350, 227436, 228030, 228691, 229540, 230183, 230698, 230698, 231606, 232037, 232555, 233037, 234824, 235290, 235772, 235400, 236259, 236259, 237906, 238564, 239228, 239479, 239638, 239932, 240326, 240660, 240978, 241310, 241550, 241717, 241966, 242280, 242707, 243209, 243605, 243928, 244109, 244328, 244683, 245268, 245575, 245938, 246272, 246504, 246752, 247086, 247486, 247905, 248469, 248770, 248970, 249271, 249659, 250103, 250545, 250545, 250545, 251789, 252130, 252513, 253056, 253908, 253908, 253908, 255953, 256619, 257494, 258855, 260255, 260255, 260255, 264836, 266194, 267551, 270166, 272421, 272421, 272421, 278782, 280610, 282641, 285430, 288522, 288522, 288522, 297054, 302814, 305767, 309855, 314362, 314362, 314362, 322980, 326612, 329784, 337334, 342813, 342813, 342813, 359082, 364196, 370867, 377906, 386054, 386054, 386054, 405436, 412553, 419849, 429507, 439286, 439286, 439286, 462858, 470973, 479554, 488513, 498989, 498989, 498989, 525549, 534513, 543379, 554143, 566326, 566326, 566326, 593730, 603167, 614360, 625651, 640040, 640040, 640040, 671468, 682267, 693556, 704209, 716481, 716481, 716481, 748266, 748266, 769188, 778607, 789932, 789932, 789932, 813412, 825410, 835901, 848324, 861112, 861112, 861112, 888968, 896086, 908056, 921374, 936560, 936560, 936560, 974449, 988322, 1005295, 1026281, 1046132, 1046132, 1046132, 1098320, 1116738, 1136503, 1160083, 1185678, 1185678, 1185678]}],\n",
       "                        {\"hovermode\": \"x\", \"template\": {\"data\": {\"bar\": [{\"error_x\": {\"color\": \"#2a3f5f\"}, \"error_y\": {\"color\": \"#2a3f5f\"}, \"marker\": {\"line\": {\"color\": \"#E5ECF6\", \"width\": 0.5}}, \"type\": \"bar\"}], \"barpolar\": [{\"marker\": {\"line\": {\"color\": \"#E5ECF6\", \"width\": 0.5}}, \"type\": \"barpolar\"}], \"carpet\": [{\"aaxis\": {\"endlinecolor\": \"#2a3f5f\", \"gridcolor\": \"white\", \"linecolor\": \"white\", \"minorgridcolor\": \"white\", \"startlinecolor\": \"#2a3f5f\"}, \"baxis\": {\"endlinecolor\": \"#2a3f5f\", \"gridcolor\": \"white\", \"linecolor\": \"white\", \"minorgridcolor\": \"white\", \"startlinecolor\": \"#2a3f5f\"}, \"type\": \"carpet\"}], \"choropleth\": [{\"colorbar\": {\"outlinewidth\": 0, \"ticks\": \"\"}, \"type\": \"choropleth\"}], \"contour\": [{\"colorbar\": {\"outlinewidth\": 0, \"ticks\": \"\"}, \"colorscale\": [[0.0, \"#0d0887\"], [0.1111111111111111, \"#46039f\"], [0.2222222222222222, \"#7201a8\"], [0.3333333333333333, \"#9c179e\"], [0.4444444444444444, \"#bd3786\"], [0.5555555555555556, \"#d8576b\"], [0.6666666666666666, \"#ed7953\"], [0.7777777777777778, \"#fb9f3a\"], [0.8888888888888888, \"#fdca26\"], [1.0, \"#f0f921\"]], \"type\": \"contour\"}], \"contourcarpet\": [{\"colorbar\": {\"outlinewidth\": 0, \"ticks\": \"\"}, \"type\": \"contourcarpet\"}], \"heatmap\": [{\"colorbar\": {\"outlinewidth\": 0, \"ticks\": \"\"}, \"colorscale\": [[0.0, \"#0d0887\"], [0.1111111111111111, \"#46039f\"], [0.2222222222222222, \"#7201a8\"], [0.3333333333333333, \"#9c179e\"], [0.4444444444444444, \"#bd3786\"], [0.5555555555555556, \"#d8576b\"], [0.6666666666666666, \"#ed7953\"], [0.7777777777777778, \"#fb9f3a\"], [0.8888888888888888, \"#fdca26\"], [1.0, \"#f0f921\"]], \"type\": \"heatmap\"}], \"heatmapgl\": [{\"colorbar\": {\"outlinewidth\": 0, \"ticks\": \"\"}, \"colorscale\": [[0.0, \"#0d0887\"], [0.1111111111111111, \"#46039f\"], [0.2222222222222222, \"#7201a8\"], [0.3333333333333333, \"#9c179e\"], [0.4444444444444444, \"#bd3786\"], [0.5555555555555556, \"#d8576b\"], [0.6666666666666666, \"#ed7953\"], [0.7777777777777778, \"#fb9f3a\"], [0.8888888888888888, \"#fdca26\"], [1.0, \"#f0f921\"]], \"type\": \"heatmapgl\"}], \"histogram\": [{\"marker\": {\"colorbar\": {\"outlinewidth\": 0, \"ticks\": \"\"}}, \"type\": \"histogram\"}], \"histogram2d\": [{\"colorbar\": {\"outlinewidth\": 0, \"ticks\": \"\"}, \"colorscale\": [[0.0, \"#0d0887\"], [0.1111111111111111, \"#46039f\"], [0.2222222222222222, \"#7201a8\"], [0.3333333333333333, \"#9c179e\"], [0.4444444444444444, \"#bd3786\"], [0.5555555555555556, \"#d8576b\"], [0.6666666666666666, \"#ed7953\"], [0.7777777777777778, \"#fb9f3a\"], [0.8888888888888888, \"#fdca26\"], [1.0, \"#f0f921\"]], \"type\": \"histogram2d\"}], \"histogram2dcontour\": [{\"colorbar\": {\"outlinewidth\": 0, \"ticks\": \"\"}, \"colorscale\": [[0.0, \"#0d0887\"], [0.1111111111111111, \"#46039f\"], [0.2222222222222222, \"#7201a8\"], [0.3333333333333333, \"#9c179e\"], [0.4444444444444444, \"#bd3786\"], [0.5555555555555556, \"#d8576b\"], [0.6666666666666666, \"#ed7953\"], [0.7777777777777778, \"#fb9f3a\"], [0.8888888888888888, \"#fdca26\"], [1.0, \"#f0f921\"]], \"type\": \"histogram2dcontour\"}], \"mesh3d\": [{\"colorbar\": {\"outlinewidth\": 0, \"ticks\": \"\"}, \"type\": \"mesh3d\"}], \"parcoords\": [{\"line\": {\"colorbar\": {\"outlinewidth\": 0, \"ticks\": \"\"}}, \"type\": \"parcoords\"}], \"pie\": [{\"automargin\": true, \"type\": \"pie\"}], \"scatter\": [{\"marker\": {\"colorbar\": {\"outlinewidth\": 0, \"ticks\": \"\"}}, \"type\": \"scatter\"}], \"scatter3d\": [{\"line\": {\"colorbar\": {\"outlinewidth\": 0, \"ticks\": \"\"}}, \"marker\": {\"colorbar\": {\"outlinewidth\": 0, \"ticks\": \"\"}}, \"type\": \"scatter3d\"}], \"scattercarpet\": [{\"marker\": {\"colorbar\": {\"outlinewidth\": 0, \"ticks\": \"\"}}, \"type\": \"scattercarpet\"}], \"scattergeo\": [{\"marker\": {\"colorbar\": {\"outlinewidth\": 0, \"ticks\": \"\"}}, \"type\": \"scattergeo\"}], \"scattergl\": [{\"marker\": {\"colorbar\": {\"outlinewidth\": 0, \"ticks\": \"\"}}, \"type\": \"scattergl\"}], \"scattermapbox\": [{\"marker\": {\"colorbar\": {\"outlinewidth\": 0, \"ticks\": \"\"}}, \"type\": \"scattermapbox\"}], \"scatterpolar\": [{\"marker\": {\"colorbar\": {\"outlinewidth\": 0, \"ticks\": \"\"}}, \"type\": \"scatterpolar\"}], \"scatterpolargl\": [{\"marker\": {\"colorbar\": {\"outlinewidth\": 0, \"ticks\": \"\"}}, \"type\": \"scatterpolargl\"}], \"scatterternary\": [{\"marker\": {\"colorbar\": {\"outlinewidth\": 0, \"ticks\": \"\"}}, \"type\": \"scatterternary\"}], \"surface\": [{\"colorbar\": {\"outlinewidth\": 0, \"ticks\": \"\"}, \"colorscale\": [[0.0, \"#0d0887\"], [0.1111111111111111, \"#46039f\"], [0.2222222222222222, \"#7201a8\"], [0.3333333333333333, \"#9c179e\"], [0.4444444444444444, \"#bd3786\"], [0.5555555555555556, \"#d8576b\"], [0.6666666666666666, \"#ed7953\"], [0.7777777777777778, \"#fb9f3a\"], [0.8888888888888888, \"#fdca26\"], [1.0, \"#f0f921\"]], \"type\": \"surface\"}], \"table\": [{\"cells\": {\"fill\": {\"color\": \"#EBF0F8\"}, \"line\": {\"color\": \"white\"}}, \"header\": {\"fill\": {\"color\": \"#C8D4E3\"}, \"line\": {\"color\": \"white\"}}, \"type\": \"table\"}]}, \"layout\": {\"annotationdefaults\": {\"arrowcolor\": \"#2a3f5f\", \"arrowhead\": 0, \"arrowwidth\": 1}, \"coloraxis\": {\"colorbar\": {\"outlinewidth\": 0, \"ticks\": \"\"}}, \"colorscale\": {\"diverging\": [[0, \"#8e0152\"], [0.1, \"#c51b7d\"], [0.2, \"#de77ae\"], [0.3, \"#f1b6da\"], [0.4, \"#fde0ef\"], [0.5, \"#f7f7f7\"], [0.6, \"#e6f5d0\"], [0.7, \"#b8e186\"], [0.8, \"#7fbc41\"], [0.9, \"#4d9221\"], [1, \"#276419\"]], \"sequential\": [[0.0, \"#0d0887\"], [0.1111111111111111, \"#46039f\"], [0.2222222222222222, \"#7201a8\"], [0.3333333333333333, \"#9c179e\"], [0.4444444444444444, \"#bd3786\"], [0.5555555555555556, \"#d8576b\"], [0.6666666666666666, \"#ed7953\"], [0.7777777777777778, \"#fb9f3a\"], [0.8888888888888888, \"#fdca26\"], [1.0, \"#f0f921\"]], \"sequentialminus\": [[0.0, \"#0d0887\"], [0.1111111111111111, \"#46039f\"], [0.2222222222222222, \"#7201a8\"], [0.3333333333333333, \"#9c179e\"], [0.4444444444444444, \"#bd3786\"], [0.5555555555555556, \"#d8576b\"], [0.6666666666666666, \"#ed7953\"], [0.7777777777777778, \"#fb9f3a\"], [0.8888888888888888, \"#fdca26\"], [1.0, \"#f0f921\"]]}, \"colorway\": [\"#636efa\", \"#EF553B\", \"#00cc96\", \"#ab63fa\", \"#FFA15A\", \"#19d3f3\", \"#FF6692\", \"#B6E880\", \"#FF97FF\", \"#FECB52\"], \"font\": {\"color\": \"#2a3f5f\"}, \"geo\": {\"bgcolor\": \"white\", \"lakecolor\": \"white\", \"landcolor\": \"#E5ECF6\", \"showlakes\": true, \"showland\": true, \"subunitcolor\": \"white\"}, \"hoverlabel\": {\"align\": \"left\"}, \"hovermode\": \"closest\", \"mapbox\": {\"style\": \"light\"}, \"paper_bgcolor\": \"white\", \"plot_bgcolor\": \"#E5ECF6\", \"polar\": {\"angularaxis\": {\"gridcolor\": \"white\", \"linecolor\": \"white\", \"ticks\": \"\"}, \"bgcolor\": \"#E5ECF6\", \"radialaxis\": {\"gridcolor\": \"white\", \"linecolor\": \"white\", \"ticks\": \"\"}}, \"scene\": {\"xaxis\": {\"backgroundcolor\": \"#E5ECF6\", \"gridcolor\": \"white\", \"gridwidth\": 2, \"linecolor\": \"white\", \"showbackground\": true, \"ticks\": \"\", \"zerolinecolor\": \"white\"}, \"yaxis\": {\"backgroundcolor\": \"#E5ECF6\", \"gridcolor\": \"white\", \"gridwidth\": 2, \"linecolor\": \"white\", \"showbackground\": true, \"ticks\": \"\", \"zerolinecolor\": \"white\"}, \"zaxis\": {\"backgroundcolor\": \"#E5ECF6\", \"gridcolor\": \"white\", \"gridwidth\": 2, \"linecolor\": \"white\", \"showbackground\": true, \"ticks\": \"\", \"zerolinecolor\": \"white\"}}, \"shapedefaults\": {\"line\": {\"color\": \"#2a3f5f\"}}, \"ternary\": {\"aaxis\": {\"gridcolor\": \"white\", \"linecolor\": \"white\", \"ticks\": \"\"}, \"baxis\": {\"gridcolor\": \"white\", \"linecolor\": \"white\", \"ticks\": \"\"}, \"bgcolor\": \"#E5ECF6\", \"caxis\": {\"gridcolor\": \"white\", \"linecolor\": \"white\", \"ticks\": \"\"}}, \"title\": {\"x\": 0.05}, \"xaxis\": {\"automargin\": true, \"gridcolor\": \"white\", \"linecolor\": \"white\", \"ticks\": \"\", \"title\": {\"standoff\": 15}, \"zerolinecolor\": \"white\", \"zerolinewidth\": 2}, \"yaxis\": {\"automargin\": true, \"gridcolor\": \"white\", \"linecolor\": \"white\", \"ticks\": \"\", \"title\": {\"standoff\": 15}, \"zerolinecolor\": \"white\", \"zerolinewidth\": 2}}}, \"title\": {\"text\": \"Number of COVID19 confirmed cases (as of 11/1/20)\"}, \"xaxis\": {\"title\": {\"text\": \"Days since first day with 100 cases\"}}, \"yaxis\": {\"title\": {\"text\": \"Cases (logarithmic scale)\"}, \"type\": \"log\"}},\n",
       "                        {\"responsive\": true}\n",
       "                    ).then(function(){\n",
       "                            \n",
       "var gd = document.getElementById('019bc1f7-4c28-4c4e-beeb-9a0b52ddc9d2');\n",
       "var x = new MutationObserver(function (mutations, observer) {{\n",
       "        var display = window.getComputedStyle(gd).display;\n",
       "        if (!display || display === 'none') {{\n",
       "            console.log([gd, 'removed!']);\n",
       "            Plotly.purge(gd);\n",
       "            observer.disconnect();\n",
       "        }}\n",
       "}});\n",
       "\n",
       "// Listen for the removal of the full notebook cells\n",
       "var notebookContainer = gd.closest('#notebook-container');\n",
       "if (notebookContainer) {{\n",
       "    x.observe(notebookContainer, {childList: true});\n",
       "}}\n",
       "\n",
       "// Listen for the clearing of the current output cell\n",
       "var outputEl = gd.closest('.output');\n",
       "if (outputEl) {{\n",
       "    x.observe(outputEl, {childList: true});\n",
       "}}\n",
       "\n",
       "                        })\n",
       "                };\n",
       "                \n",
       "            </script>\n",
       "        </div>\n",
       "</body>\n",
       "</html>"
      ]
     },
     "metadata": {
      "tags": []
     },
     "output_type": "display_data"
    }
   ],
   "source": [
    "import plotly.graph_objects as go\n",
    "\n",
    "start=100 # minimum number of cases for day 0\n",
    "\n",
    "fig=go.Figure()\n",
    "\n",
    "fig.add_trace(go.Scatter(y=get_series(get_data(data, 'Italy'), start), name=\"Italy\"))\n",
    "fig.add_trace(go.Scatter(y=get_series(get_data(data, 'Czechia'), start), name=\"Czech Republic\"))\n",
    "fig.add_trace(go.Scatter(y=get_series(get_data(data, 'Germany'), start), name=\"Germany\"))\n",
    "fig.add_trace(go.Scatter(y=get_series(get_data(data, 'Austria'), start), name=\"Austria\"))\n",
    "fig.add_trace(go.Scatter(y=get_series(get_data(data, \"United Kingdom\"), start), name=\"Britain\"))\n",
    "fig.add_trace(go.Scatter(y=get_series(get_data(data, \"US\"), start), name=\"U.S.A.\"))\n",
    "fig.add_trace(go.Scatter(y=get_series(get_data(data, 'Korea South'), start), name=\"South Korea\"))\n",
    "fig.add_trace(go.Scatter(y=get_series(get_data(data, 'Spain'), start), name=\"Spain\"))\n",
    "\n",
    "fig.update_layout(\n",
    "    title=\"Number of COVID19 confirmed cases (as of \"+max_date+\")\", \n",
    "    xaxis_title=\"Days since first day with \"+str(start)+\" cases\",\n",
    "    yaxis_title=\"Cases (logarithmic scale)\",\n",
    "    yaxis_type=\"log\", # switch log scale on for y axis\n",
    "    hovermode='x' # compare data on hoover by default\n",
    "  )\n",
    "\n",
    "fig.show()"
   ]
  },
  {
   "cell_type": "markdown",
   "metadata": {
    "id": "0DhyjNANFucn"
   },
   "source": [
    "# Příkazová řádka - argparse\n",
    "\n",
    "Přednáška zde: [http://vyuka.ookami.cz/materialy/python/cmd/argparse.xml](http://vyuka.ookami.cz/materialy/python/cmd/argparse.xml)\n"
   ]
  },
  {
   "cell_type": "markdown",
   "metadata": {
    "id": "GnngmSYXfEf-"
   },
   "source": [
    "Pojďme si pomocí argparse napsat skript, který nám vypíše soubor. Skript by měl kromě argumentu s názvem souboru akceptovat přepínač zobrazující nápovědu, měl by umět zapnout/vypnout zobrazování čísel řádků na začátku řádky a případně zobrazit ladící informace.\n",
    "\n",
    "Pomocí argparse je to opravdu snadné:"
   ]
  },
  {
   "cell_type": "code",
   "execution_count": null,
   "metadata": {
    "colab": {
     "base_uri": "https://localhost:8080/"
    },
    "id": "cXKOELTHFwTq",
    "outputId": "7286595f-e08e-4388-894f-4abd314680a2"
   },
   "outputs": [
    {
     "name": "stdout",
     "output_type": "stream",
     "text": [
      "Writing printfile.py\n"
     ]
    }
   ],
   "source": [
    "# %%writefile mi nespustí buňku, ale uloží ji jako soubor\n",
    "%%writefile printfile.py \n",
    "\n",
    "from argparse import ArgumentParser\n",
    "\n",
    "# založím parser s popisem skriptu\n",
    "parser = ArgumentParser(description=\"Prints file to standard output\")\n",
    "\n",
    "# přidávám jednotlivé argumenty\n",
    "parser.add_argument(\"-n\", \"--number\", # název \n",
    "                    default=False, # výchozí hodnota\n",
    "                    action='store_true', # díky tomu bude -n sloužit jen jako flag\n",
    "                    help=\"number all output lines\")\n",
    "parser.add_argument(\"-e\", \"--show-ends\",\n",
    "                    default=False,\n",
    "                    action='store_true',\n",
    "                    help=\"display $ at end of each line\")\n",
    "parser.add_argument(\"-D\", \"--debug\", # -D bude očekávat za sebou hodnotu\n",
    "                    default=False, # pokud -D nebude, bude False\n",
    "                    help=\"True: show debugging info\")\n",
    "parser.add_argument(\"file\", # poziční argument s názvem souboru\n",
    "                    help=\"file to print to standard output\")\n",
    "# vytvoří Namespace s argumenty\n",
    "args = parser.parse_args()\n",
    " \n",
    "# samotný skript \n",
    "if args.debug == \"True\":\n",
    "    print(\"Some debugging info:\")\n",
    "    print(args)\n",
    "else:\n",
    "    with open(args.file, mode=\"rt\", encoding=\"utf-8\") as file:\n",
    "        i = 0\n",
    "        for line in file:\n",
    "            i += 1\n",
    "            if args.number:\n",
    "                print(\"{: >5d}\".format(i)+\"  \", end=\"\")\n",
    "            print(line[:-1], end=\"\")\n",
    "            if args.show_ends:\n",
    "                print(\"$\", end=\"\")\n",
    "            print()\n"
   ]
  },
  {
   "cell_type": "code",
   "execution_count": null,
   "metadata": {
    "colab": {
     "base_uri": "https://localhost:8080/"
    },
    "id": "FQ4XWdQfoFbl",
    "outputId": "fa3975a9-5052-426a-ef84-b25889fd1e6f"
   },
   "outputs": [
    {
     "name": "stdout",
     "output_type": "stream",
     "text": [
      "usage: printfile.py [-h] [-n] [-e] [-D DEBUG] file\n",
      "\n",
      "Prints file to standard output\n",
      "\n",
      "positional arguments:\n",
      "  file                  file to print to standard output\n",
      "\n",
      "optional arguments:\n",
      "  -h, --help            show this help message and exit\n",
      "  -n, --number          number all output lines\n",
      "  -e, --show-ends       display $ at end of each line\n",
      "  -D DEBUG, --debug DEBUG\n",
      "                        True: show debugging info\n"
     ]
    }
   ],
   "source": [
    "# napoveda\n",
    "!python printfile.py -h"
   ]
  },
  {
   "cell_type": "code",
   "execution_count": null,
   "metadata": {
    "colab": {
     "base_uri": "https://localhost:8080/"
    },
    "id": "8C9gYf08rDEX",
    "outputId": "4a11aa8b-a368-4f42-c16f-c6b3718d7d65"
   },
   "outputs": [
    {
     "name": "stdout",
     "output_type": "stream",
     "text": [
      "This directory includes a few sample datasets to get you started.\n",
      "\n",
      "*   `california_housing_data*.csv` is California housing data from the 1990 US\n",
      "    Census; more information is available at:\n",
      "    https://developers.google.com/machine-learning/crash-course/california-housing-data-description\n",
      "\n",
      "*   `mnist_*.csv` is a small sample of the\n",
      "    [MNIST database](https://en.wikipedia.org/wiki/MNIST_database), which is\n",
      "    described at: http://yann.lecun.com/exdb/mnist/\n",
      "\n",
      "*   `anscombe.json` contains a copy of\n",
      "    [Anscombe's quartet](https://en.wikipedia.org/wiki/Anscombe%27s_quartet); it\n",
      "    was originally described in\n",
      "\n",
      "    Anscombe, F. J. (1973). 'Graphs in Statistical Analysis'. American\n",
      "    Statistician. 27 (1): 17-21. JSTOR 2682899.\n",
      "\n",
      "    and our copy was prepared by the\n",
      "    [vega_datasets library](https://github.com/altair-viz/vega_datasets/blob/4f67bdaad10f45e3549984e17e1b3088c731503d/vega_datasets/_data/anscombe.json).\n"
     ]
    }
   ],
   "source": [
    "# pouze pozicni argument\n",
    "!python printfile.py sample_data/README.md"
   ]
  },
  {
   "cell_type": "code",
   "execution_count": null,
   "metadata": {
    "colab": {
     "base_uri": "https://localhost:8080/"
    },
    "id": "Ua5Xhdmbgs-h",
    "outputId": "f30e2379-3fd3-4925-a0d1-581b6a339079"
   },
   "outputs": [
    {
     "name": "stdout",
     "output_type": "stream",
     "text": [
      "    1  This directory includes a few sample datasets to get you started.\n",
      "    2  \n",
      "    3  *   `california_housing_data*.csv` is California housing data from the 1990 US\n",
      "    4      Census; more information is available at:\n",
      "    5      https://developers.google.com/machine-learning/crash-course/california-housing-data-description\n",
      "    6  \n",
      "    7  *   `mnist_*.csv` is a small sample of the\n",
      "    8      [MNIST database](https://en.wikipedia.org/wiki/MNIST_database), which is\n",
      "    9      described at: http://yann.lecun.com/exdb/mnist/\n",
      "   10  \n",
      "   11  *   `anscombe.json` contains a copy of\n",
      "   12      [Anscombe's quartet](https://en.wikipedia.org/wiki/Anscombe%27s_quartet); it\n",
      "   13      was originally described in\n",
      "   14  \n",
      "   15      Anscombe, F. J. (1973). 'Graphs in Statistical Analysis'. American\n",
      "   16      Statistician. 27 (1): 17-21. JSTOR 2682899.\n",
      "   17  \n",
      "   18      and our copy was prepared by the\n",
      "   19      [vega_datasets library](https://github.com/altair-viz/vega_datasets/blob/4f67bdaad10f45e3549984e17e1b3088c731503d/vega_datasets/_data/anscombe.json).\n"
     ]
    }
   ],
   "source": [
    "# prepinace\n",
    "!python printfile.py -n sample_data/README.md"
   ]
  },
  {
   "cell_type": "code",
   "execution_count": null,
   "metadata": {
    "colab": {
     "base_uri": "https://localhost:8080/"
    },
    "id": "-ojzuJ_NUsB9",
    "outputId": "950f2e77-f732-4306-a4b7-38497dc6f83d"
   },
   "outputs": [
    {
     "name": "stdout",
     "output_type": "stream",
     "text": [
      "Some debugging info:\n",
      "Namespace(debug='True', file='sample_data/README.md', number=False, show_ends=False)\n"
     ]
    }
   ],
   "source": [
    "# argument s hodnotou\n",
    "!python printfile.py --debug=True sample_data/README.md"
   ]
  },
  {
   "cell_type": "code",
   "execution_count": null,
   "metadata": {
    "colab": {
     "base_uri": "https://localhost:8080/"
    },
    "id": "2Upuhs-ueTOU",
    "outputId": "b50104e1-f893-4c7f-ebc0-76e9b60d8a7c"
   },
   "outputs": [
    {
     "name": "stdout",
     "output_type": "stream",
     "text": [
      "usage: printfile.py [-h] [-n] [-e] [-D DEBUG] file\n",
      "printfile.py: error: unrecognized arguments: --neexistujici_prepinac sample_data/README.md\n"
     ]
    }
   ],
   "source": [
    "# nedefinovany argument\n",
    "!python printfile.py --neexistujici_prepinac True sample_data/README.md"
   ]
  },
  {
   "cell_type": "markdown",
   "metadata": {
    "id": "76p9_Do4X7_6"
   },
   "source": [
    "Bez argparse je nutné si poradit se seznamem v **sys.argv**:"
   ]
  },
  {
   "cell_type": "code",
   "execution_count": null,
   "metadata": {
    "colab": {
     "base_uri": "https://localhost:8080/"
    },
    "id": "CGf0px8hvvmS",
    "outputId": "4e7ed8e5-2629-46ca-9dbe-4fa05abdcde7"
   },
   "outputs": [
    {
     "name": "stdout",
     "output_type": "stream",
     "text": [
      "Overwriting mujprogram.py\n"
     ]
    }
   ],
   "source": [
    "%%writefile mujprogram.py \n",
    "\n",
    "import argparse\n",
    "import sys\n",
    "\n",
    "if __name__ == \"__main__\":\n",
    "    parser = argparse.ArgumentParser(prog='mujprogram.py', description='Skvely program.', epilog='Jeste neco na zaver')\n",
    "    parser.add_argument('-dir', action='store', default='./data', \n",
    "                        help='Output directory. [Default = %(default)s]')\n",
    "\n",
    "    args = parser.parse_args()\n",
    "    print(f'Zparsovane ergumenty: {args}')\n",
    "    print('Zparsovane ergumenty: {a}\\n\\n'.format(a=args))\n",
    "    \n",
    "    print(f'Raw pristup pres sys.arg v nemz je: {sys.argv}')\n",
    "          "
   ]
  },
  {
   "cell_type": "code",
   "execution_count": null,
   "metadata": {
    "colab": {
     "base_uri": "https://localhost:8080/"
    },
    "id": "BtduamNqYUQ7",
    "outputId": "346da41d-a73a-4fb1-870b-4edcbb4d4c38"
   },
   "outputs": [
    {
     "name": "stdout",
     "output_type": "stream",
     "text": [
      "usage: mujprogram.py [-h] [-dir DIR]\n",
      "\n",
      "Skvely program.\n",
      "\n",
      "optional arguments:\n",
      "  -h, --help  show this help message and exit\n",
      "  -dir DIR    Output directory. [Default = ./data]\n",
      "\n",
      "Jeste neco na zaver\n",
      "Zparsovane ergumenty: Namespace(dir='nejaky')\n",
      "Zparsovane ergumenty: Namespace(dir='nejaky')\n",
      "\n",
      "\n",
      "Raw pristup pres sys.arg v nemz je: ['mujprogram.py', '-dir', 'nejaky']\n"
     ]
    }
   ],
   "source": [
    "!python3 mujprogram.py --help\n",
    "!python3 mujprogram.py -dir nejaky"
   ]
  },
  {
   "cell_type": "markdown",
   "metadata": {
    "id": "MmfHbEk5X5sC"
   },
   "source": []
  }
 ],
 "metadata": {
  "colab": {
   "collapsed_sections": [],
   "name": "Cvičení 06 - výklad-Souborový systém, Příkazová řádka",
   "provenance": []
  },
  "kernelspec": {
   "display_name": "Python 3",
   "language": "python",
   "name": "python3"
  },
  "language_info": {
   "codemirror_mode": {
    "name": "ipython",
    "version": 3
   },
   "file_extension": ".py",
   "mimetype": "text/x-python",
   "name": "python",
   "nbconvert_exporter": "python",
   "pygments_lexer": "ipython3",
   "version": "3.8.8"
  }
 },
 "nbformat": 4,
 "nbformat_minor": 1
}
