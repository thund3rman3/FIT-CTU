{
  "nbformat": 4,
  "nbformat_minor": 0,
  "metadata": {
    "colab": {
      "name": "Cvičení 03 - Seznamy, n-tice, množiny, slovníky. Výřezová a generátorová notace ",
      "provenance": [],
      "collapsed_sections": []
    },
    "kernelspec": {
      "name": "python3",
      "display_name": "Python 3"
    }
  },
  "cells": [
    {
      "cell_type": "markdown",
      "metadata": {
        "id": "sF5RTgnmwg_a"
      },
      "source": [
        "\n",
        "# Cvičení 03 - Seznamy, n-tice, množiny, slovníky. Generátorová notace \n",
        "\n"
      ]
    },
    {
      "cell_type": "markdown",
      "metadata": {
        "id": "guM_njyjw4cG"
      },
      "source": [
        "## Seznamy\n",
        "\n",
        "Seznamy (list) jsou uspořádané posloupnosti hodnot.\n",
        "\n"
      ]
    },
    {
      "cell_type": "code",
      "metadata": {
        "id": "qnDTIMmtlSjc",
        "colab": {
          "base_uri": "https://localhost:8080/"
        },
        "outputId": "2cb82c4e-92f0-4a67-ed78-323c88120df0"
      },
      "source": [
        "s = [1, 2, 3]\n",
        "print(s[-2])\n",
        "print(s[0:2])\n"
      ],
      "execution_count": null,
      "outputs": [
        {
          "output_type": "stream",
          "text": [
            "2\n",
            "[1, 2]\n"
          ],
          "name": "stdout"
        }
      ]
    },
    {
      "cell_type": "code",
      "metadata": {
        "id": "Yn31P41v7Iwc",
        "colab": {
          "base_uri": "https://localhost:8080/"
        },
        "outputId": "547681ef-6457-4fa7-efdc-b7332242b435"
      },
      "source": [
        "# spojování seznamů: operátor +\n",
        "\n",
        "s2 = [4, 5, 6]\n",
        "s + s2"
      ],
      "execution_count": null,
      "outputs": [
        {
          "output_type": "execute_result",
          "data": {
            "text/plain": [
              "[1, 2, 3, 4, 5, 6]"
            ]
          },
          "metadata": {
            "tags": []
          },
          "execution_count": 73
        }
      ]
    },
    {
      "cell_type": "code",
      "metadata": {
        "id": "HWN4NLYE7d6q",
        "colab": {
          "base_uri": "https://localhost:8080/"
        },
        "outputId": "baf910a1-1feb-4613-bf8b-2d0b3f24d955"
      },
      "source": [
        "# opakování seznamu: operátor *\n",
        "s2 * 3"
      ],
      "execution_count": null,
      "outputs": [
        {
          "output_type": "execute_result",
          "data": {
            "text/plain": [
              "[4, 5, 6, 4, 5, 6, 4, 5, 6]"
            ]
          },
          "metadata": {
            "tags": []
          },
          "execution_count": 74
        }
      ]
    },
    {
      "cell_type": "code",
      "metadata": {
        "id": "xoprbJPH7456",
        "colab": {
          "base_uri": "https://localhost:8080/"
        },
        "outputId": "53e4b48d-fda2-41ac-fa3c-41e301895eed"
      },
      "source": [
        "# přidávání, vkládání mazání hodnot\n",
        "s = [1, 2, 3, 1]\n",
        "print(s)\n",
        "\n",
        "s.append(7) # prida 7 na konec\n",
        "print(s)\n",
        "\n",
        "s.insert(2, 4) # vlozi 4 na pozici s indexem 2\n",
        "print(s)\n",
        "\n",
        "s.remove(1) # odstrani hodnotu 1\n",
        "print(s)\n",
        "\n",
        "del s[0] # odstrani hodnotu na pozici 0\n",
        "print(s)"
      ],
      "execution_count": null,
      "outputs": [
        {
          "output_type": "stream",
          "text": [
            "[1, 2, 3, 1]\n",
            "[1, 2, 3, 1, 7]\n",
            "[1, 2, 4, 3, 1, 7]\n",
            "[2, 4, 3, 1, 7]\n",
            "[4, 3, 1, 7]\n"
          ],
          "name": "stdout"
        }
      ]
    },
    {
      "cell_type": "code",
      "metadata": {
        "id": "7tLikN_98x0t",
        "colab": {
          "base_uri": "https://localhost:8080/"
        },
        "outputId": "88abcbd2-3872-43e4-c2ca-f0b962d9c472"
      },
      "source": [
        "# řazení seznamu - metoda sort()\n",
        "\n",
        "s = [4, 5, 3, 6, 2, 8, 1, 3]\n",
        "s.sort()\n",
        "print(s)\n",
        "\n",
        "s.sort(reverse=True)\n",
        "print(s)\n",
        "\n",
        "def is_odd(x):\n",
        "  return x % 2\n",
        "\n",
        "print(is_odd(3))\n",
        "print(is_odd(2))\n",
        "\n",
        "s.sort(key=is_odd)\n",
        "print(s)"
      ],
      "execution_count": null,
      "outputs": [
        {
          "output_type": "stream",
          "text": [
            "[1, 2, 3, 3, 4, 5, 6, 8]\n",
            "[8, 6, 5, 4, 3, 3, 2, 1]\n",
            "1\n",
            "0\n",
            "[8, 6, 4, 2, 5, 3, 3, 1]\n"
          ],
          "name": "stdout"
        }
      ]
    },
    {
      "cell_type": "code",
      "metadata": {
        "id": "oNwISn1M-RUQ",
        "colab": {
          "base_uri": "https://localhost:8080/"
        },
        "outputId": "2a59de7c-59ea-4314-cf1f-3d3a19628050"
      },
      "source": [
        "# co bylo dřív: vejce nebo slepice?\n",
        "q=['🥚', '🐔']\n",
        "q.sort()\n",
        "print(q)"
      ],
      "execution_count": null,
      "outputs": [
        {
          "output_type": "stream",
          "text": [
            "['🐔', '🥚']\n"
          ],
          "name": "stdout"
        }
      ]
    },
    {
      "cell_type": "markdown",
      "metadata": {
        "id": "Q3DNeeroSYWh"
      },
      "source": [
        "\n",
        "\n",
        "\n",
        "https://www.pythoncheatsheet.org/#Lists"
      ]
    },
    {
      "cell_type": "markdown",
      "metadata": {
        "id": "vDqz1JzVyryi"
      },
      "source": [
        "## N-tice\n",
        "\n",
        "N-tice (tuple) jsou uspořádané, neměnné (immutable) posloupnosti hodnot."
      ]
    },
    {
      "cell_type": "code",
      "metadata": {
        "id": "81lRjLu6yoFD",
        "colab": {
          "base_uri": "https://localhost:8080/"
        },
        "outputId": "8e7377d0-780c-4d12-be7b-8cb49e8be7f1"
      },
      "source": [
        "# definice n-tice (dvojice)\n",
        "c=(1, 2)\n",
        "# prirazeni n-tici\n",
        "a, b = c\n",
        "print(a, b, sep=',')"
      ],
      "execution_count": null,
      "outputs": [
        {
          "output_type": "stream",
          "text": [
            "1,2\n"
          ],
          "name": "stdout"
        }
      ]
    },
    {
      "cell_type": "markdown",
      "metadata": {
        "id": "xJneBoGAk8ON"
      },
      "source": [
        "Pro n-tice je možné používat výřezovou notaci"
      ]
    },
    {
      "cell_type": "code",
      "metadata": {
        "id": "h0fRhK44f2-T",
        "colab": {
          "base_uri": "https://localhost:8080/"
        },
        "outputId": "d10f6950-f983-470f-c1be-c561a7842d5b"
      },
      "source": [
        "n = (1,2,3,4,5,6)\n",
        "\n",
        "n[:3]"
      ],
      "execution_count": null,
      "outputs": [
        {
          "output_type": "execute_result",
          "data": {
            "text/plain": [
              "(1, 2, 3)"
            ]
          },
          "metadata": {
            "tags": []
          },
          "execution_count": 83
        }
      ]
    },
    {
      "cell_type": "code",
      "metadata": {
        "id": "55gSZ3DbCW9s",
        "colab": {
          "base_uri": "https://localhost:8080/",
          "height": 163
        },
        "outputId": "89aae035-0e07-4a17-c204-8cc91da63674"
      },
      "source": [
        "n[2]=5"
      ],
      "execution_count": null,
      "outputs": [
        {
          "output_type": "error",
          "ename": "TypeError",
          "evalue": "ignored",
          "traceback": [
            "\u001b[0;31m---------------------------------------------------------------------------\u001b[0m",
            "\u001b[0;31mTypeError\u001b[0m                                 Traceback (most recent call last)",
            "\u001b[0;32m<ipython-input-84-2b3fdbfbcf79>\u001b[0m in \u001b[0;36m<module>\u001b[0;34m()\u001b[0m\n\u001b[0;32m----> 1\u001b[0;31m \u001b[0mn\u001b[0m\u001b[0;34m[\u001b[0m\u001b[0;36m2\u001b[0m\u001b[0;34m]\u001b[0m\u001b[0;34m=\u001b[0m\u001b[0;36m5\u001b[0m\u001b[0;34m\u001b[0m\u001b[0;34m\u001b[0m\u001b[0m\n\u001b[0m",
            "\u001b[0;31mTypeError\u001b[0m: 'tuple' object does not support item assignment"
          ]
        }
      ]
    },
    {
      "cell_type": "markdown",
      "metadata": {
        "id": "iWjxSPeR-s58"
      },
      "source": [
        "n-tice je neměnný typ, nelze tedy vkládat, přidávat ani řadit."
      ]
    },
    {
      "cell_type": "markdown",
      "metadata": {
        "id": "vE4nfp26zM3n"
      },
      "source": [
        "## Množiny\n",
        "Množiny (sets) jsou neuspořádané kolekce hodnot."
      ]
    },
    {
      "cell_type": "code",
      "metadata": {
        "id": "iqNj3Ch9y7JP",
        "colab": {
          "base_uri": "https://localhost:8080/"
        },
        "outputId": "b20a1f87-7b21-49cb-8836-b64580c778e3"
      },
      "source": [
        "# definice množiny\n",
        "m={3, 2, 1, 1, 2, 3}\n",
        "print(m)\n",
        "# test, zda je 1 prvkem množiny m\n",
        "1 in m"
      ],
      "execution_count": null,
      "outputs": [
        {
          "output_type": "stream",
          "text": [
            "{1, 2, 3}\n"
          ],
          "name": "stdout"
        },
        {
          "output_type": "execute_result",
          "data": {
            "text/plain": [
              "True"
            ]
          },
          "metadata": {
            "tags": []
          },
          "execution_count": 86
        }
      ]
    },
    {
      "cell_type": "code",
      "metadata": {
        "id": "LXMy5ZK4zZKm",
        "colab": {
          "base_uri": "https://localhost:8080/",
          "height": 180
        },
        "outputId": "405575d1-2ad9-4678-9629-5bcab30e1f88"
      },
      "source": [
        "# množiny jsou neuspořádané\n",
        "m[2]"
      ],
      "execution_count": null,
      "outputs": [
        {
          "output_type": "error",
          "ename": "TypeError",
          "evalue": "ignored",
          "traceback": [
            "\u001b[0;31m---------------------------------------------------------------------------\u001b[0m",
            "\u001b[0;31mTypeError\u001b[0m                                 Traceback (most recent call last)",
            "\u001b[0;32m<ipython-input-87-02633c9eb29f>\u001b[0m in \u001b[0;36m<module>\u001b[0;34m()\u001b[0m\n\u001b[1;32m      1\u001b[0m \u001b[0;31m# množiny jsou neuspořádané\u001b[0m\u001b[0;34m\u001b[0m\u001b[0;34m\u001b[0m\u001b[0;34m\u001b[0m\u001b[0m\n\u001b[0;32m----> 2\u001b[0;31m \u001b[0mm\u001b[0m\u001b[0;34m[\u001b[0m\u001b[0;36m2\u001b[0m\u001b[0;34m]\u001b[0m\u001b[0;34m\u001b[0m\u001b[0;34m\u001b[0m\u001b[0m\n\u001b[0m",
            "\u001b[0;31mTypeError\u001b[0m: 'set' object is not subscriptable"
          ]
        }
      ]
    },
    {
      "cell_type": "code",
      "metadata": {
        "id": "rnaILjjp1EMB",
        "colab": {
          "base_uri": "https://localhost:8080/"
        },
        "outputId": "ac36a1d3-63b0-4a47-8949-827001d65802"
      },
      "source": [
        "# mnoziny jsou neusporadane (nedefinovane poradi)\n",
        "m"
      ],
      "execution_count": null,
      "outputs": [
        {
          "output_type": "execute_result",
          "data": {
            "text/plain": [
              "{1, 2, 3}"
            ]
          },
          "metadata": {
            "tags": []
          },
          "execution_count": 92
        }
      ]
    },
    {
      "cell_type": "code",
      "metadata": {
        "id": "VB5niHBC1o1F",
        "colab": {
          "base_uri": "https://localhost:8080/"
        },
        "outputId": "f1f9193b-bfe1-4cab-b2c7-be485aebf3c6"
      },
      "source": [
        "# každý prvek množiny je v množině jen jednou\n",
        "m2 = {1,1,4,5,6,6,6,7,1}\n",
        "m2"
      ],
      "execution_count": null,
      "outputs": [
        {
          "output_type": "execute_result",
          "data": {
            "text/plain": [
              "{1, 4, 5, 6, 7}"
            ]
          },
          "metadata": {
            "tags": []
          },
          "execution_count": 93
        }
      ]
    },
    {
      "cell_type": "code",
      "metadata": {
        "id": "XqD5xu5uDX3q",
        "colab": {
          "base_uri": "https://localhost:8080/"
        },
        "outputId": "3acd2497-a10d-4bf8-fb82-e1d508748c9a"
      },
      "source": [
        "sez = [1, 2, 3, 3, 5]\n",
        "list(set(sez))"
      ],
      "execution_count": null,
      "outputs": [
        {
          "output_type": "execute_result",
          "data": {
            "text/plain": [
              "[1, 2, 3, 5]"
            ]
          },
          "metadata": {
            "tags": []
          },
          "execution_count": 94
        }
      ]
    },
    {
      "cell_type": "markdown",
      "metadata": {
        "id": "BcqJcax-z2RZ"
      },
      "source": [
        "Operace s množinami:"
      ]
    },
    {
      "cell_type": "code",
      "metadata": {
        "id": "KhqQ4QnJ0er-"
      },
      "source": [
        "# prostredky hromadne dopravy\n",
        "set1 = {'tramvaj', 'vlak', 'metro', 'autobus'} \n",
        "# silnicni dopravni prostredky\n",
        "set2 = {'auto', 'autobus'}"
      ],
      "execution_count": null,
      "outputs": []
    },
    {
      "cell_type": "code",
      "metadata": {
        "id": "m7BMwr1OzbC9",
        "colab": {
          "base_uri": "https://localhost:8080/"
        },
        "outputId": "2a7470a9-86ba-407a-f8d3-97f447a1a0e2"
      },
      "source": [
        "# průnik (prvky v obou množinách)\n",
        "set1 & set2 # nebo set1.intersection(set2)"
      ],
      "execution_count": null,
      "outputs": [
        {
          "output_type": "execute_result",
          "data": {
            "text/plain": [
              "{'autobus'}"
            ]
          },
          "metadata": {
            "tags": []
          },
          "execution_count": 96
        }
      ]
    },
    {
      "cell_type": "code",
      "metadata": {
        "id": "Ds1tQDn30NcI",
        "colab": {
          "base_uri": "https://localhost:8080/"
        },
        "outputId": "27241239-0b0d-4801-c582-b7546f2fc5c9"
      },
      "source": [
        "# sjednocení (všechny prvky z obou množin)\n",
        "set1 | set2 # nebo set1.union(set2)"
      ],
      "execution_count": null,
      "outputs": [
        {
          "output_type": "execute_result",
          "data": {
            "text/plain": [
              "{'auto', 'autobus', 'metro', 'tramvaj', 'vlak'}"
            ]
          },
          "metadata": {
            "tags": []
          },
          "execution_count": 97
        }
      ]
    },
    {
      "cell_type": "code",
      "metadata": {
        "id": "xU7hd6v50TGl",
        "colab": {
          "base_uri": "https://localhost:8080/"
        },
        "outputId": "db2bde55-37c4-429c-9a5d-852f539d3c65"
      },
      "source": [
        "# rozdíl (prvky první množiny, ktere nejsou v druhé)\n",
        "set1 - set2 # nebo set1.difference(set2)"
      ],
      "execution_count": null,
      "outputs": [
        {
          "output_type": "execute_result",
          "data": {
            "text/plain": [
              "{'metro', 'tramvaj', 'vlak'}"
            ]
          },
          "metadata": {
            "tags": []
          },
          "execution_count": 98
        }
      ]
    },
    {
      "cell_type": "code",
      "metadata": {
        "id": "Coit89_P0WCa",
        "colab": {
          "base_uri": "https://localhost:8080/"
        },
        "outputId": "5a2e3204-1e64-42f2-87d4-67d3e92da2e7"
      },
      "source": [
        "# symetrický rozdíl (prvky, které jsou pouze v první a pouze v druhé)\n",
        "set1 ^ set2 # nebo set1.symetric_difference(set2)"
      ],
      "execution_count": null,
      "outputs": [
        {
          "output_type": "execute_result",
          "data": {
            "text/plain": [
              "{'auto', 'metro', 'tramvaj', 'vlak'}"
            ]
          },
          "metadata": {
            "tags": []
          },
          "execution_count": 99
        }
      ]
    },
    {
      "cell_type": "code",
      "metadata": {
        "id": "WyeXZz6015Ta",
        "colab": {
          "base_uri": "https://localhost:8080/"
        },
        "outputId": "fee525f4-2d9e-4961-cc4a-32d23a683c43"
      },
      "source": [
        "# převod seznamu na množinu a zpět\n",
        "\n",
        "s = [8,1,2,3,3,4,1,2,3,4,6,9]\n",
        "print(s)\n",
        "print(set(s))\n",
        "print(list(set(s)))"
      ],
      "execution_count": null,
      "outputs": [
        {
          "output_type": "stream",
          "text": [
            "[8, 1, 2, 3, 3, 4, 1, 2, 3, 4, 6, 9]\n",
            "{1, 2, 3, 4, 6, 8, 9}\n",
            "[1, 2, 3, 4, 6, 8, 9]\n"
          ],
          "name": "stdout"
        }
      ]
    },
    {
      "cell_type": "code",
      "metadata": {
        "id": "LTwXQzTN5l9p",
        "colab": {
          "base_uri": "https://localhost:8080/"
        },
        "outputId": "2bb6fc35-cea1-4eda-a3b5-a47fb073214f"
      },
      "source": [
        "# pozor! prázdnou množinu inicializujeme vždy takto:\n",
        "\n",
        "prazdna = set()\n",
        "print(type(prazdna))\n",
        "\n",
        "# protože následující kód vytvoří slovník (viz níže)\n",
        "p = {}\n",
        "print(type(p))"
      ],
      "execution_count": null,
      "outputs": [
        {
          "output_type": "stream",
          "text": [
            "<class 'set'>\n",
            "<class 'dict'>\n"
          ],
          "name": "stdout"
        }
      ]
    },
    {
      "cell_type": "markdown",
      "metadata": {
        "id": "iuTlFbY85R44"
      },
      "source": [
        "Python sets cheatsheet https://www.pythoncheatsheet.org/#sets"
      ]
    },
    {
      "cell_type": "markdown",
      "metadata": {
        "id": "WCtzHt5_04nh"
      },
      "source": [
        "## Slovníky\n",
        "\n",
        "Slovníky (dictionaries) jsou neuspořádané kolekce dvojic klíč-hodnota."
      ]
    },
    {
      "cell_type": "code",
      "metadata": {
        "id": "3B0uaR_lAjEY",
        "colab": {
          "base_uri": "https://localhost:8080/"
        },
        "outputId": "11562e03-4bcb-4ba9-8bfb-613f8bf4d952"
      },
      "source": [
        "di = {\n",
        "    1: \"ahoj\",\n",
        "    2: \"nazdar\",\n",
        "    's': \"cau\",\n",
        "}\n",
        "\n",
        "print(di[2])\n",
        "print(di['s'])"
      ],
      "execution_count": null,
      "outputs": [
        {
          "output_type": "stream",
          "text": [
            "nazdar\n",
            "cau\n"
          ],
          "name": "stdout"
        }
      ]
    },
    {
      "cell_type": "markdown",
      "metadata": {
        "id": "WtJFebVHA6AT"
      },
      "source": [
        "Prvkem slovníku může být jakýkoliv objekt, například funkce:"
      ]
    },
    {
      "cell_type": "code",
      "metadata": {
        "id": "6wWFP6zi0ZLj",
        "colab": {
          "base_uri": "https://localhost:8080/"
        },
        "outputId": "6e2a62ad-712c-460e-8f5e-09b6b0ed49fe"
      },
      "source": [
        "d={'tisk':print, 'delka':len}\n",
        "d['tisk'](s)"
      ],
      "execution_count": null,
      "outputs": [
        {
          "output_type": "stream",
          "text": [
            "[8, 1, 2, 3, 3, 4, 1, 2, 3, 4, 6, 9]\n"
          ],
          "name": "stdout"
        }
      ]
    },
    {
      "cell_type": "code",
      "metadata": {
        "id": "8vHqn6LP6QeS",
        "colab": {
          "base_uri": "https://localhost:8080/"
        },
        "outputId": "8e4bc3c0-68af-4468-b520-b1eb3e031e5d"
      },
      "source": [
        "d['delka'](s)"
      ],
      "execution_count": null,
      "outputs": [
        {
          "output_type": "execute_result",
          "data": {
            "text/plain": [
              "12"
            ]
          },
          "metadata": {
            "tags": []
          },
          "execution_count": 112
        }
      ]
    },
    {
      "cell_type": "markdown",
      "metadata": {
        "id": "lq0CMozaBDVf"
      },
      "source": [
        "Takto lze pomocí slovníku nahradit (jinak v pythonu neexistující) switch."
      ]
    },
    {
      "cell_type": "code",
      "metadata": {
        "id": "dYgNCgQk_FbD",
        "colab": {
          "base_uri": "https://localhost:8080/",
          "height": 332
        },
        "outputId": "d9a7816a-c8f3-499d-f091-008b121d26c9"
      },
      "source": [
        "# keys(), values(), items()\n",
        "\n",
        "print(di.keys()) # seznam klíčů\n",
        "print(di.values()) # seznam hodnot\n",
        "print(di.items()) # seznam dvojic klíč, hodnota\n",
        "print(type(di.items()))\n",
        "\n",
        "# metoda get a neexistující klíč\n",
        "\n",
        "print(di.get(1))\n",
        "print(di.get(0))\n",
        "print(di.get(1, 'neumim'))\n",
        "print(di.get(0, 'neumim'))\n",
        "\n",
        "di[0] # KeyError"
      ],
      "execution_count": null,
      "outputs": [
        {
          "output_type": "stream",
          "text": [
            "dict_keys([1, 2, 's'])\n",
            "dict_values(['ahoj', 'nazdar', 'cau'])\n",
            "dict_items([(1, 'ahoj'), (2, 'nazdar'), ('s', 'cau')])\n",
            "<class 'dict_items'>\n",
            "ahoj\n",
            "None\n",
            "ahoj\n",
            "neumim\n"
          ],
          "name": "stdout"
        },
        {
          "output_type": "error",
          "ename": "KeyError",
          "evalue": "ignored",
          "traceback": [
            "\u001b[0;31m---------------------------------------------------------------------------\u001b[0m",
            "\u001b[0;31mKeyError\u001b[0m                                  Traceback (most recent call last)",
            "\u001b[0;32m<ipython-input-115-58bfc2008f17>\u001b[0m in \u001b[0;36m<module>\u001b[0;34m()\u001b[0m\n\u001b[1;32m     13\u001b[0m \u001b[0mprint\u001b[0m\u001b[0;34m(\u001b[0m\u001b[0mdi\u001b[0m\u001b[0;34m.\u001b[0m\u001b[0mget\u001b[0m\u001b[0;34m(\u001b[0m\u001b[0;36m0\u001b[0m\u001b[0;34m,\u001b[0m \u001b[0;34m'neumim'\u001b[0m\u001b[0;34m)\u001b[0m\u001b[0;34m)\u001b[0m\u001b[0;34m\u001b[0m\u001b[0;34m\u001b[0m\u001b[0m\n\u001b[1;32m     14\u001b[0m \u001b[0;34m\u001b[0m\u001b[0m\n\u001b[0;32m---> 15\u001b[0;31m \u001b[0mdi\u001b[0m\u001b[0;34m[\u001b[0m\u001b[0;36m0\u001b[0m\u001b[0;34m]\u001b[0m \u001b[0;31m# KeyError\u001b[0m\u001b[0;34m\u001b[0m\u001b[0;34m\u001b[0m\u001b[0m\n\u001b[0m",
            "\u001b[0;31mKeyError\u001b[0m: 0"
          ]
        }
      ]
    },
    {
      "cell_type": "markdown",
      "metadata": {
        "id": "Yblw3gNK_F8y"
      },
      "source": [
        "https://www.pythoncheatsheet.org/#Dictionaries-and-Structuring-Data"
      ]
    },
    {
      "cell_type": "markdown",
      "metadata": {
        "id": "ZkiIuQ5OE7hZ"
      },
      "source": [
        "## Mutable vs. Immutable\n",
        "\n",
        "Immutable (neměnné) objekty se na rozdíl od mutable objektů po založení nedají měnit. Co to znamená? Například toto (str je immutable):\n"
      ]
    },
    {
      "cell_type": "code",
      "metadata": {
        "id": "OzP4fwWRAenl",
        "colab": {
          "base_uri": "https://localhost:8080/",
          "height": 180
        },
        "outputId": "a07b6a54-98e2-4630-b33e-61aa7d55a3d4"
      },
      "source": [
        "string = \"Ahoj\"\n",
        "string[0]=\"B\""
      ],
      "execution_count": null,
      "outputs": [
        {
          "output_type": "error",
          "ename": "TypeError",
          "evalue": "ignored",
          "traceback": [
            "\u001b[0;31m---------------------------------------------------------------------------\u001b[0m",
            "\u001b[0;31mTypeError\u001b[0m                                 Traceback (most recent call last)",
            "\u001b[0;32m<ipython-input-116-2dae860b5808>\u001b[0m in \u001b[0;36m<module>\u001b[0;34m()\u001b[0m\n\u001b[1;32m      1\u001b[0m \u001b[0mstring\u001b[0m \u001b[0;34m=\u001b[0m \u001b[0;34m\"Ahoj\"\u001b[0m\u001b[0;34m\u001b[0m\u001b[0;34m\u001b[0m\u001b[0m\n\u001b[0;32m----> 2\u001b[0;31m \u001b[0mstring\u001b[0m\u001b[0;34m[\u001b[0m\u001b[0;36m0\u001b[0m\u001b[0;34m]\u001b[0m\u001b[0;34m=\u001b[0m\u001b[0;34m\"B\"\u001b[0m\u001b[0;34m\u001b[0m\u001b[0;34m\u001b[0m\u001b[0m\n\u001b[0m",
            "\u001b[0;31mTypeError\u001b[0m: 'str' object does not support item assignment"
          ]
        }
      ]
    },
    {
      "cell_type": "markdown",
      "metadata": {
        "id": "kP326DrzfjmE"
      },
      "source": [
        "Na rozdíl od například seznamů, které jsou mutable:"
      ]
    },
    {
      "cell_type": "code",
      "metadata": {
        "id": "qfTDIW9GE6Gx",
        "colab": {
          "base_uri": "https://localhost:8080/"
        },
        "outputId": "776fe40b-8f35-48b5-d98f-39f174f72c34"
      },
      "source": [
        "seznam=[x for x in string]\n",
        "print(seznam)\n",
        "seznam[0]=\"B\"\n",
        "print(\"\".join(seznam))"
      ],
      "execution_count": null,
      "outputs": [
        {
          "output_type": "stream",
          "text": [
            "['A', 'h', 'o', 'j']\n",
            "Bhoj\n"
          ],
          "name": "stdout"
        }
      ]
    },
    {
      "cell_type": "markdown",
      "metadata": {
        "id": "uxxhB6XZfufs"
      },
      "source": [
        "\n",
        "Zároveň je třeba dodat, že immutable objekty se předávají hodnotou, mutable odkazem. Proto pozor:\n"
      ]
    },
    {
      "cell_type": "code",
      "metadata": {
        "id": "vLXm-p2ofoZm",
        "colab": {
          "base_uri": "https://localhost:8080/"
        },
        "outputId": "222bbf15-21fa-4845-d094-141bdf53fa21"
      },
      "source": [
        "s=[\"A\", \"B\", [\"C\"], \"D\"]\n",
        "for x in s:\n",
        "  x += \"x\"\n",
        "print(s)"
      ],
      "execution_count": null,
      "outputs": [
        {
          "output_type": "stream",
          "text": [
            "['A', 'B', ['C', 'x'], 'D']\n"
          ],
          "name": "stdout"
        }
      ]
    },
    {
      "cell_type": "markdown",
      "metadata": {
        "id": "ysBAKlHWgCZA"
      },
      "source": [
        "Tabulka níže uvádí přehled něktrých základních objektů a zda jsou mutable/immutable.\n",
        "\n",
        "<img src=\"https://miro.medium.com/max/1316/1*uFlTNY4W3czywyU18zxl8w.png\" />\n",
        "\n",
        "Pokud si zakládáte vlastní objekty, tak defaultně budou mutable."
      ]
    },
    {
      "cell_type": "markdown",
      "metadata": {
        "id": "7cJ6aM1OZwkr"
      },
      "source": [
        "Poznámka: n-tice je immutable, ale ..."
      ]
    },
    {
      "cell_type": "code",
      "metadata": {
        "id": "myKeNsBxZO3y",
        "colab": {
          "base_uri": "https://localhost:8080/",
          "height": 180
        },
        "outputId": "28b3eb6b-20a2-4d3d-a63a-3ccea09a3091"
      },
      "source": [
        "ntice = (1, [2, 3], 4)\n",
        "ntice[1] = [3,4] # nelze"
      ],
      "execution_count": null,
      "outputs": [
        {
          "output_type": "error",
          "ename": "TypeError",
          "evalue": "ignored",
          "traceback": [
            "\u001b[0;31m---------------------------------------------------------------------------\u001b[0m",
            "\u001b[0;31mTypeError\u001b[0m                                 Traceback (most recent call last)",
            "\u001b[0;32m<ipython-input-121-4080baeecf46>\u001b[0m in \u001b[0;36m<module>\u001b[0;34m()\u001b[0m\n\u001b[1;32m      1\u001b[0m \u001b[0mntice\u001b[0m \u001b[0;34m=\u001b[0m \u001b[0;34m(\u001b[0m\u001b[0;36m1\u001b[0m\u001b[0;34m,\u001b[0m \u001b[0;34m[\u001b[0m\u001b[0;36m2\u001b[0m\u001b[0;34m,\u001b[0m \u001b[0;36m3\u001b[0m\u001b[0;34m]\u001b[0m\u001b[0;34m,\u001b[0m \u001b[0;36m4\u001b[0m\u001b[0;34m)\u001b[0m\u001b[0;34m\u001b[0m\u001b[0;34m\u001b[0m\u001b[0m\n\u001b[0;32m----> 2\u001b[0;31m \u001b[0mntice\u001b[0m\u001b[0;34m[\u001b[0m\u001b[0;36m1\u001b[0m\u001b[0;34m]\u001b[0m \u001b[0;34m=\u001b[0m \u001b[0;34m[\u001b[0m\u001b[0;36m3\u001b[0m\u001b[0;34m,\u001b[0m\u001b[0;36m4\u001b[0m\u001b[0;34m]\u001b[0m \u001b[0;31m# nelze\u001b[0m\u001b[0;34m\u001b[0m\u001b[0;34m\u001b[0m\u001b[0m\n\u001b[0m",
            "\u001b[0;31mTypeError\u001b[0m: 'tuple' object does not support item assignment"
          ]
        }
      ]
    },
    {
      "cell_type": "code",
      "metadata": {
        "id": "eApoh3FpZ6IB",
        "colab": {
          "base_uri": "https://localhost:8080/"
        },
        "outputId": "8263e5ff-52b5-4651-e050-e423ac00b533"
      },
      "source": [
        "ntice[1].append(3) # ajaj \n",
        "ntice"
      ],
      "execution_count": null,
      "outputs": [
        {
          "output_type": "execute_result",
          "data": {
            "text/plain": [
              "(1, [2, 3, 3, 3, 3, 3, 3, 3], 4)"
            ]
          },
          "metadata": {
            "tags": []
          },
          "execution_count": 127
        }
      ]
    },
    {
      "cell_type": "code",
      "metadata": {
        "id": "64Q3C2TEa57z",
        "colab": {
          "base_uri": "https://localhost:8080/",
          "height": 163
        },
        "outputId": "4dd69f47-4d8a-4532-df95-212acd925cb9"
      },
      "source": [
        "ntice[1] += [3,4] # vyhodi sice vyjimku, ale"
      ],
      "execution_count": null,
      "outputs": [
        {
          "output_type": "error",
          "ename": "TypeError",
          "evalue": "ignored",
          "traceback": [
            "\u001b[0;31m---------------------------------------------------------------------------\u001b[0m",
            "\u001b[0;31mTypeError\u001b[0m                                 Traceback (most recent call last)",
            "\u001b[0;32m<ipython-input-131-30c699a353f1>\u001b[0m in \u001b[0;36m<module>\u001b[0;34m()\u001b[0m\n\u001b[0;32m----> 1\u001b[0;31m \u001b[0mntice\u001b[0m\u001b[0;34m[\u001b[0m\u001b[0;36m1\u001b[0m\u001b[0;34m]\u001b[0m \u001b[0;34m+=\u001b[0m \u001b[0;34m[\u001b[0m\u001b[0;36m3\u001b[0m\u001b[0;34m,\u001b[0m\u001b[0;36m4\u001b[0m\u001b[0;34m]\u001b[0m \u001b[0;31m# vyhodi sice vyjimku, ale\u001b[0m\u001b[0;34m\u001b[0m\u001b[0;34m\u001b[0m\u001b[0m\n\u001b[0m",
            "\u001b[0;31mTypeError\u001b[0m: 'tuple' object does not support item assignment"
          ]
        }
      ]
    },
    {
      "cell_type": "code",
      "metadata": {
        "id": "4UkzWhqWa9lD",
        "colab": {
          "base_uri": "https://localhost:8080/"
        },
        "outputId": "474924fd-2c17-402f-f5fd-639bd0102996"
      },
      "source": [
        "# wtf?\n",
        "ntice"
      ],
      "execution_count": null,
      "outputs": [
        {
          "output_type": "execute_result",
          "data": {
            "text/plain": [
              "(1, [2, 3, 3, 3, 3, 3, 3, 3, 3, 4, 3, 4, 3, 4, 3, 4], 4)"
            ]
          },
          "metadata": {
            "tags": []
          },
          "execution_count": 132
        }
      ]
    },
    {
      "cell_type": "markdown",
      "metadata": {
        "id": "p926PgglvP0n"
      },
      "source": [
        "## Generátorová notace\n",
        "\n",
        "Minule jsme si ukazovali generátorovou notaci seznamu (list comprehensions) a jak ji číst:\n",
        "\n",
        "Jak číst list comprehensions?\n",
        "\n",
        "1. Vždy si výrazu najděte prostřední část **`for prvek in iterable`**\n",
        "2. V levé části pak uvidíte co se prvkem stane před tím než je vložen do nového seznamu, např. **`prvek/2`**\n",
        "3. v pravé části najdete podmínku pomocí inline if, která říká kdy prvek projde do levé části výrazu, např. **`if prvek%2==0`**. Tato část je nepovinná "
      ]
    },
    {
      "cell_type": "code",
      "metadata": {
        "id": "-IRscQG_g9XB",
        "colab": {
          "base_uri": "https://localhost:8080/"
        },
        "outputId": "8e791fb7-23ef-4e80-c56e-1071b917618c"
      },
      "source": [
        "iterable = [1, 2, 3, 4, 5, 6, 7, 8, 9, 10]\n",
        "print([prvek for prvek in iterable])\n",
        "print([prvek/2 for prvek in iterable])\n",
        "print([prvek/2 for prvek in iterable if prvek%2==0])"
      ],
      "execution_count": null,
      "outputs": [
        {
          "output_type": "stream",
          "text": [
            "[1, 2, 3, 4, 5, 6, 7, 8, 9, 10]\n",
            "[0.5, 1.0, 1.5, 2.0, 2.5, 3.0, 3.5, 4.0, 4.5, 5.0]\n",
            "[1.0, 2.0, 3.0, 4.0, 5.0]\n"
          ],
          "name": "stdout"
        }
      ]
    },
    {
      "cell_type": "markdown",
      "metadata": {
        "id": "0NynBgDswipD"
      },
      "source": [
        "Proč generátorová notace?"
      ]
    },
    {
      "cell_type": "code",
      "metadata": {
        "id": "piMRQlYIwbcA",
        "colab": {
          "base_uri": "https://localhost:8080/"
        },
        "outputId": "2f008286-975a-4678-9efa-fae15240cb3a"
      },
      "source": [
        "sez = [x**2 for x in range(10)]\n",
        "gen = (x**2 for x in range(10))\n",
        "\n",
        "print(sez, type(sez))\n",
        "print(gen, type(gen))"
      ],
      "execution_count": null,
      "outputs": [
        {
          "output_type": "stream",
          "text": [
            "[0, 1, 4, 9, 16, 25, 36, 49, 64, 81] <class 'list'>\n",
            "<generator object <genexpr> at 0x7f39682ce250> <class 'generator'>\n"
          ],
          "name": "stdout"
        }
      ]
    },
    {
      "cell_type": "markdown",
      "metadata": {
        "id": "KNssozUIw5Fo"
      },
      "source": [
        "`sez` je seznam vytvořený pomocí generátorové notace seznamu (list comprehension).\n",
        "\n",
        "`gen` je něco jiného - je to iterovatelný objekt, jehož prvky se vytvoří v momentě, kdy budou potřeba (při iterování přes jeho prvky) - tento objekt se nazývá **generátor** a generátorová notace (generator expression) je první ze tří způsobů jak generátor vytvořit.\n",
        "\n",
        "Generátor můžeme procházet pomocí `for`"
      ]
    },
    {
      "cell_type": "code",
      "metadata": {
        "id": "WiQFEU5jwuZl",
        "colab": {
          "base_uri": "https://localhost:8080/"
        },
        "outputId": "3c1fb247-e401-4d3b-ac52-c20167231f35"
      },
      "source": [
        "for x in gen:\n",
        "  print(x)"
      ],
      "execution_count": null,
      "outputs": [
        {
          "output_type": "stream",
          "text": [
            "0\n",
            "1\n",
            "4\n",
            "9\n",
            "16\n",
            "25\n",
            "36\n",
            "49\n",
            "64\n",
            "81\n"
          ],
          "name": "stdout"
        }
      ]
    },
    {
      "cell_type": "markdown",
      "metadata": {
        "id": "30QsL_Jkx3zQ"
      },
      "source": [
        "Přímo přistupovat k jeho prvkům však nelze."
      ]
    },
    {
      "cell_type": "code",
      "metadata": {
        "id": "WME1ATiDxt6o",
        "colab": {
          "base_uri": "https://localhost:8080/",
          "height": 163
        },
        "outputId": "ff5ab824-73d2-4023-86d9-07da1c834d92"
      },
      "source": [
        "gen[0]"
      ],
      "execution_count": null,
      "outputs": [
        {
          "output_type": "error",
          "ename": "TypeError",
          "evalue": "ignored",
          "traceback": [
            "\u001b[0;31m---------------------------------------------------------------------------\u001b[0m",
            "\u001b[0;31mTypeError\u001b[0m                                 Traceback (most recent call last)",
            "\u001b[0;32m<ipython-input-137-dc1e7bb788f6>\u001b[0m in \u001b[0;36m<module>\u001b[0;34m()\u001b[0m\n\u001b[0;32m----> 1\u001b[0;31m \u001b[0mgen\u001b[0m\u001b[0;34m[\u001b[0m\u001b[0;36m0\u001b[0m\u001b[0;34m]\u001b[0m\u001b[0;34m\u001b[0m\u001b[0;34m\u001b[0m\u001b[0m\n\u001b[0m",
            "\u001b[0;31mTypeError\u001b[0m: 'generator' object is not subscriptable"
          ]
        }
      ]
    },
    {
      "cell_type": "markdown",
      "metadata": {
        "id": "QAGTg2vTyFmn"
      },
      "source": [
        "Proč používat generátory? \n",
        "\n",
        "Představme si, že potřebujeme sečíst druhé mocnicny nějaké dlouhé řady."
      ]
    },
    {
      "cell_type": "code",
      "metadata": {
        "id": "MSzVslpdxvmb",
        "colab": {
          "base_uri": "https://localhost:8080/"
        },
        "outputId": "9c378779-6069-4a56-b072-f75a4cc190d8"
      },
      "source": [
        "import timeit\n",
        "\n",
        "# vytvoří seznam do paměti \n",
        "l = [x**2 for x in range(1000000)]\n",
        "print(sum(l))\n",
        "\n",
        "# vytvoří generátor\n",
        "g = (x**2 for x in range(1000000))\n",
        "print(sum(g))\n",
        "\n",
        "print(timeit.timeit(lambda: [x**2 for x in range (1000000)], number=10), ' sec')\n",
        "print(timeit.timeit(lambda: (x**2 for x in range (1000000)), number=10), ' sec')"
      ],
      "execution_count": null,
      "outputs": [
        {
          "output_type": "stream",
          "text": [
            "333332833333500000\n",
            "333332833333500000\n",
            "3.0619555890007177  sec\n",
            "1.3967000995762646e-05  sec\n"
          ],
          "name": "stdout"
        }
      ]
    },
    {
      "cell_type": "markdown",
      "metadata": {
        "id": "V9GLjNi43udz"
      },
      "source": [
        "Z toho výplývá důležité pravidlo - nepoužívejte seznamy když nemusíte."
      ]
    },
    {
      "cell_type": "markdown",
      "metadata": {
        "id": "hzYO871G36VM"
      },
      "source": [
        "Generátorovou notací lze vytvořit i množinu"
      ]
    },
    {
      "cell_type": "code",
      "metadata": {
        "id": "0sjjbwF53UCA",
        "colab": {
          "base_uri": "https://localhost:8080/"
        },
        "outputId": "b57b79c7-3781-41e4-b376-1206bc7ad9ff"
      },
      "source": [
        "{x % 2 for x in range(100)}"
      ],
      "execution_count": null,
      "outputs": [
        {
          "output_type": "execute_result",
          "data": {
            "text/plain": [
              "{0, 1}"
            ]
          },
          "metadata": {
            "tags": []
          },
          "execution_count": 142
        }
      ]
    },
    {
      "cell_type": "markdown",
      "metadata": {
        "id": "JMbDQbbq4Mbh"
      },
      "source": [
        "nebo slovník (používáno velmi často)"
      ]
    },
    {
      "cell_type": "code",
      "metadata": {
        "id": "OB1cPw794Giy",
        "colab": {
          "base_uri": "https://localhost:8080/"
        },
        "outputId": "7621ce1e-48ce-4cc8-c74a-3c3e7bc32665"
      },
      "source": [
        "d = {1: \"ahoj\", 2:\"nazdar\", 3: \"čau\"}\n",
        "\n",
        "reverse_d = {val:key for key, val in d.items()}\n",
        "reverse_d"
      ],
      "execution_count": null,
      "outputs": [
        {
          "output_type": "execute_result",
          "data": {
            "text/plain": [
              "{'ahoj': 1, 'nazdar': 2, 'čau': 3}"
            ]
          },
          "metadata": {
            "tags": []
          },
          "execution_count": 49
        }
      ]
    },
    {
      "cell_type": "markdown",
      "metadata": {
        "id": "YdAdRyGUR16W"
      },
      "source": [
        "## zip\n",
        "\n",
        "zip spojí iterovatelné objekty do jednoho iterovatelného objektu."
      ]
    },
    {
      "cell_type": "code",
      "metadata": {
        "id": "3OEOmvLkTU4Z",
        "colab": {
          "base_uri": "https://localhost:8080/"
        },
        "outputId": "ef81cc42-bdaf-405c-8d14-e1c55fcc7989"
      },
      "source": [
        "a = [1, 3, 5, 7, 9]\n",
        "b = (2, 4, 6, 8)\n",
        "\n",
        "print(zip(a, b)) # vysledek je generator\n",
        "\n",
        "z = [x for x in zip(a, b)]\n",
        "z"
      ],
      "execution_count": null,
      "outputs": [
        {
          "output_type": "stream",
          "text": [
            "<zip object at 0x7f39662bd2d0>\n"
          ],
          "name": "stdout"
        },
        {
          "output_type": "execute_result",
          "data": {
            "text/plain": [
              "[(1, 2), (3, 4), (5, 6), (7, 8)]"
            ]
          },
          "metadata": {
            "tags": []
          },
          "execution_count": 143
        }
      ]
    },
    {
      "cell_type": "markdown",
      "metadata": {
        "id": "rrZA3F8dR4VA"
      },
      "source": [
        "## starred operator\n",
        "\n",
        "starred operator předá jednotlivé prvky seznamu jako parametry funkci"
      ]
    },
    {
      "cell_type": "code",
      "metadata": {
        "id": "6Fgp9-oGU5R8",
        "colab": {
          "base_uri": "https://localhost:8080/"
        },
        "outputId": "b19b3b58-35ce-414b-8bc6-c637d1d16548"
      },
      "source": [
        "w = [\"ahoj\", \"jak\", \"se\", \"mas\"]\n",
        "print(w)\n",
        "\n",
        "print(*w) # stejne jako print(w[0], w[1], ...)\n",
        "\n",
        "# spojeni dvou seznamu\n",
        "w2 = ['auto', 'letadlo', 'vlak']\n",
        "\n",
        "[*w, *w2] # stejne jako w + w2\n"
      ],
      "execution_count": null,
      "outputs": [
        {
          "output_type": "stream",
          "text": [
            "['ahoj', 'jak', 'se', 'mas']\n",
            "ahoj jak se mas\n"
          ],
          "name": "stdout"
        },
        {
          "output_type": "execute_result",
          "data": {
            "text/plain": [
              "['ahoj', 'jak', 'se', 'mas', 'auto', 'letadlo', 'vlak']"
            ]
          },
          "metadata": {
            "tags": []
          },
          "execution_count": 144
        }
      ]
    },
    {
      "cell_type": "markdown",
      "metadata": {
        "id": "LCnm7RUQVJUq"
      },
      "source": [
        "poznámka: v pythonu není funkce unzip, místo toho lze použít opět zip v kombinaci s * operátorem.\n"
      ]
    },
    {
      "cell_type": "code",
      "metadata": {
        "id": "fuF7rwh4VVpU",
        "colab": {
          "base_uri": "https://localhost:8080/"
        },
        "outputId": "fcc2e455-b774-40ab-a6af-b5e675ba13f4"
      },
      "source": [
        "print(*z)\n",
        "\n",
        "licha, suda = zip(*z)\n",
        "\n",
        "print(licha)\n",
        "print(suda)"
      ],
      "execution_count": null,
      "outputs": [
        {
          "output_type": "stream",
          "text": [
            "(1, 2) (3, 4) (5, 6) (7, 8)\n",
            "(1, 3, 5, 7)\n",
            "(2, 4, 6, 8)\n"
          ],
          "name": "stdout"
        }
      ]
    },
    {
      "cell_type": "markdown",
      "metadata": {
        "id": "Hp8P2CSVdyCg"
      },
      "source": [
        "použití se slovníky"
      ]
    },
    {
      "cell_type": "code",
      "metadata": {
        "id": "nfRreh8Hcihg",
        "colab": {
          "base_uri": "https://localhost:8080/"
        },
        "outputId": "1655e47f-2fa2-4bf4-d726-9e82a1ad50fc"
      },
      "source": [
        "d = {1:\"ahoj\", 2:\"nazdar\", 3:\"cau\"}\n",
        "print(*d)\n",
        "\n",
        "d2 = {val:key for key,val in d.items()}\n",
        "\n",
        "{**d, **d2} #spojeni dvou slovniku"
      ],
      "execution_count": null,
      "outputs": [
        {
          "output_type": "stream",
          "text": [
            "1 2 3\n"
          ],
          "name": "stdout"
        },
        {
          "output_type": "execute_result",
          "data": {
            "text/plain": [
              "{1: 'ahoj', 2: 'nazdar', 3: 'cau', 'ahoj': 1, 'cau': 3, 'nazdar': 2}"
            ]
          },
          "metadata": {
            "tags": []
          },
          "execution_count": 146
        }
      ]
    },
    {
      "cell_type": "markdown",
      "metadata": {
        "id": "_HvZ1pYIR7ix"
      },
      "source": [
        "## map\n",
        "\n",
        "map aplikuje funkci na všechny prvky iterovatelného objektu (výsledkem je opět generátor)"
      ]
    },
    {
      "cell_type": "code",
      "metadata": {
        "id": "ztn_fcO_XV7c",
        "colab": {
          "base_uri": "https://localhost:8080/"
        },
        "outputId": "840f962a-4ed7-4440-da14-690bf3ed39f2"
      },
      "source": [
        "def f(x):\n",
        "  return x**2\n",
        "  \n",
        "t = (1, 2, 3, 4)\n",
        "\n",
        "print(map(f, t))\n",
        "\n",
        "print([x for x in map(f, t)])\n",
        "print(list(map(f, t)))"
      ],
      "execution_count": null,
      "outputs": [
        {
          "output_type": "stream",
          "text": [
            "<map object at 0x7f3966371f50>\n",
            "[1, 4, 9, 16]\n",
            "[1, 4, 9, 16]\n"
          ],
          "name": "stdout"
        }
      ]
    },
    {
      "cell_type": "markdown",
      "metadata": {
        "id": "JBShesehR9hY"
      },
      "source": [
        "## lambda\n",
        "\n",
        "lambda umožňuje použít funkci ad-hoc bez definice těla funkce"
      ]
    },
    {
      "cell_type": "code",
      "metadata": {
        "id": "LeVJFiWM4fp1",
        "colab": {
          "base_uri": "https://localhost:8080/"
        },
        "outputId": "89286927-b367-4d69-f077-90459c4b4020"
      },
      "source": [
        "f = lambda x: x**2\n",
        "list(map(lambda x: x**2, t))"
      ],
      "execution_count": null,
      "outputs": [
        {
          "output_type": "execute_result",
          "data": {
            "text/plain": [
              "[1, 4, 9, 16]"
            ]
          },
          "metadata": {
            "tags": []
          },
          "execution_count": 149
        }
      ]
    },
    {
      "cell_type": "code",
      "metadata": {
        "id": "juOGZ4nkYHuj"
      },
      "source": [
        "funkce = lambda x: x**2"
      ],
      "execution_count": null,
      "outputs": []
    },
    {
      "cell_type": "code",
      "metadata": {
        "id": "EVdsaNqFK9je",
        "colab": {
          "base_uri": "https://localhost:8080/"
        },
        "outputId": "5fd705c9-36b1-40d1-9fb7-6257696aa50a"
      },
      "source": [
        "print(funkce(3), f(3))"
      ],
      "execution_count": null,
      "outputs": [
        {
          "output_type": "stream",
          "text": [
            "9 9\n"
          ],
          "name": "stdout"
        }
      ]
    }
  ]
}