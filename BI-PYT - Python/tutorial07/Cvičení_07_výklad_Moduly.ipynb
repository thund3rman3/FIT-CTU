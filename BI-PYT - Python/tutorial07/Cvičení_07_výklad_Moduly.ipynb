{
 "cells": [
  {
   "cell_type": "markdown",
   "metadata": {
    "id": "NCiSDxSwoMld"
   },
   "source": [
    "# Moduly\n",
    "\n",
    "Související přednáška zde: http://vyuka.ookami.cz/materialy/python/modules/_modules.xml, oficální dokumentace zde: https://docs.python.org/3/tutorial/modules.html\n",
    "\n",
    "Modul v pythonu je soubor obsahující nějaký kód (např. příkazy, funkce, třídy a další). Jméno souboru je jméno modulu + přípona `.py`. \n",
    "\n",
    "**K pojmenovávání** (viz [PEP-8](https://www.python.org/dev/peps/pep-0008/#package-and-module-names)): \n",
    "\n",
    "\n",
    "*   Pro **modul** použijte krátké jméno psané výhradně malými písmeny a podtržítkem (pokud to zlepší čitelnost). \n",
    "*   Pro **balíček** je to stejné jako pro moduly, ale podtržítkům se spíš vyhněte.\n",
    "\n",
    "Modul načteme pomocí klíčového slova `import`. Python obsahuje mnoho standardních modulů (https://docs.python.org/3/library/), pojďme si ukázat základní vlastnosti modulů na modulu `this`:"
   ]
  },
  {
   "cell_type": "code",
   "execution_count": null,
   "metadata": {
    "colab": {
     "base_uri": "https://localhost:8080/"
    },
    "id": "qYdLUwAKoQnU",
    "outputId": "e735cacc-8a81-4a4d-cac1-918da6a0f12a"
   },
   "outputs": [
    {
     "name": "stdout",
     "output_type": "stream",
     "text": [
      "The Zen of Python, by Tim Peters\n",
      "\n",
      "Beautiful is better than ugly.\n",
      "Explicit is better than implicit.\n",
      "Simple is better than complex.\n",
      "Complex is better than complicated.\n",
      "Flat is better than nested.\n",
      "Sparse is better than dense.\n",
      "Readability counts.\n",
      "Special cases aren't special enough to break the rules.\n",
      "Although practicality beats purity.\n",
      "Errors should never pass silently.\n",
      "Unless explicitly silenced.\n",
      "In the face of ambiguity, refuse the temptation to guess.\n",
      "There should be one-- and preferably only one --obvious way to do it.\n",
      "Although that way may not be obvious at first unless you're Dutch.\n",
      "Now is better than never.\n",
      "Although never is often better than *right* now.\n",
      "If the implementation is hard to explain, it's a bad idea.\n",
      "If the implementation is easy to explain, it may be a good idea.\n",
      "Namespaces are one honking great idea -- let's do more of those!\n"
     ]
    }
   ],
   "source": [
    "import this"
   ]
  },
  {
   "cell_type": "markdown",
   "metadata": {
    "id": "1gUhB4qK4a1_"
   },
   "source": [
    "modul `this` je easter egg a jeho jediným posláním je vypsat The Zen of Python. Pojďme si udělat takový náš vlastní modul this, který tento text vypíše přeložený do češtiny pomocí google translatoru.\n",
    "\n",
    "Google translator pro python řeší modul `googletrans`."
   ]
  },
  {
   "cell_type": "code",
   "execution_count": null,
   "metadata": {
    "colab": {
     "base_uri": "https://localhost:8080/"
    },
    "id": "RvRB7JQ47306",
    "outputId": "e57e5a2a-085f-4fb3-a840-8f7d93e98d7b"
   },
   "outputs": [
    {
     "name": "stdout",
     "output_type": "stream",
     "text": [
      "Requirement already satisfied: googletrans in /usr/local/lib/python3.6/dist-packages (3.0.0)\n",
      "Requirement already satisfied: httpx==0.13.3 in /usr/local/lib/python3.6/dist-packages (from googletrans) (0.13.3)\n",
      "Requirement already satisfied: rfc3986<2,>=1.3 in /usr/local/lib/python3.6/dist-packages (from httpx==0.13.3->googletrans) (1.4.0)\n",
      "Requirement already satisfied: hstspreload in /usr/local/lib/python3.6/dist-packages (from httpx==0.13.3->googletrans) (2020.10.20)\n",
      "Requirement already satisfied: idna==2.* in /usr/local/lib/python3.6/dist-packages (from httpx==0.13.3->googletrans) (2.10)\n",
      "Requirement already satisfied: certifi in /usr/local/lib/python3.6/dist-packages (from httpx==0.13.3->googletrans) (2020.6.20)\n",
      "Requirement already satisfied: chardet==3.* in /usr/local/lib/python3.6/dist-packages (from httpx==0.13.3->googletrans) (3.0.4)\n",
      "Requirement already satisfied: httpcore==0.9.* in /usr/local/lib/python3.6/dist-packages (from httpx==0.13.3->googletrans) (0.9.1)\n",
      "Requirement already satisfied: sniffio in /usr/local/lib/python3.6/dist-packages (from httpx==0.13.3->googletrans) (1.2.0)\n",
      "Requirement already satisfied: h2==3.* in /usr/local/lib/python3.6/dist-packages (from httpcore==0.9.*->httpx==0.13.3->googletrans) (3.2.0)\n",
      "Requirement already satisfied: h11<0.10,>=0.8 in /usr/local/lib/python3.6/dist-packages (from httpcore==0.9.*->httpx==0.13.3->googletrans) (0.9.0)\n",
      "Requirement already satisfied: contextvars>=2.1; python_version < \"3.7\" in /usr/local/lib/python3.6/dist-packages (from sniffio->httpx==0.13.3->googletrans) (2.4)\n",
      "Requirement already satisfied: hpack<4,>=3.0 in /usr/local/lib/python3.6/dist-packages (from h2==3.*->httpcore==0.9.*->httpx==0.13.3->googletrans) (3.0.0)\n",
      "Requirement already satisfied: hyperframe<6,>=5.2.0 in /usr/local/lib/python3.6/dist-packages (from h2==3.*->httpcore==0.9.*->httpx==0.13.3->googletrans) (5.2.0)\n",
      "Requirement already satisfied: immutables>=0.9 in /usr/local/lib/python3.6/dist-packages (from contextvars>=2.1; python_version < \"3.7\"->sniffio->httpx==0.13.3->googletrans) (0.14)\n"
     ]
    }
   ],
   "source": [
    "!pip install googletrans"
   ]
  },
  {
   "cell_type": "markdown",
   "metadata": {
    "id": "AN7aCHOc7rKp"
   },
   "source": [
    "\n",
    "Nejprve si zobrazíme zdrojový kód modulu `this`:"
   ]
  },
  {
   "cell_type": "code",
   "execution_count": null,
   "metadata": {
    "colab": {
     "base_uri": "https://localhost:8080/"
    },
    "id": "JyKMc2wo5lSa",
    "outputId": "f2eafc08-e0ad-4da2-8ffc-e0e7c1493e59"
   },
   "outputs": [
    {
     "name": "stdout",
     "output_type": "stream",
     "text": [
      "s = \"\"\"Gur Mra bs Clguba, ol Gvz Crgref\n",
      "\n",
      "Ornhgvshy vf orggre guna htyl.\n",
      "Rkcyvpvg vf orggre guna vzcyvpvg.\n",
      "Fvzcyr vf orggre guna pbzcyrk.\n",
      "Pbzcyrk vf orggre guna pbzcyvpngrq.\n",
      "Syng vf orggre guna arfgrq.\n",
      "Fcnefr vf orggre guna qrafr.\n",
      "Ernqnovyvgl pbhagf.\n",
      "Fcrpvny pnfrf nera'g fcrpvny rabhtu gb oernx gur ehyrf.\n",
      "Nygubhtu cenpgvpnyvgl orngf chevgl.\n",
      "Reebef fubhyq arire cnff fvyragyl.\n",
      "Hayrff rkcyvpvgyl fvyraprq.\n",
      "Va gur snpr bs nzovthvgl, ershfr gur grzcgngvba gb thrff.\n",
      "Gurer fubhyq or bar-- naq cersrenoyl bayl bar --boivbhf jnl gb qb vg.\n",
      "Nygubhtu gung jnl znl abg or boivbhf ng svefg hayrff lbh'er Qhgpu.\n",
      "Abj vf orggre guna arire.\n",
      "Nygubhtu arire vf bsgra orggre guna *evtug* abj.\n",
      "Vs gur vzcyrzragngvba vf uneq gb rkcynva, vg'f n onq vqrn.\n",
      "Vs gur vzcyrzragngvba vf rnfl gb rkcynva, vg znl or n tbbq vqrn.\n",
      "Anzrfcnprf ner bar ubaxvat terng vqrn -- yrg'f qb zber bs gubfr!\"\"\"\n",
      "\n",
      "d = {}\n",
      "for c in (65, 97):\n",
      "    for i in range(26):\n",
      "        d[chr(i+c)] = chr((i+13) % 26 + c)\n",
      "\n",
      "print(\"\".join([d.get(c, c) for c in s]))\n",
      "\n"
     ]
    }
   ],
   "source": [
    "import inspect\n",
    "import this\n",
    "\n",
    "print(inspect.getsource(this))"
   ]
  },
  {
   "cell_type": "markdown",
   "metadata": {
    "id": "F3Io4f898AF-"
   },
   "source": [
    "a pomocí cell magic `%% writefile` si kód uložíme do souboru `this.py`, kde zároveň provedeme překlad textu Zen of Python. Povšiměte si, že pokud potřebuji naimportovat jen jeden objekt z modulu, nepoužívám `import modul` ale `from modul import objekt`."
   ]
  },
  {
   "cell_type": "code",
   "execution_count": null,
   "metadata": {
    "colab": {
     "base_uri": "https://localhost:8080/"
    },
    "id": "8cvxrM85rsSq",
    "outputId": "942fe131-3087-4696-f361-0fa48dbdcaa8"
   },
   "outputs": [
    {
     "name": "stdout",
     "output_type": "stream",
     "text": [
      "Writing this.py\n"
     ]
    }
   ],
   "source": [
    "%%writefile this.py \n",
    "from googletrans import Translator\n",
    "\n",
    "s = \"\"\"Gur Mra bs Clguba, ol Gvz Crgref\n",
    "\n",
    "Ornhgvshy vf orggre guna htyl.\n",
    "Rkcyvpvg vf orggre guna vzcyvpvg.\n",
    "Fvzcyr vf orggre guna pbzcyrk.\n",
    "Pbzcyrk vf orggre guna pbzcyvpngrq.\n",
    "Syng vf orggre guna arfgrq.\n",
    "Fcnefr vf orggre guna qrafr.\n",
    "Ernqnovyvgl pbhagf.\n",
    "Fcrpvny pnfrf nera'g fcrpvny rabhtu gb oernx gur ehyrf.\n",
    "Nygubhtu cenpgvpnyvgl orngf chevgl.\n",
    "Reebef fubhyq arire cnff fvyragyl.\n",
    "Hayrff rkcyvpvgyl fvyraprq.\n",
    "Va gur snpr bs nzovthvgl, ershfr gur grzcgngvba gb thrff.\n",
    "Gurer fubhyq or bar-- naq cersrenoyl bayl bar --boivbhf jnl gb qb vg.\n",
    "Nygubhtu gung jnl znl abg or boivbhf ng svefg hayrff lbh'er Qhgpu.\n",
    "Abj vf orggre guna arire.\n",
    "Nygubhtu arire vf bsgra orggre guna *evtug* abj.\n",
    "Vs gur vzcyrzragngvba vf uneq gb rkcynva, vg'f n onq vqrn.\n",
    "Vs gur vzcyrzragngvba vf rnfl gb rkcynva, vg znl or n tbbq vqrn.\n",
    "Anzrfcnprf ner bar ubaxvat terng vqrn -- yrg'f qb zber bs gubfr!\"\"\"\n",
    "\n",
    "d = {}\n",
    "for c in (65, 97):\n",
    "    for i in range(26):\n",
    "        d[chr(i + c)] = chr((i + 13) % 26 + c)\n",
    "\n",
    "translator = Translator()\n",
    "print(\n",
    "    translator.translate(\n",
    "        \"\".join([d.get(c, c) for c in s]), \n",
    "        src=\"en\", \n",
    "        dest=\"cs\"\n",
    "      ).text\n",
    "    )\n"
   ]
  },
  {
   "cell_type": "markdown",
   "metadata": {
    "id": "KI9cGucb87kn"
   },
   "source": [
    "Nyní nám již stačí náš nový modul `this` naimportovat. To ovšem není tak snadné, protože modul `this` už je naimportován a tak musíme použít funkci `reload` z modulu `importlib`:"
   ]
  },
  {
   "cell_type": "code",
   "execution_count": null,
   "metadata": {
    "colab": {
     "base_uri": "https://localhost:8080/"
    },
    "id": "D97j82OfdZ35",
    "outputId": "506891ed-ff97-4bae-e2cf-169010760ec9"
   },
   "outputs": [
    {
     "name": "stdout",
     "output_type": "stream",
     "text": [
      "The Zen of Python, by Tim Peters\n",
      "\n",
      "Beautiful is better than ugly.\n",
      "Explicit is better than implicit.\n",
      "Simple is better than complex.\n",
      "Complex is better than complicated.\n",
      "Flat is better than nested.\n",
      "Sparse is better than dense.\n",
      "Readability counts.\n",
      "Special cases aren't special enough to break the rules.\n",
      "Although practicality beats purity.\n",
      "Errors should never pass silently.\n",
      "Unless explicitly silenced.\n",
      "In the face of ambiguity, refuse the temptation to guess.\n",
      "There should be one-- and preferably only one --obvious way to do it.\n",
      "Although that way may not be obvious at first unless you're Dutch.\n",
      "Now is better than never.\n",
      "Although never is often better than *right* now.\n",
      "If the implementation is hard to explain, it's a bad idea.\n",
      "If the implementation is easy to explain, it may be a good idea.\n",
      "Namespaces are one honking great idea -- let's do more of those!\n"
     ]
    }
   ],
   "source": [
    "import this"
   ]
  },
  {
   "cell_type": "code",
   "execution_count": null,
   "metadata": {
    "colab": {
     "base_uri": "https://localhost:8080/"
    },
    "id": "U0sNp8EqqaSF",
    "outputId": "29a7d2d8-e707-41db-bab9-f3f2a8b2303c"
   },
   "outputs": [
    {
     "name": "stdout",
     "output_type": "stream",
     "text": [
      "The Zen of Python, by Tim Peters\n",
      "\n",
      "Beautiful is better than ugly.\n",
      "Explicit is better than implicit.\n",
      "Simple is better than complex.\n",
      "Complex is better than complicated.\n",
      "Flat is better than nested.\n",
      "Sparse is better than dense.\n",
      "Readability counts.\n",
      "Special cases aren't special enough to break the rules.\n",
      "Although practicality beats purity.\n",
      "Errors should never pass silently.\n",
      "Unless explicitly silenced.\n",
      "In the face of ambiguity, refuse the temptation to guess.\n",
      "There should be one-- and preferably only one --obvious way to do it.\n",
      "Although that way may not be obvious at first unless you're Dutch.\n",
      "Now is better than never.\n",
      "Although never is often better than *right* now.\n",
      "If the implementation is hard to explain, it's a bad idea.\n",
      "If the implementation is easy to explain, it may be a good idea.\n",
      "Namespaces are one honking great idea -- let's do more of those!\n"
     ]
    }
   ],
   "source": [
    "from importlib import reload\n",
    "this = reload(this)"
   ]
  },
  {
   "cell_type": "markdown",
   "metadata": {
    "id": "DV5Tlnv29Z_0"
   },
   "source": [
    "A hned si k tomu pojďme říct několik poznámek:\n",
    "\n",
    "1. Ačkoliv se většina myšlenek původního textu vinou google translatoru v překladu ztratila, některé nové se v překladu objevily. (Jako vždy při použití automatických překladačů)\n",
    "\n",
    "2. Jak již bylo řečeno, soubor `this.py` je zároveň modul `this` \n",
    "\n",
    "3. Samozřejmě si ho můžeme i spustit pomocí `python this.py`\n",
    "\n",
    "4. Existencí souboru `this.py` jsme efektivně znemožnili importovat modul `this` ze standardní knihovny. Na toto si prosím dávejte velký pozor a pojmenovávejte své moduly s rozvahou.\n",
    "\n",
    "5. Pojmenování modulů je řešeno v [PEP8](https://www.python.org/dev/peps/pep-0008/#package-and-module-names): *Modules should have short, all-lowercase names. Underscores can be used in the module name if it improves readability.* \n",
    "\n",
    "6. To, že soubor `.py` je zároveň modul znamená, že v názvu modulu nemůžou být některé znaky (například `-`, protože `-` je operátor) - viz úvod k modulům/PEP8."
   ]
  },
  {
   "cell_type": "markdown",
   "metadata": {
    "id": "4g5zQ__KdpP3"
   },
   "source": [
    "Poznámka č. 4 vzbuzuje otázku odkud se vlastně berou soubory (moduly) k importu. Kde python hledá soubor `this.py`, když v kódu napíšeme `import this`?\n",
    "\n",
    "Nejprve začne v aktuálním pracovním adresáři (tj. tam, kde je script v němž je `import`), pak pokračuje v adresářích v **PYTHONPATH**. K tomu se jde dostat přes `sys.path`:"
   ]
  },
  {
   "cell_type": "code",
   "execution_count": null,
   "metadata": {
    "colab": {
     "base_uri": "https://localhost:8080/"
    },
    "id": "Cpy8DqA9doZF",
    "outputId": "fa196bde-c95a-46ec-ba19-e1abc85d2d58"
   },
   "outputs": [
    {
     "data": {
      "text/plain": [
       "['',\n",
       " '/content',\n",
       " '/env/python',\n",
       " '/usr/lib/python37.zip',\n",
       " '/usr/lib/python3.7',\n",
       " '/usr/lib/python3.7/lib-dynload',\n",
       " '/usr/local/lib/python3.7/dist-packages',\n",
       " '/usr/lib/python3/dist-packages',\n",
       " '/usr/local/lib/python3.7/dist-packages/IPython/extensions',\n",
       " '/root/.ipython']"
      ]
     },
     "execution_count": 2,
     "metadata": {
      "tags": []
     },
     "output_type": "execute_result"
    }
   ],
   "source": [
    "import sys\n",
    "sys.path"
   ]
  },
  {
   "cell_type": "markdown",
   "metadata": {
    "id": "QpgFQbSIhXt6"
   },
   "source": [
    "soubor `this.py` nám přepsal standardní modul `this`, protože cesta k němu je v seznamu `sys.path` na prvním místě. Pokud aktuální adresář přesuneme na konec seznamu, opět bude importován standardní modul `this`."
   ]
  },
  {
   "cell_type": "code",
   "execution_count": null,
   "metadata": {
    "colab": {
     "base_uri": "https://localhost:8080/"
    },
    "id": "jIEiJWSl5G22",
    "outputId": "b6c33460-cd4c-4f35-da21-c481d417fd16"
   },
   "outputs": [
    {
     "data": {
      "text/plain": [
       "['/content',\n",
       " '/env/python',\n",
       " '/usr/lib/python37.zip',\n",
       " '/usr/lib/python3.7',\n",
       " '/usr/lib/python3.7/lib-dynload',\n",
       " '/usr/local/lib/python3.7/dist-packages',\n",
       " '/usr/lib/python3/dist-packages',\n",
       " '/usr/local/lib/python3.7/dist-packages/IPython/extensions',\n",
       " '/root/.ipython',\n",
       " '']"
      ]
     },
     "execution_count": 13,
     "metadata": {
      "tags": []
     },
     "output_type": "execute_result"
    }
   ],
   "source": [
    "sys.path = [*sys.path[1:], sys.path[0]]\n",
    "sys.path"
   ]
  },
  {
   "cell_type": "code",
   "execution_count": null,
   "metadata": {
    "colab": {
     "base_uri": "https://localhost:8080/"
    },
    "id": "I6vjOsO023zI",
    "outputId": "ab89c81f-6cd1-48d0-9071-a4c354a041d9"
   },
   "outputs": [
    {
     "name": "stdout",
     "output_type": "stream",
     "text": [
      "The Zen of Python, by Tim Peters\n",
      "\n",
      "Beautiful is better than ugly.\n",
      "Explicit is better than implicit.\n",
      "Simple is better than complex.\n",
      "Complex is better than complicated.\n",
      "Flat is better than nested.\n",
      "Sparse is better than dense.\n",
      "Readability counts.\n",
      "Special cases aren't special enough to break the rules.\n",
      "Although practicality beats purity.\n",
      "Errors should never pass silently.\n",
      "Unless explicitly silenced.\n",
      "In the face of ambiguity, refuse the temptation to guess.\n",
      "There should be one-- and preferably only one --obvious way to do it.\n",
      "Although that way may not be obvious at first unless you're Dutch.\n",
      "Now is better than never.\n",
      "Although never is often better than *right* now.\n",
      "If the implementation is hard to explain, it's a bad idea.\n",
      "If the implementation is easy to explain, it may be a good idea.\n",
      "Namespaces are one honking great idea -- let's do more of those!\n"
     ]
    }
   ],
   "source": [
    "this = reload(this)"
   ]
  },
  {
   "cell_type": "markdown",
   "metadata": {
    "id": "NqfY65Kdh7RR"
   },
   "source": [
    "Nyní nám už jenom zbývá odhalit umístění originálního souboru `this.py` - je to samozřejmě jedna z cest v `sys.path`:"
   ]
  },
  {
   "cell_type": "code",
   "execution_count": null,
   "metadata": {
    "colab": {
     "base_uri": "https://localhost:8080/"
    },
    "id": "UYkDYXRch6lW",
    "outputId": "a67d03a6-e829-47ce-8a44-ebe237fd5dc9"
   },
   "outputs": [
    {
     "name": "stdout",
     "output_type": "stream",
     "text": [
      "abc.py\t\t\t      optparse.py\n",
      "aifc.py\t\t\t      os.py\n",
      "antigravity.py\t\t      _osx_support.py\n",
      "argparse.py\t\t      pathlib.py\n",
      "ast.py\t\t\t      pdb.py\n",
      "asynchat.py\t\t      __phello__.foo.py\n",
      "asyncio\t\t\t      pickle.py\n",
      "asyncore.py\t\t      pickletools.py\n",
      "base64.py\t\t      pipes.py\n",
      "bdb.py\t\t\t      pkgutil.py\n",
      "binhex.py\t\t      platform.py\n",
      "bisect.py\t\t      plistlib.py\n",
      "_bootlocale.py\t\t      poplib.py\n",
      "bz2.py\t\t\t      posixpath.py\n",
      "calendar.py\t\t      pprint.py\n",
      "cgi.py\t\t\t      profile.py\n",
      "cgitb.py\t\t      pstats.py\n",
      "chunk.py\t\t      pty.py\n",
      "cmd.py\t\t\t      __pycache__\n",
      "codecs.py\t\t      pyclbr.py\n",
      "codeop.py\t\t      py_compile.py\n",
      "code.py\t\t\t      _pydecimal.py\n",
      "collections\t\t      pydoc_data\n",
      "_collections_abc.py\t      pydoc.py\n",
      "colorsys.py\t\t      _pyio.py\n",
      "_compat_pickle.py\t      queue.py\n",
      "compileall.py\t\t      quopri.py\n",
      "_compression.py\t\t      random.py\n",
      "concurrent\t\t      reprlib.py\n",
      "config-3.6m-x86_64-linux-gnu  re.py\n",
      "configparser.py\t\t      rlcompleter.py\n",
      "contextlib.py\t\t      runpy.py\n",
      "copy.py\t\t\t      sched.py\n",
      "copyreg.py\t\t      secrets.py\n",
      "cProfile.py\t\t      selectors.py\n",
      "crypt.py\t\t      shelve.py\n",
      "csv.py\t\t\t      shlex.py\n",
      "ctypes\t\t\t      shutil.py\n",
      "curses\t\t\t      signal.py\n",
      "datetime.py\t\t      _sitebuiltins.py\n",
      "dbm\t\t\t      sitecustomize.py\n",
      "decimal.py\t\t      site.py\n",
      "difflib.py\t\t      smtpd.py\n",
      "dis.py\t\t\t      smtplib.py\n",
      "distutils\t\t      sndhdr.py\n",
      "doctest.py\t\t      socket.py\n",
      "dummy_threading.py\t      socketserver.py\n",
      "_dummy_thread.py\t      sqlite3\n",
      "email\t\t\t      sre_compile.py\n",
      "encodings\t\t      sre_constants.py\n",
      "enum.py\t\t\t      sre_parse.py\n",
      "filecmp.py\t\t      ssl.py\n",
      "fileinput.py\t\t      statistics.py\n",
      "fnmatch.py\t\t      stat.py\n",
      "formatter.py\t\t      stringprep.py\n",
      "fractions.py\t\t      string.py\n",
      "ftplib.py\t\t      _strptime.py\n",
      "functools.py\t\t      struct.py\n",
      "__future__.py\t\t      subprocess.py\n",
      "genericpath.py\t\t      sunau.py\n",
      "getopt.py\t\t      symbol.py\n",
      "getpass.py\t\t      symtable.py\n",
      "gettext.py\t\t      _sysconfigdata_m_linux_x86_64-linux-gnu.py\n",
      "glob.py\t\t\t      sysconfig.py\n",
      "gzip.py\t\t\t      tabnanny.py\n",
      "hashlib.py\t\t      tarfile.py\n",
      "heapq.py\t\t      telnetlib.py\n",
      "hmac.py\t\t\t      tempfile.py\n",
      "html\t\t\t      test\n",
      "http\t\t\t      textwrap.py\n",
      "imaplib.py\t\t      this.py\n",
      "imghdr.py\t\t      _threading_local.py\n",
      "importlib\t\t      threading.py\n",
      "imp.py\t\t\t      timeit.py\n",
      "inspect.py\t\t      tkinter\n",
      "io.py\t\t\t      tokenize.py\n",
      "ipaddress.py\t\t      token.py\n",
      "json\t\t\t      traceback.py\n",
      "keyword.py\t\t      tracemalloc.py\n",
      "lib2to3\t\t\t      trace.py\n",
      "lib-dynload\t\t      tty.py\n",
      "LICENSE.txt\t\t      turtle.py\n",
      "linecache.py\t\t      types.py\n",
      "locale.py\t\t      typing.py\n",
      "logging\t\t\t      unittest\n",
      "lzma.py\t\t\t      urllib\n",
      "macpath.py\t\t      uuid.py\n",
      "macurl2path.py\t\t      uu.py\n",
      "mailbox.py\t\t      venv\n",
      "mailcap.py\t\t      warnings.py\n",
      "_markupbase.py\t\t      wave.py\n",
      "mimetypes.py\t\t      weakref.py\n",
      "modulefinder.py\t\t      _weakrefset.py\n",
      "multiprocessing\t\t      webbrowser.py\n",
      "netrc.py\t\t      wsgiref\n",
      "nntplib.py\t\t      xdrlib.py\n",
      "ntpath.py\t\t      xml\n",
      "nturl2path.py\t\t      xmlrpc\n",
      "numbers.py\t\t      zipapp.py\n",
      "opcode.py\t\t      zipfile.py\n",
      "operator.py\n"
     ]
    }
   ],
   "source": [
    "!ls /usr/lib/python3.6"
   ]
  },
  {
   "cell_type": "markdown",
   "metadata": {
    "id": "2_l_SuiSide1"
   },
   "source": [
    "Modul je objekt a jako takový má samozřejmě další atributy, můžete si je zobrazit pomocí `dir(objekt)` a následně prozkoumat. Já se chci zaměřit pouze na jeden atribut -  `__name__`, který obsahuje řetězec s názvem modulu. To je zajímavé, protože základní (hlavní) modul, který jsme (například) spustili z příkazové řádky má `__name__='__main__'`"
   ]
  },
  {
   "cell_type": "code",
   "execution_count": null,
   "metadata": {
    "colab": {
     "base_uri": "https://localhost:8080/",
     "height": 35
    },
    "id": "9V7w48g6fJd9",
    "outputId": "08965b3c-102c-499d-e7cd-a2e6e4e9f19b"
   },
   "outputs": [
    {
     "data": {
      "application/vnd.google.colaboratory.intrinsic+json": {
       "type": "string"
      },
      "text/plain": [
       "'this'"
      ]
     },
     "execution_count": 20,
     "metadata": {
      "tags": []
     },
     "output_type": "execute_result"
    }
   ],
   "source": [
    "this.__name__"
   ]
  },
  {
   "cell_type": "code",
   "execution_count": null,
   "metadata": {
    "colab": {
     "base_uri": "https://localhost:8080/"
    },
    "id": "U-tgPEQkoSWP",
    "outputId": "9678a934-d479-4800-855f-29c9ecd5fda2"
   },
   "outputs": [
    {
     "name": "stdout",
     "output_type": "stream",
     "text": [
      "__main__\n"
     ]
    }
   ],
   "source": [
    "print(__name__)"
   ]
  },
  {
   "cell_type": "markdown",
   "metadata": {
    "id": "kBb4TdXUiooQ"
   },
   "source": [
    "Toho se dá využít k ošetření chování modulu v případě, že je spuštěn z příkazové řádky:"
   ]
  },
  {
   "cell_type": "code",
   "execution_count": null,
   "metadata": {
    "colab": {
     "base_uri": "https://localhost:8080/"
    },
    "id": "y4sQVx6XoU_J",
    "outputId": "069b9563-cf90-46e3-d51b-d89d3c8cc193"
   },
   "outputs": [
    {
     "name": "stdout",
     "output_type": "stream",
     "text": [
      "Overwriting this.py\n"
     ]
    }
   ],
   "source": [
    "%%writefile this.py \n",
    "\n",
    "if __name__ == '__main__':\n",
    "  print(\"For import only\")\n",
    "  exit()\n",
    "\n",
    "from googletrans import Translator\n",
    "\n",
    "s = \"\"\"Gur Mra bs Clguba, ol Gvz Crgref\n",
    "\n",
    "Ornhgvshy vf orggre guna htyl.\n",
    "Rkcyvpvg vf orggre guna vzcyvpvg.\n",
    "Fvzcyr vf orggre guna pbzcyrk.\n",
    "Pbzcyrk vf orggre guna pbzcyvpngrq.\n",
    "Syng vf orggre guna arfgrq.\n",
    "Fcnefr vf orggre guna qrafr.\n",
    "Ernqnovyvgl pbhagf.\n",
    "Fcrpvny pnfrf nera'g fcrpvny rabhtu gb oernx gur ehyrf.\n",
    "Nygubhtu cenpgvpnyvgl orngf chevgl.\n",
    "Reebef fubhyq arire cnff fvyragyl.\n",
    "Hayrff rkcyvpvgyl fvyraprq.\n",
    "Va gur snpr bs nzovthvgl, ershfr gur grzcgngvba gb thrff.\n",
    "Gurer fubhyq or bar-- naq cersrenoyl bayl bar --boivbhf jnl gb qb vg.\n",
    "Nygubhtu gung jnl znl abg or boivbhf ng svefg hayrff lbh'er Qhgpu.\n",
    "Abj vf orggre guna arire.\n",
    "Nygubhtu arire vf bsgra orggre guna *evtug* abj.\n",
    "Vs gur vzcyrzragngvba vf uneq gb rkcynva, vg'f n onq vqrn.\n",
    "Vs gur vzcyrzragngvba vf rnfl gb rkcynva, vg znl or n tbbq vqrn.\n",
    "Anzrfcnprf ner bar ubaxvat terng vqrn -- yrg'f qb zber bs gubfr!\"\"\"\n",
    "\n",
    "d = {}\n",
    "for c in (65, 97):\n",
    "    for i in range(26):\n",
    "        d[chr(i + c)] = chr((i + 13) % 26 + c)\n",
    "\n",
    "translator = Translator()\n",
    "print(\n",
    "    translator.translate(\n",
    "        \"\".join([d.get(c, c) for c in s]), \n",
    "        src=\"en\", \n",
    "        dest=\"cs\"\n",
    "      ).text\n",
    "    )"
   ]
  },
  {
   "cell_type": "code",
   "execution_count": null,
   "metadata": {
    "colab": {
     "base_uri": "https://localhost:8080/"
    },
    "id": "i1kLB1VGoa3f",
    "outputId": "9dc2d432-1cc4-4f7d-9b5a-b2f59c7f73aa"
   },
   "outputs": [
    {
     "name": "stdout",
     "output_type": "stream",
     "text": [
      "For import only\n"
     ]
    }
   ],
   "source": [
    "!python this.py"
   ]
  },
  {
   "cell_type": "code",
   "execution_count": null,
   "metadata": {
    "colab": {
     "base_uri": "https://localhost:8080/",
     "height": 442
    },
    "id": "xwMlP1t3flzW",
    "outputId": "79297075-d278-43d2-e47e-5e756e8197f8"
   },
   "outputs": [
    {
     "ename": "ModuleNotFoundError",
     "evalue": "ignored",
     "output_type": "error",
     "traceback": [
      "\u001b[0;31m---------------------------------------------------------------------------\u001b[0m",
      "\u001b[0;31mModuleNotFoundError\u001b[0m                       Traceback (most recent call last)",
      "\u001b[0;32m<ipython-input-25-c42842546f35>\u001b[0m in \u001b[0;36m<module>\u001b[0;34m()\u001b[0m\n\u001b[0;32m----> 1\u001b[0;31m \u001b[0mthis\u001b[0m \u001b[0;34m=\u001b[0m \u001b[0mreload\u001b[0m\u001b[0;34m(\u001b[0m\u001b[0mthis\u001b[0m\u001b[0;34m)\u001b[0m\u001b[0;34m\u001b[0m\u001b[0;34m\u001b[0m\u001b[0m\n\u001b[0m",
      "\u001b[0;32m/usr/lib/python3.7/importlib/__init__.py\u001b[0m in \u001b[0;36mreload\u001b[0;34m(module)\u001b[0m\n\u001b[1;32m    167\u001b[0m         \u001b[0;32mif\u001b[0m \u001b[0mspec\u001b[0m \u001b[0;32mis\u001b[0m \u001b[0;32mNone\u001b[0m\u001b[0;34m:\u001b[0m\u001b[0;34m\u001b[0m\u001b[0;34m\u001b[0m\u001b[0m\n\u001b[1;32m    168\u001b[0m             \u001b[0;32mraise\u001b[0m \u001b[0mModuleNotFoundError\u001b[0m\u001b[0;34m(\u001b[0m\u001b[0;34mf\"spec not found for the module {name!r}\"\u001b[0m\u001b[0;34m,\u001b[0m \u001b[0mname\u001b[0m\u001b[0;34m=\u001b[0m\u001b[0mname\u001b[0m\u001b[0;34m)\u001b[0m\u001b[0;34m\u001b[0m\u001b[0;34m\u001b[0m\u001b[0m\n\u001b[0;32m--> 169\u001b[0;31m         \u001b[0m_bootstrap\u001b[0m\u001b[0;34m.\u001b[0m\u001b[0m_exec\u001b[0m\u001b[0;34m(\u001b[0m\u001b[0mspec\u001b[0m\u001b[0;34m,\u001b[0m \u001b[0mmodule\u001b[0m\u001b[0;34m)\u001b[0m\u001b[0;34m\u001b[0m\u001b[0;34m\u001b[0m\u001b[0m\n\u001b[0m\u001b[1;32m    170\u001b[0m         \u001b[0;31m# The module may have replaced itself in sys.modules!\u001b[0m\u001b[0;34m\u001b[0m\u001b[0;34m\u001b[0m\u001b[0;34m\u001b[0m\u001b[0m\n\u001b[1;32m    171\u001b[0m         \u001b[0;32mreturn\u001b[0m \u001b[0msys\u001b[0m\u001b[0;34m.\u001b[0m\u001b[0mmodules\u001b[0m\u001b[0;34m[\u001b[0m\u001b[0mname\u001b[0m\u001b[0;34m]\u001b[0m\u001b[0;34m\u001b[0m\u001b[0;34m\u001b[0m\u001b[0m\n",
      "\u001b[0;32m/usr/lib/python3.7/importlib/_bootstrap.py\u001b[0m in \u001b[0;36m_exec\u001b[0;34m(spec, module)\u001b[0m\n",
      "\u001b[0;32m/usr/lib/python3.7/importlib/_bootstrap_external.py\u001b[0m in \u001b[0;36mexec_module\u001b[0;34m(self, module)\u001b[0m\n",
      "\u001b[0;32m/usr/lib/python3.7/importlib/_bootstrap.py\u001b[0m in \u001b[0;36m_call_with_frames_removed\u001b[0;34m(f, *args, **kwds)\u001b[0m\n",
      "\u001b[0;32m/content/this.py\u001b[0m in \u001b[0;36m<module>\u001b[0;34m()\u001b[0m\n\u001b[1;32m      4\u001b[0m   \u001b[0mexit\u001b[0m\u001b[0;34m(\u001b[0m\u001b[0;34m)\u001b[0m\u001b[0;34m\u001b[0m\u001b[0;34m\u001b[0m\u001b[0m\n\u001b[1;32m      5\u001b[0m \u001b[0;34m\u001b[0m\u001b[0m\n\u001b[0;32m----> 6\u001b[0;31m \u001b[0;32mfrom\u001b[0m \u001b[0mgoogletrans\u001b[0m \u001b[0;32mimport\u001b[0m \u001b[0mTranslator\u001b[0m\u001b[0;34m\u001b[0m\u001b[0;34m\u001b[0m\u001b[0m\n\u001b[0m\u001b[1;32m      7\u001b[0m \u001b[0;34m\u001b[0m\u001b[0m\n\u001b[1;32m      8\u001b[0m s = \"\"\"Gur Mra bs Clguba, ol Gvz Crgref\n",
      "\u001b[0;31mModuleNotFoundError\u001b[0m: No module named 'googletrans'",
      "",
      "\u001b[0;31m---------------------------------------------------------------------------\u001b[0;32m\nNOTE: If your import is failing due to a missing package, you can\nmanually install dependencies using either !pip or !apt.\n\nTo view examples of installing some common dependencies, click the\n\"Open Examples\" button below.\n\u001b[0;31m---------------------------------------------------------------------------\u001b[0m\n"
     ]
    }
   ],
   "source": [
    "this = reload(this)"
   ]
  },
  {
   "cell_type": "markdown",
   "metadata": {
    "id": "FHdWvsKKkbp8"
   },
   "source": [
    "# Balíčky"
   ]
  },
  {
   "cell_type": "markdown",
   "metadata": {
    "id": "c6t6LPLH6GCH"
   },
   "source": [
    "Pro rozsáhlejší projekty je vhodné nemít všechny objekty v rámci jednoho modulu - potřebujeme nějaký další level uspořádání. Pro ten slouží balíčky.\n",
    "\n",
    "Balíčky v pythonu vytvoříme velmi snadno, každý adresář obsahující soubor `__init__.py` je balíček a všechny další `.py` soubory jsou moduly v rámci balíčku.\n",
    "\n",
    "Poznámka: balíček může existovat i bez `__init__.py`, to je pak **namespace** packages viz. [přednáška](http://vyuka.ookami.cz/materialy/python/modules/_modules.xml) nebo [StackOverflow](https://stackoverflow.com/questions/21819649/namespace-vs-regular-package)"
   ]
  },
  {
   "cell_type": "code",
   "execution_count": null,
   "metadata": {
    "colab": {
     "base_uri": "https://localhost:8080/"
    },
    "id": "6N_Yor5EyTd9",
    "outputId": "68a8e131-2846-4b85-fdf7-8092a8c2d9f2"
   },
   "outputs": [
    {
     "name": "stdout",
     "output_type": "stream",
     "text": [
      "pack  __pycache__  sample_data\tthis.py\n",
      "__init__.py\n"
     ]
    }
   ],
   "source": [
    "!mkdir pack\n",
    "!touch pack/__init__.py\n",
    "!ls\n",
    "!ls pack/"
   ]
  },
  {
   "cell_type": "code",
   "execution_count": null,
   "metadata": {
    "colab": {
     "base_uri": "https://localhost:8080/"
    },
    "id": "1y1XJMW77doq",
    "outputId": "4fa87713-f86e-4768-cba1-c3fb30780d6e"
   },
   "outputs": [
    {
     "name": "stdout",
     "output_type": "stream",
     "text": [
      "Writing pack/first.py\n"
     ]
    }
   ],
   "source": [
    "%%writefile pack/first.py\n",
    "\n",
    "def hello():\n",
    "  print(\"Hello from first module!\")"
   ]
  },
  {
   "cell_type": "code",
   "execution_count": null,
   "metadata": {
    "colab": {
     "base_uri": "https://localhost:8080/"
    },
    "id": "GqFgdC0A731s",
    "outputId": "e91cb77c-fafe-434c-94b0-669cb510bc8a"
   },
   "outputs": [
    {
     "name": "stdout",
     "output_type": "stream",
     "text": [
      "Writing pack/second.py\n"
     ]
    }
   ],
   "source": [
    "%%writefile pack/second.py\n",
    "\n",
    "def hello():\n",
    "  print(\"Hello from second module!\")"
   ]
  },
  {
   "cell_type": "code",
   "execution_count": null,
   "metadata": {
    "colab": {
     "base_uri": "https://localhost:8080/"
    },
    "id": "NVkrQmjB7-lL",
    "outputId": "b46a48e0-4ff0-4eae-fd76-cbf06681e553"
   },
   "outputs": [
    {
     "name": "stdout",
     "output_type": "stream",
     "text": [
      "first.py  __init__.py  second.py\n"
     ]
    }
   ],
   "source": [
    "!ls pack/"
   ]
  },
  {
   "cell_type": "markdown",
   "metadata": {
    "id": "cFkGaKS38C5V"
   },
   "source": [
    "Náš nový balíček pak používáme očekávaným způsobem:"
   ]
  },
  {
   "cell_type": "code",
   "execution_count": null,
   "metadata": {
    "colab": {
     "base_uri": "https://localhost:8080/"
    },
    "id": "JLTbjhXK8Ast",
    "outputId": "c51af3e9-df57-4a70-da9c-8093db053db3"
   },
   "outputs": [
    {
     "name": "stdout",
     "output_type": "stream",
     "text": [
      "Hello from first module!\n",
      "Hello from second module!\n"
     ]
    }
   ],
   "source": [
    "from pack import first\n",
    "from pack.second import hello as h2\n",
    "first.hello()\n",
    "h2()"
   ]
  },
  {
   "cell_type": "code",
   "execution_count": null,
   "metadata": {
    "colab": {
     "base_uri": "https://localhost:8080/"
    },
    "id": "RRGM6OZh8Lo3",
    "outputId": "77ad5334-7e10-48d5-cc3d-a2ebe3bd6dd1"
   },
   "outputs": [
    {
     "name": "stdout",
     "output_type": "stream",
     "text": [
      "Help on package pack:\n",
      "\n",
      "NAME\n",
      "    pack\n",
      "\n",
      "PACKAGE CONTENTS\n",
      "    first\n",
      "    second\n",
      "\n",
      "FILE\n",
      "    /content/pack/__init__.py\n",
      "\n",
      "\n"
     ]
    },
    {
     "data": {
      "text/plain": [
       "['__builtins__',\n",
       " '__cached__',\n",
       " '__doc__',\n",
       " '__file__',\n",
       " '__loader__',\n",
       " '__name__',\n",
       " '__package__',\n",
       " '__path__',\n",
       " '__spec__',\n",
       " 'first',\n",
       " 'second']"
      ]
     },
     "execution_count": 32,
     "metadata": {
      "tags": []
     },
     "output_type": "execute_result"
    }
   ],
   "source": [
    "import pack\n",
    "help(pack)\n",
    "dir(pack)"
   ]
  },
  {
   "cell_type": "code",
   "execution_count": null,
   "metadata": {
    "colab": {
     "base_uri": "https://localhost:8080/"
    },
    "id": "Rk3OKEj98kkS",
    "outputId": "4cc46607-7fe7-4f9b-eff4-ef7a49505bc9"
   },
   "outputs": [
    {
     "name": "stdout",
     "output_type": "stream",
     "text": [
      "Help on module pack.first in pack:\n",
      "\n",
      "NAME\n",
      "    pack.first\n",
      "\n",
      "FUNCTIONS\n",
      "    hello()\n",
      "\n",
      "FILE\n",
      "    /content/pack/first.py\n",
      "\n",
      "\n"
     ]
    }
   ],
   "source": [
    "help(first)"
   ]
  },
  {
   "cell_type": "markdown",
   "metadata": {
    "id": "zIGcjarv88dZ"
   },
   "source": [
    "Poznámka: pokud `__init__.py` bude obsahovat nějaký kód, spustí se při importu balíčku."
   ]
  },
  {
   "cell_type": "code",
   "execution_count": null,
   "metadata": {
    "colab": {
     "base_uri": "https://localhost:8080/"
    },
    "id": "omv9SVOt8wRg",
    "outputId": "09743622-145a-4cac-da21-8b24d41eb8fc"
   },
   "outputs": [
    {
     "name": "stdout",
     "output_type": "stream",
     "text": [
      "Overwriting pack/__init__.py\n"
     ]
    }
   ],
   "source": [
    "%%writefile pack/__init__.py\n",
    "\n",
    "print(\"Importing module.\")"
   ]
  },
  {
   "cell_type": "code",
   "execution_count": null,
   "metadata": {
    "colab": {
     "base_uri": "https://localhost:8080/"
    },
    "id": "SR9yRZvFAUHC",
    "outputId": "9cd929fe-5af7-41cb-9ef1-d6772d5c3f72"
   },
   "outputs": [
    {
     "name": "stdout",
     "output_type": "stream",
     "text": [
      "Importing module.\n",
      "Hello from first module!\n"
     ]
    }
   ],
   "source": [
    "import pack\n",
    "from importlib import reload\n",
    "pack=reload(pack)\n",
    "first.hello()"
   ]
  },
  {
   "cell_type": "markdown",
   "metadata": {
    "id": "laNoHXn7G-fr"
   },
   "source": [
    "Poznámka 2: Pokud do balíčku přidáme soubor `__main__.py`, budeme moci spouštět balíček z příkazové řádky"
   ]
  },
  {
   "cell_type": "code",
   "execution_count": null,
   "metadata": {
    "colab": {
     "base_uri": "https://localhost:8080/"
    },
    "id": "k0TMQTuqAXD2",
    "outputId": "40887401-a7bf-4db9-9787-cf09bb9b7ca9"
   },
   "outputs": [
    {
     "name": "stdout",
     "output_type": "stream",
     "text": [
      "Writing pack/__main__.py\n"
     ]
    }
   ],
   "source": [
    "%%writefile pack/__main__.py\n",
    "from pack import first\n",
    "\n",
    "print(\"Running module.\")\n",
    "\n",
    "first.hello()"
   ]
  },
  {
   "cell_type": "code",
   "execution_count": null,
   "metadata": {
    "colab": {
     "base_uri": "https://localhost:8080/"
    },
    "id": "PYyC4fBcGubR",
    "outputId": "951c3baf-7070-49ee-a2da-00fe6ea7763f"
   },
   "outputs": [
    {
     "name": "stdout",
     "output_type": "stream",
     "text": [
      "Importing module.\n",
      "Running module.\n",
      "Hello from first module!\n"
     ]
    }
   ],
   "source": [
    "!python -m pack"
   ]
  },
  {
   "cell_type": "code",
   "execution_count": null,
   "metadata": {
    "colab": {
     "base_uri": "https://localhost:8080/"
    },
    "id": "vsv04tawJisL",
    "outputId": "3c8847e7-55ac-41b7-e1f9-eb21568e8bf6"
   },
   "outputs": [
    {
     "name": "stdout",
     "output_type": "stream",
     "text": [
      "first.py  __init__.py  __main__.py  __pycache__  second.py\n"
     ]
    }
   ],
   "source": [
    "!ls pack"
   ]
  }
 ],
 "metadata": {
  "colab": {
   "collapsed_sections": [],
   "name": "Cvičení 07 - výklad-Moduly.ipynb",
   "provenance": [],
   "toc_visible": true
  },
  "kernelspec": {
   "display_name": "Python 3",
   "language": "python",
   "name": "python3"
  },
  "language_info": {
   "codemirror_mode": {
    "name": "ipython",
    "version": 3
   },
   "file_extension": ".py",
   "mimetype": "text/x-python",
   "name": "python",
   "nbconvert_exporter": "python",
   "pygments_lexer": "ipython3",
   "version": "3.8.8"
  }
 },
 "nbformat": 4,
 "nbformat_minor": 1
}
