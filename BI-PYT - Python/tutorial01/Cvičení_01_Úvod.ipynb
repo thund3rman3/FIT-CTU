{
  "nbformat": 4,
  "nbformat_minor": 0,
  "metadata": {
    "celltoolbar": "Slideshow",
    "kernelspec": {
      "display_name": "Python 3",
      "language": "python",
      "name": "python3"
    },
    "language_info": {
      "codemirror_mode": {
        "name": "ipython",
        "version": 3
      },
      "file_extension": ".py",
      "mimetype": "text/x-python",
      "name": "python",
      "nbconvert_exporter": "python",
      "pygments_lexer": "ipython3",
      "version": "3.8.5"
    },
    "colab": {
      "name": "Cvičení 01 - Úvod.ipynb",
      "provenance": [],
      "collapsed_sections": []
    }
  },
  "cells": [
    {
      "cell_type": "markdown",
      "metadata": {
        "id": "OO1FQKl7rUNC"
      },
      "source": [
        "\n",
        "# <p style=\"text-align: center;\">BI-PYT</p>\n",
        "\n",
        "## <p style=\"text-align: center;\">Vojtěch Vančura</p>\n",
        "\n",
        "<p style=\"text-align: center;\">vancurv@fit.cvut.cz</p>\n",
        "<p style=\"text-align: center;\">(do předmětu emailu napište BI-PYT)</p>\n"
      ]
    },
    {
      "cell_type": "markdown",
      "metadata": {
        "id": "Hsz2LmmhrUNC"
      },
      "source": [
        "## Úvod\n",
        "\n",
        "### Změny v předmětu od ZS 2020:\n",
        "\n",
        "- Předmět je za 5 kreditů (dříve 4)\n",
        "- Nejsou přednášky\n",
        "- Cvičení jsou 3x45 minut (0+3)\n",
        "- Dle hodnocení ECTS by tedy na domácí práci mělo připadat cca 120 hodin práce"
      ]
    },
    {
      "cell_type": "markdown",
      "metadata": {
        "id": "L-SVEkJgrUND"
      },
      "source": [
        "### Hodnocení předmětu\n",
        "\n",
        "- 4 domácí úkoly (max. 4x10 bodů)\n",
        "- Semestrální práce (max. 40 bodů)\n",
        "- Krátké testy na začátku cvičení v progtestu (max. 4x5 bodů)"
      ]
    },
    {
      "cell_type": "markdown",
      "metadata": {
        "id": "AwKFtdTgrUND"
      },
      "source": [
        "### Požadavky na získání zápočtu:\n",
        "\n",
        "- Min. 50 bodů\n",
        "- semestrální práce min. 20 bodů\n",
        "\n",
        "Klasifikace:\n",
        "```\n",
        "90+   = A  \n",
        "80-89 = B \n",
        "70-79 = C \n",
        "60-69 = D \n",
        "50-59 = E\n",
        "```\n",
        "\n",
        "Vaše hodnocení naleznete na https://grades.fit.cvut.cz."
      ]
    },
    {
      "cell_type": "markdown",
      "metadata": {
        "id": "wOnWQggkrUNE"
      },
      "source": [
        "## Orientační program\n",
        "\n",
        "<style type=\"text/css\">\n",
        ".tg  {border-collapse:collapse;border-spacing:0;}\n",
        ".tg td{border-color:black;border-style:solid;border-width:1px;font-family:Arial, sans-serif;font-size:14px;\n",
        "  overflow:hidden;padding:10px 5px;word-break:normal;}\n",
        ".tg th{border-color:black;border-style:solid;border-width:1px;font-family:Arial, sans-serif;font-size:14px;\n",
        "  font-weight:normal;overflow:hidden;padding:10px 5px;word-break:normal;}\n",
        ".tg .tg-0pky{border-color:inherit;text-align:left;vertical-align:top}\n",
        ".tg .tg-0lax{text-align:left;vertical-align:top}\n",
        "</style>\n",
        "<table class=\"tg\">\n",
        "<tbody>\n",
        "  <tr>\n",
        "    <td class=\"tg-0pky\">1.</td>\n",
        "    <td class=\"tg-0pky\">Úvod do Pythonu. Virtuální prostředí. Syntaxe.</td>\n",
        "  </tr>\n",
        "  <tr>\n",
        "    <td class=\"tg-0pky\">2.</td>\n",
        "    <td class=\"tg-0pky\">Základní typy a operátory. Podmínky, cykly.</td>\n",
        "  </tr>\n",
        "  <tr>\n",
        "    <td class=\"tg-0pky\">3.</td>\n",
        "    <td class=\"tg-0pky\">Seznamy, n-tice, množiny, slovníky. Výřezová a generátorová notace</td>\n",
        "  </tr>\n",
        "  <tr>\n",
        "    <td class=\"tg-0pky\">4.</td>\n",
        "    <td class=\"tg-0pky\">Funkce. Anotace funkcí, Dekorátory.</td>\n",
        "  </tr>\n",
        "  <tr>\n",
        "    <td class=\"tg-0pky\">5.</td>\n",
        "    <td class=\"tg-0pky\">Generátory. Třídy, Iterátory.</td>\n",
        "  </tr>\n",
        "  <tr>\n",
        "    <td class=\"tg-0lax\">6.</td>\n",
        "    <td class=\"tg-0lax\">Souborový systém, příkazová řádka</td>\n",
        "  </tr>\n",
        "  <tr>\n",
        "    <td class=\"tg-0lax\">7.</td>\n",
        "    <td class=\"tg-0lax\">Moduly. Balíčky.</td>\n",
        "  </tr>\n",
        "  <tr>\n",
        "    <td class=\"tg-0lax\">8.</td>\n",
        "    <td class=\"tg-0lax\">Numpy. Dimenze, tvar, osy, velikost. N-rozměrná výřezová <span style=\"font-weight:400;font-style:normal\">notace. Broadcasting, vektorizace funkce.</span></td>\n",
        "  </tr>\n",
        "  <tr>\n",
        "    <td class=\"tg-0lax\">9.</td>\n",
        "    <td class=\"tg-0lax\">Grafické operace s Numpy. Konvoluce.</td>\n",
        "  </tr>\n",
        "  <tr>\n",
        "    <td class=\"tg-0lax\">10.</td>\n",
        "    <td class=\"tg-0lax\">Pandas. Podmínky, seskupování, řazení, spojování. SQL a pandas</td>\n",
        "  </tr>\n",
        "  <tr>\n",
        "    <td class=\"tg-0lax\">11.</td>\n",
        "    <td class=\"tg-0lax\">Streamlit a webové miniaplikace pro data science.</td>\n",
        "  </tr>\n",
        "  <tr>\n",
        "    <td class=\"tg-0lax\">12.</td>\n",
        "    <td class=\"tg-0lax\">Unit testy. Pytest. Asserting, Fixtures.</td>\n",
        "  </tr>\n",
        "</tbody>\n",
        "</table>"
      ]
    },
    {
      "cell_type": "markdown",
      "metadata": {
        "id": "ApRHz2mBrUNE"
      },
      "source": [
        "Aktuální informace budou vždy na https://courses.fit.cvut.cz/BI-PYT/"
      ]
    },
    {
      "cell_type": "markdown",
      "metadata": {
        "id": "5ZmtZJ9zrUNE"
      },
      "source": [
        "## Studijní materiály\n",
        "<br>\n",
        "\n",
        "<p>Oficální materiály předmětu</p>\n",
        "<ul>\n",
        "<li><a href=\"https://courses.fit.cvut.cz/BI-PYT/lectures/index.html\">Slajdy k přednáškám</a></li>\n",
        "<li>Notebooky s příklady na cvičení</li>\n",
        "</ul>\n"
      ]
    },
    {
      "cell_type": "markdown",
      "metadata": {
        "id": "oj0izBhjrUNF"
      },
      "source": [
        "<p>Kde zjistit více?</p>\n",
        "<ul>\n",
        "<li><a href=\"http://diveintopython3.py.cz/index.html\">Ponořme se do Pythonu3</a></li>\n",
        "<li><a href=\"https://naucse.python.cz/course/pyladies/\">Nauč se Python</a></li>\n",
        "<li><a href=\"https://www.goodreads.com/book/show/23139560-python-for-secret-agents\">Python for Secret Agents</a></li>\n",
        "<li><a href=\"https://www.goodreads.com/book/show/33986067-deep-learning-with-python\">Deep Learning with Python</a></li>\n",
        "<li><a href=\"https://nsa.sfo2.digitaloceanspaces.com/comp3321.pdf\">Výukové materiály NSA</a></li>\n",
        "</ul>\n"
      ]
    },
    {
      "cell_type": "markdown",
      "metadata": {
        "id": "6ohkWCH5rUNF"
      },
      "source": [
        "<p>Kde procvičovat python?</p>\n",
        "<ul>\n",
        "<li><a href=\"https://www.hackerrank.com/domains/python?filters%5Bstatus%5D%5B%5D=unsolved&amp;badge_type=python\">HackerRank</a></li>\n",
        "<li><a href=\"https://www.w3resource.com/python-exercises/\">Cvičení na w3resource</a></li>\n",
        "</ul>\n",
        "<p>Co když nevím jak dál?</p>\n",
        "<ul>\n",
        "<li><a href=\"https://www.google.com/search?safe=off&amp;sxsrf=ACYBGNSJYZOPf_ee87kLnoFZIa3DzVs0xA%3A1581680758030&amp;ei=dohGXrSrAY-JlwSEqrywBQ&amp;q=find+element+in+list+python&amp;oq=find+elemetnt+in+list+&amp;gs_l=psy-ab.3.0.0i13l10.8417.17539..18569...2.2..1.114.3669.36j5......0....1..gws-wiz.....10..0i71j35i39j0j0i20i263j35i362i39j0i67j0i273j0i203.J8Kb8f5wB1w\">Google</a></li>\n",
        "<li>Stackoverflow</li>\n",
        "</ul>"
      ]
    },
    {
      "cell_type": "markdown",
      "metadata": {
        "id": "74KvK6UurUNG"
      },
      "source": [
        "## Česká Python komunita\n",
        "<ul>\n",
        "<li><a href=\"https://pyvec.org/\">pyvec</a> (Servisní organizace české komunity)</li>\n",
        "<li><a href=\"https://www.facebook.com/groups/pyonieri/\">Pyonýři</a> (Facebook skupina)</li>\n",
        "<li><a href=\"https://www.meetup.com/PyData-Prague/\">PyData</a> (Pravidelně nepravidelné srazy zaměřené na data science)</li>\n",
        "<li><a href=\"https://pyvo.cz/praha-pyvo/\">Pyvo</a> (Python + pivo; lightning talks included)</li>\n",
        "</ul>\n",
        "\n",
        "## PEP (Python Enhancement Proposals)\n",
        "<ul>\n",
        "<li><a href=\"https://www.python.org/dev/peps/\">PEP0</a></li>\n",
        "</ul>\n",
        "<p>Z jednotlivých skupin PEP je vidět vývoj jazyka, co nás čeká v budoucích verzích a co je zvažováno k implementaci.</p>"
      ]
    },
    {
      "cell_type": "markdown",
      "metadata": {
        "id": "-wEEW3KArUNG"
      },
      "source": [
        "## Instalace\n",
        "\n",
        "python2 != python3, pozor při spouštění python nebo pip bez virtuálního prostředí\n",
        "\n",
        "## Virtuální prostředí\n",
        "viz přednáška [http://vyuka.ookami.cz/materialy/python/packages/conda.xml]"
      ]
    },
    {
      "cell_type": "markdown",
      "metadata": {
        "id": "fiwnTiOxrUNH"
      },
      "source": [
        "### Postup spuštění na cvičeních\n",
        "\n",
        "1. Nainstalovat python\n",
        "2. Nainstalovat conda (instalujte miniconda)\n",
        "3. Najít si své repository na [https://gitlab.fit.cvut.cz/BI-PYT/B202]\n",
        "4. `git clone https://gitlab.fit.cvut.cz/BI-PYT/B202/vase_username.git`\n",
        "5. V naklonovaném adresáři `conda env update`\n",
        "6. Aktivovovat virtuální prostředí `conda activate bipyt`\n",
        "7. Spustit `jupyter notebook`"
      ]
    },
    {
      "cell_type": "markdown",
      "metadata": {
        "id": "p75RreYSrUNH"
      },
      "source": [
        "## Pokud nechcete instalovat condu\n",
        "\n",
        "1. Nainstalovat python\n",
        "2. Vytvořit virtuální prostředí `python3 -m venv bipyt`\n",
        "3. Aktivovat prostředí `source bipyt/bin/activate`\n",
        "4. Nainstalovat baličky `pip install jupyter numpy pandas matplotlib pillow pytest`\n",
        "5. Najít si své repository na [https://gitlab.fit.cvut.cz/BI-PYT/B202]\n",
        "6. git clone https://gitlab.fit.cvut.cz/BI-PYT/B202/vase_username.git\n",
        "7. Spustit `jupyter notebook`\n"
      ]
    },
    {
      "cell_type": "markdown",
      "metadata": {
        "id": "5qa5oxY7rUNI"
      },
      "source": [
        "## Další možnosti práce na cvičeních\n",
        "\n",
        "Ačkoliv je interaktivní jupyter notebook preferovaným způsobem práce na cvičeních, jsou i další možnosti:\n",
        "\n",
        "- interaktivní shell\n",
        "- IDE (VSCode, pyCharm)\n",
        "- Google Colaboratory\n",
        "\n",
        "Studenti mohou na cvičeních použít způsob, který jim bude nejlépe vyhovovat."
      ]
    },
    {
      "cell_type": "markdown",
      "metadata": {
        "id": "S5gLPsNGrUNI"
      },
      "source": [
        "## Odevzdávání domácích úkolů\n",
        "\n",
        "1. Studenti si založí novou větev ve svém repository\n",
        "```\n",
        "git branch -b homework01\n",
        "```\n",
        "2. Vyřešený domácí úkol commitnou do své větve\n",
        "```\n",
        "git add homework01/game_of_life.py\n",
        "git commit -m \"comments\"\n",
        "git push\n",
        "```\n",
        "3. v gitlabu založí merge request do master (tím se spustí unit testy)\n",
        "\n",
        "pokud testy projdou OK, označte mne a já vám zapíši body do grades"
      ]
    },
    {
      "cell_type": "markdown",
      "metadata": {
        "id": "sqEaLMMurUNJ"
      },
      "source": [
        "## Proč řešit virtuální prostředí\n",
        "\n",
        "<img align=\"left\" src=\"https://hackernoon.com/hn-images/0*69D-RN99wIfVuQm2\" alt=\"drawing\" width=\"500\">"
      ]
    },
    {
      "cell_type": "markdown",
      "metadata": {
        "id": "wHb3S0IsrUNJ"
      },
      "source": [
        "## Zen Of Python\n",
        "\n",
        "\n",
        "<img align=\"left\" src=\"https://upload.wikimedia.org/wikipedia/commons/f/f4/Zen_Of_Python.png\" alt=\"drawing\" width=\"500\"/>\n",
        "                  "
      ]
    },
    {
      "cell_type": "markdown",
      "metadata": {
        "id": "4uLSiw7zrUNK"
      },
      "source": [
        "V rámci řešení domácích úkolů a semestrální práce upozorňuji zejména na body `Beautiful is better than ugly` a `Readability counts`"
      ]
    },
    {
      "cell_type": "markdown",
      "metadata": {
        "id": "0NpfyTsYrUNK"
      },
      "source": [
        "# Úvod do pythonu\n",
        "\n",
        "Pozor, python používá syntactically significant whitespace\n",
        "\n",
        "Bloky kódu (bloky zdrojového textu) jsou určeny jejich odsazením. „Blokem kódu“ zde rozumím volání funkcí, příkazy if, cykly for, cykly while a další. Blok je zahájen odsazením (odskočením řádku vpravo) a končí předsazením (odskočením následujícího řádku vlevo). Nenajdeme zde žádné explicitní závorky nebo klíčová slova. To ale znamená, že používání whitespace má svůj význam a že je musíme užívat důsledně."
      ]
    },
    {
      "cell_type": "code",
      "metadata": {
        "id": "P8RHep55rUNL"
      },
      "source": [
        "def f1(x):\n",
        "    if x < 0:\n",
        "        x = -x\n",
        "    return x"
      ],
      "execution_count": null,
      "outputs": []
    },
    {
      "cell_type": "code",
      "metadata": {
        "id": "OVbJ0D4brUNO",
        "outputId": "8a2916af-5ca2-4edb-9989-c7708bfdc507"
      },
      "source": [
        "f1(-2), f1(2)"
      ],
      "execution_count": null,
      "outputs": [
        {
          "output_type": "execute_result",
          "data": {
            "text/plain": [
              "(2, 2)"
            ]
          },
          "metadata": {
            "tags": []
          },
          "execution_count": 36
        }
      ]
    },
    {
      "cell_type": "code",
      "metadata": {
        "id": "ZtZwik24rUNQ"
      },
      "source": [
        "def f2(x):\n",
        "    if x < 0:\n",
        "        x = -x\n",
        "        return x"
      ],
      "execution_count": null,
      "outputs": []
    },
    {
      "cell_type": "code",
      "metadata": {
        "id": "lcwVjDRsrUNS",
        "outputId": "870168f2-06df-40ef-d22f-1aef82db4dc3"
      },
      "source": [
        "f2(-2), f2(2)"
      ],
      "execution_count": null,
      "outputs": [
        {
          "output_type": "execute_result",
          "data": {
            "text/plain": [
              "(2, None)"
            ]
          },
          "metadata": {
            "tags": []
          },
          "execution_count": 38
        }
      ]
    },
    {
      "cell_type": "markdown",
      "metadata": {
        "id": "ERd-uo0jrUNU"
      },
      "source": [
        "V prvním příkladu funkce f1 vrací absolutní hodnotu parametru x. V druhém příkladu funkce f2 pro kladné a nulové x nic nevrátí."
      ]
    },
    {
      "cell_type": "markdown",
      "metadata": {
        "id": "mMtzqUfxrUNV"
      },
      "source": [
        "## Operátory\n",
        "\n",
        "- číselné:\n",
        "  - `+` sčítání\n",
        "  - `-` odčítání\n",
        "  - `*` násobení\n",
        "  - `**` mocnění\n",
        "  - `/` dělění\n",
        "  - `//` celočíselné dělění\n",
        "  - `%` zbytek po celočíselném dělění"
      ]
    },
    {
      "cell_type": "markdown",
      "metadata": {
        "id": "a4doYhGtrUNV"
      },
      "source": [
        "- logické:\n",
        "  - `and`\n",
        "  - `or`\n",
        "  - `not`"
      ]
    },
    {
      "cell_type": "markdown",
      "metadata": {
        "id": "025q0ICGrUNW"
      },
      "source": [
        "- porovnávací:\n",
        "  - `<`\n",
        "  - `>`\n",
        "  - `==`\n",
        "  - `!=`\n",
        "  - `<=`\n",
        "  - `>=`"
      ]
    },
    {
      "cell_type": "markdown",
      "metadata": {
        "id": "tgaDLWU6rUNW"
      },
      "source": [
        "## Čísla\n",
        "int vs. float"
      ]
    },
    {
      "cell_type": "code",
      "metadata": {
        "id": "K_It6z7orUNW",
        "outputId": "14114eb2-1b2d-47ea-a727-9e686d07ad90"
      },
      "source": [
        "i = int(32)\n",
        "i"
      ],
      "execution_count": null,
      "outputs": [
        {
          "output_type": "execute_result",
          "data": {
            "text/plain": [
              "32"
            ]
          },
          "metadata": {
            "tags": []
          },
          "execution_count": 12
        }
      ]
    },
    {
      "cell_type": "code",
      "metadata": {
        "id": "hF0-qOHerUNZ",
        "outputId": "6218886e-49de-4dcc-bd43-4ea7b390c40f"
      },
      "source": [
        "f = float()\n",
        "f"
      ],
      "execution_count": null,
      "outputs": [
        {
          "output_type": "execute_result",
          "data": {
            "text/plain": [
              "0.0"
            ]
          },
          "metadata": {
            "tags": []
          },
          "execution_count": 14
        }
      ]
    },
    {
      "cell_type": "code",
      "metadata": {
        "id": "RiKlMsndrUNb",
        "colab": {
          "base_uri": "https://localhost:8080/",
          "height": 34
        },
        "outputId": "cfa62c8c-e6cc-4e3c-f077-0551d4a1f477"
      },
      "source": [
        "type(int(32)/float(4))"
      ],
      "execution_count": null,
      "outputs": [
        {
          "output_type": "execute_result",
          "data": {
            "text/plain": [
              "float"
            ]
          },
          "metadata": {
            "tags": []
          },
          "execution_count": 1
        }
      ]
    },
    {
      "cell_type": "code",
      "metadata": {
        "id": "YtZc831VriT5",
        "colab": {
          "base_uri": "https://localhost:8080/",
          "height": 34
        },
        "outputId": "2a6ab26e-1573-4db9-a6f4-041bc0ea7649"
      },
      "source": [
        "type(int(32)+float(4))"
      ],
      "execution_count": null,
      "outputs": [
        {
          "output_type": "execute_result",
          "data": {
            "text/plain": [
              "float"
            ]
          },
          "metadata": {
            "tags": []
          },
          "execution_count": 3
        }
      ]
    },
    {
      "cell_type": "markdown",
      "metadata": {
        "id": "Tfz-M21qrUNd"
      },
      "source": [
        "## Řetězce\n",
        "\n"
      ]
    },
    {
      "cell_type": "code",
      "metadata": {
        "id": "w17NQ1DfrUNe",
        "outputId": "792ddc80-2fb8-47c1-99d5-604df3f8961e"
      },
      "source": [
        "s = str()\n",
        "s"
      ],
      "execution_count": null,
      "outputs": [
        {
          "output_type": "execute_result",
          "data": {
            "text/plain": [
              "''"
            ]
          },
          "metadata": {
            "tags": []
          },
          "execution_count": 19
        }
      ]
    },
    {
      "cell_type": "markdown",
      "metadata": {
        "id": "H6YHKl85rUNg"
      },
      "source": [
        "Výřezová notace - pozor python indexuje od nuly."
      ]
    },
    {
      "cell_type": "code",
      "metadata": {
        "id": "hysQsIhZrUNg",
        "outputId": "04d34ad4-fdd8-475c-822d-c21105fde2c8"
      },
      "source": [
        "s = 'All human beings are born free and equal in dignity and rights.'\n",
        "print(s[0])\n",
        "print(s[-1])\n",
        "print(s[0:3])\n",
        "print(s[-7:])"
      ],
      "execution_count": null,
      "outputs": [
        {
          "output_type": "stream",
          "text": [
            "A\n",
            ".\n",
            "All\n",
            "rights.\n"
          ],
          "name": "stdout"
        }
      ]
    },
    {
      "cell_type": "markdown",
      "metadata": {
        "id": "frYNQ9_hrUNi"
      },
      "source": [
        "# Sekvence\n",
        "Konečné uspořádané skupiny prvků indexovaných nezápornými čísly (řetezce jsou sekvence; seznamy a další také)\n",
        "\n",
        "| Výraz            |Popis |\n",
        "|:--------|:--------------------|\n",
        "| `len(xs)` | vrací délku příslušné sekvence xs |\n",
        "| `xs[i]` | vrací prvek sekvence na pozici i (smysl má i výraz typu xs[-2]) |\n",
        "| `xs[i:j]` | vrací podsekvenci od indexu i po index j-1 (smysl mají i výrazy typu xs[:3], xs[-2:] apod., někde též xs[i:j:k]) |\n",
        "| `zs = xs + ys` | spojování sekvencí |\n",
        "| `for x in xs:` | smyčka přes všechny prvky sekvence |\n",
        "| `x in xs` | zjištění výskytu prvku v sekvenci |\n",
        "| `xs.index(x[,n])` | zjištění prvního umístění prvku v sekvenci (od pozice n) |\n",
        "| `xs.count(x)` | počet výskytů prvku x v sekvenci xs |\n",
        "\n"
      ]
    },
    {
      "cell_type": "markdown",
      "metadata": {
        "id": "vlKP4BBWrUNi"
      },
      "source": [
        "## Podmínky\n",
        "\n",
        "if se chová očekávaným způsobem:\n",
        "\n",
        "```python\n",
        "if PODMÍNKA1:\n",
        "   BLOK1\n",
        "elif PODMÍNKA2:\n",
        "   BLOK2\n",
        "elif PODMÍNKA2:\n",
        "   BLOK3\n",
        "else:\n",
        "   BLOK4\n",
        "```\n",
        "\n",
        "V pythonu není switch; switch lze nahradit buď pomocí if-elif-else a nebo pomocí slovníku."
      ]
    },
    {
      "cell_type": "markdown",
      "metadata": {
        "id": "JgKqYZZZrUNj"
      },
      "source": [
        "## Cyklus for\n",
        "Pozor! V pythonu neexistuje obdoba následujícího kódu z javy\n",
        "\n",
        "```java\n",
        "for (int i = 0; i < 5; i++) {\n",
        "  System.out.println(i);\n",
        "}\n",
        "```\n",
        "protože for cyklus v pythonu cyklí průchodem po prvcích nějakého objektu (iterable), většinou sekvence:"
      ]
    },
    {
      "cell_type": "code",
      "metadata": {
        "id": "szq8cjEKrUNj",
        "outputId": "aa447859-5f32-48de-83c1-49802a48ff15"
      },
      "source": [
        "for i in [0,1,2,3,4]:\n",
        "    print(i)"
      ],
      "execution_count": null,
      "outputs": [
        {
          "output_type": "stream",
          "text": [
            "0\n",
            "1\n",
            "2\n",
            "3\n",
            "4\n"
          ],
          "name": "stdout"
        }
      ]
    },
    {
      "cell_type": "markdown",
      "metadata": {
        "id": "xwSNQPq8rUNl"
      },
      "source": [
        "## Rozsah - range\n",
        "\n",
        "Požadovanou sekvenci si lze vygenerovat pomocí generátoru, například ```range```:"
      ]
    },
    {
      "cell_type": "code",
      "metadata": {
        "id": "rSy8gccYrUNl",
        "outputId": "c2f5b5d8-8e25-443b-e0bb-e5666d910563"
      },
      "source": [
        "for i in range(5):\n",
        "    print(i)"
      ],
      "execution_count": null,
      "outputs": [
        {
          "output_type": "stream",
          "text": [
            "0\n",
            "1\n",
            "2\n",
            "3\n",
            "4\n"
          ],
          "name": "stdout"
        }
      ]
    },
    {
      "cell_type": "markdown",
      "metadata": {
        "id": "zlFn1k52rUNn"
      },
      "source": [
        "\n",
        "\n",
        "Syntaxe `range`:\n",
        "- od nuly do n: `range(`n`)`\n",
        "- od m do n: `range(`m`,`n`)`\n",
        "- od m do n s krokem k: `range(`m`,`n`,`k`)`\n",
        "\n"
      ]
    },
    {
      "cell_type": "markdown",
      "metadata": {
        "id": "6ic7kWoMrUNo"
      },
      "source": [
        "# Cyklus for\n",
        "\n",
        "V čem je tedy ten rozdíl oproti javě?"
      ]
    },
    {
      "cell_type": "code",
      "metadata": {
        "id": "0ducUK6wrUNo",
        "outputId": "b26b7bdf-eb24-45ef-da6d-4a43371b3008"
      },
      "source": [
        "for x in range(5):\n",
        "    print(x,end='-')\n",
        "    for x in range(5):\n",
        "             print(x,end='')\n",
        "    print() #new line"
      ],
      "execution_count": null,
      "outputs": [
        {
          "output_type": "stream",
          "text": [
            "0-01234\n",
            "1-01234\n",
            "2-01234\n",
            "3-01234\n",
            "4-01234\n"
          ],
          "name": "stdout"
        }
      ]
    },
    {
      "cell_type": "markdown",
      "metadata": {
        "id": "I25AplKDrUNq"
      },
      "source": [
        "i když javista by čekal:\n",
        "\n",
        "`0-01234`\n",
        "\n",
        "A proč? Nahraďte si `range(5)` za `[0,1,2,3,4]` a začne to dávat smysl."
      ]
    },
    {
      "cell_type": "markdown",
      "metadata": {
        "id": "ETT-DAlSrUNq"
      },
      "source": [
        "# Cyklus while\n",
        "\n",
        "Jak tedy napsat následující java kód v pythonu?\n",
        "```java\n",
        "for (int i = 0; i < 5; i++) {\n",
        "  System.out.println(i);\n",
        "}\n",
        "```\n",
        "Pomocí cyklu while:\n",
        "```python\n",
        "i=0\n",
        "while i<5:\n",
        "  print(i)\n",
        "  i+=1\n",
        "```\n",
        "Obecně:\n",
        "```python\n",
        "while PODMÍNKA:\n",
        "  BLOK\n",
        "```"
      ]
    },
    {
      "cell_type": "markdown",
      "metadata": {
        "id": "B-7HXU6OrUNr"
      },
      "source": [
        "# Funkce\n",
        "\n",
        "Funkce zavádíme pomocí klíčového slova ```def```:\n",
        "\n",
        "```python\n",
        "def moje_funkce(par1, par2):\n",
        "  vysledek = par1+par2\n",
        "  return vysledek\n",
        "```\n",
        "\n",
        "\n"
      ]
    },
    {
      "cell_type": "markdown",
      "metadata": {
        "id": "HqWppQLwrUNr"
      },
      "source": [
        "Vestavěná funkce `print` má syntaxi:\n",
        "\n",
        "```python\n",
        "print( [object, ...]\n",
        "       [, sep=' '][, end='\\n'][, file=sys.stdout][, flush=False] )\n",
        "```\n",
        "\n",
        "```python\n",
        ">>> s1, s2, s3 = 'ahoj', 'světe', 'jak se máš'\n",
        ">>> print(s1, s2, s3, sep=' | ', end='\\n')\n",
        "ahoj | světe | jak se máš\n",
        "```"
      ]
    },
    {
      "cell_type": "markdown",
      "metadata": {
        "id": "KS6SyqyIrUNr"
      },
      "source": [
        "Vestavěná funkce `input`:\n",
        "\n",
        "```python\n",
        ">>> answer = input('Zadej text: ')\n",
        "Zadej text: Ahoj, světe! # Musí zadat a odentrovat uživatel\n",
        ">>> answer\n",
        "'Ahoj, světe!'\n",
        "```"
      ]
    },
    {
      "cell_type": "markdown",
      "metadata": {
        "id": "DDh9JHYsrUNs"
      },
      "source": [
        "## Dynamické typování\n",
        "\n",
        "Python je dynamicky typovaný jazyk.\n",
        "\n",
        "```python\n",
        "def scitani (a,b):\n",
        "    print(\"scitam \",end=\"\")\n",
        "    return a+b\n",
        "```\n",
        "\n",
        "Můžete volat s různými typy.\n",
        "```python\n",
        "print(scitani(1,1))\n",
        "print(scitani(1.2,1))\n",
        "print(scitani('a','hoj'))\n",
        "```\n",
        "\n",
        "Zároveň je python silně typovaný:\n",
        "\n",
        "```python\n",
        ">>> 1+\"ahoj\"\n",
        "Traceback (most recent call last):\n",
        "  File \"<stdin>\", line 1, in <module>\n",
        "TypeError: unsupported operand type(s) for +: 'int' and 'str'\n",
        "```\n",
        "---"
      ]
    }
  ]
}