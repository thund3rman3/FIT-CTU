{
  "nbformat": 4,
  "nbformat_minor": 0,
  "metadata": {
    "colab": {
      "name": "Cvičení 04 - výklad.ipynb",
      "provenance": [],
      "collapsed_sections": []
    },
    "kernelspec": {
      "name": "python3",
      "display_name": "Python 3"
    }
  },
  "cells": [
    {
      "cell_type": "markdown",
      "metadata": {
        "id": "RuqM-2PwHUmm"
      },
      "source": [
        "# Funkce\n",
        "\n",
        "Na úvod než začneme, malá poznámka. Ačkoliv předpokládáme, že pracujeme v pythonu verze 3.6 a vyšší, některé věci týkající se funkcí byly zavedeny až od verze 3.8. V colaboratory je standartně používána verze 3.7 a proto ne vše zde bude fungovat. Na konkrétní věci zde výslovně upozorním.\n",
        "\n",
        "Aktuální verzi pythonu zjistíte takto:"
      ]
    },
    {
      "cell_type": "code",
      "metadata": {
        "id": "FU_81fcNHTBS",
        "colab": {
          "base_uri": "https://localhost:8080/"
        },
        "outputId": "980097fc-7569-417e-ae89-1614ab6eb6d6"
      },
      "source": [
        "import sys\n",
        "v = sys.version_info\n",
        "print(str(v.major) + \".\" + str(v.minor))"
      ],
      "execution_count": null,
      "outputs": [
        {
          "output_type": "stream",
          "text": [
            "3.7\n"
          ],
          "name": "stdout"
        }
      ]
    },
    {
      "cell_type": "markdown",
      "metadata": {
        "id": "sNquBQn0QsG3"
      },
      "source": [
        "## Definice\n",
        "\n",
        "Funkce se zavádí pomocí klíčového slova def. \n"
      ]
    },
    {
      "cell_type": "code",
      "metadata": {
        "id": "GJsOY58KkHkJ",
        "colab": {
          "base_uri": "https://localhost:8080/"
        },
        "outputId": "95d63b82-4475-4ba9-8421-a11478a992cd"
      },
      "source": [
        "def moje_funkce(par1, par2):\n",
        "  vysledek = par1 + par2\n",
        "  return vysledek\n",
        "\n",
        "moje_funkce(1, 2)"
      ],
      "execution_count": null,
      "outputs": [
        {
          "output_type": "execute_result",
          "data": {
            "text/plain": [
              "3"
            ]
          },
          "metadata": {
            "tags": []
          },
          "execution_count": 2
        }
      ]
    },
    {
      "cell_type": "markdown",
      "metadata": {
        "id": "iGY-2q9IkCmZ"
      },
      "source": [
        "\n",
        "## Návratová hodnota\n",
        "\n",
        "V některých jazycích se rozlišují funkce (které vrací hodnotu) a procedury (které nic nevrací). V pythonu máme jen funkce. Pokud funkce nic nevrátí, vrátí `None`. Pokud chceme funkci definovat pouze jako proceduru, můžeme použít `return None` nebo jen `return`."
      ]
    },
    {
      "cell_type": "code",
      "metadata": {
        "id": "-6AmtOSLOuaU",
        "colab": {
          "base_uri": "https://localhost:8080/"
        },
        "outputId": "82851740-5f3f-42ed-dce2-3676ee4bf255"
      },
      "source": [
        "def f():\n",
        "  pass\n",
        "\n",
        "print(f())\n",
        "\n",
        "def f():\n",
        "  return\n",
        "\n",
        "print(f())\n",
        "\n",
        "def f():\n",
        "  return None\n",
        "\n",
        "print(f())\n",
        "\n",
        "def f():\n",
        "  ...\n",
        "\n",
        "print(f())"
      ],
      "execution_count": null,
      "outputs": [
        {
          "output_type": "stream",
          "text": [
            "None\n",
            "None\n",
            "None\n",
            "None\n"
          ],
          "name": "stdout"
        }
      ]
    },
    {
      "cell_type": "markdown",
      "metadata": {
        "id": "MTLJb9eTWZkz"
      },
      "source": [
        "# Argumenty\n",
        "\n",
        "Pojďme si vytvořit funkci power, která dostane dva argumenty - mocněnce x a mocnitele y a provede umocnění x^y.\n",
        "\n",
        "Poznámka: argument vs. parametr \n",
        "\n",
        "- **parametry** jsou proměnné v definici metody (v našem případě `x` a `y`)\n",
        "- **argumenty** jsou data, která se předají do parametrů při volání funkce (v našem případě `2` a `10`)"
      ]
    },
    {
      "cell_type": "code",
      "metadata": {
        "id": "PaaJAxMSWdoE",
        "colab": {
          "base_uri": "https://localhost:8080/"
        },
        "outputId": "ac0bb299-6f73-4049-e6db-2ee7b75a2ecc"
      },
      "source": [
        "def power(x, y):\n",
        "  return x**y\n",
        "\n",
        "print(power(2, 10))"
      ],
      "execution_count": null,
      "outputs": [
        {
          "output_type": "stream",
          "text": [
            "1024\n"
          ],
          "name": "stdout"
        }
      ]
    },
    {
      "cell_type": "markdown",
      "metadata": {
        "id": "QCYSbm9yTg3a"
      },
      "source": [
        "Argumenty mužeme předat buď pozičně, nebo je můžeme pojmenovat. "
      ]
    },
    {
      "cell_type": "code",
      "metadata": {
        "id": "NyLUFRffPGVb",
        "colab": {
          "base_uri": "https://localhost:8080/"
        },
        "outputId": "341f65d0-1876-4dec-d1ae-43ef3517ef3a"
      },
      "source": [
        "print(power(2, y=10))\n",
        "print(power(x=2, y=10))\n",
        "print(power(y=2, x=10))"
      ],
      "execution_count": null,
      "outputs": [
        {
          "output_type": "stream",
          "text": [
            "1024\n",
            "1024\n",
            "100\n"
          ],
          "name": "stdout"
        }
      ]
    },
    {
      "cell_type": "markdown",
      "metadata": {
        "id": "SjRdOv_cUkZP"
      },
      "source": [
        "Nemůžeme si ovšem dělat úplně co chceme, po pojmenovaných argumentech už nemůžou následovat poziční  "
      ]
    },
    {
      "cell_type": "code",
      "metadata": {
        "id": "QLV1X9sTUUwe",
        "colab": {
          "base_uri": "https://localhost:8080/",
          "height": 129
        },
        "outputId": "aef0bb43-e0e3-4de3-c9c6-961b4d23e258"
      },
      "source": [
        "print(power(x=2, 10))"
      ],
      "execution_count": null,
      "outputs": [
        {
          "output_type": "error",
          "ename": "SyntaxError",
          "evalue": "ignored",
          "traceback": [
            "\u001b[0;36m  File \u001b[0;32m\"<ipython-input-6-d3982b710f7d>\"\u001b[0;36m, line \u001b[0;32m1\u001b[0m\n\u001b[0;31m    print(power(x=2, 10))\u001b[0m\n\u001b[0m                    ^\u001b[0m\n\u001b[0;31mSyntaxError\u001b[0m\u001b[0;31m:\u001b[0m positional argument follows keyword argument\n"
          ]
        }
      ]
    },
    {
      "cell_type": "markdown",
      "metadata": {
        "id": "wGUoC4QFWzo6"
      },
      "source": [
        "Pojmenované argumenty se s výhodou používají pro výchozí (default) hodnoty parametrů."
      ]
    },
    {
      "cell_type": "code",
      "metadata": {
        "id": "cnaoxnubVt3a",
        "colab": {
          "base_uri": "https://localhost:8080/"
        },
        "outputId": "57ed1463-289a-4dde-e49b-9a213a515615"
      },
      "source": [
        "def power(x, y=2):\n",
        "  return x**y\n",
        "\n",
        "print(power(2))"
      ],
      "execution_count": null,
      "outputs": [
        {
          "output_type": "stream",
          "text": [
            "4\n"
          ],
          "name": "stdout"
        }
      ]
    },
    {
      "cell_type": "markdown",
      "metadata": {
        "id": "V8yeWJJyZLjg"
      },
      "source": [
        "## Proměnný počet argumentů\n",
        "\n",
        "Funkce může dostat libovolný počet argumentů. Ty získáme jako n-tici prostřednictvím hvězdičkového operátoru."
      ]
    },
    {
      "cell_type": "code",
      "metadata": {
        "id": "atqw9Y1MY78Q",
        "colab": {
          "base_uri": "https://localhost:8080/"
        },
        "outputId": "ab0d6eef-5430-4d95-c72d-c0bbd35ab0bc"
      },
      "source": [
        "def multiprint(*args):\n",
        "  print(type(args))\n",
        "  for x in args:\n",
        "    print(x)\n",
        "\n",
        "multiprint(\"Ahoj\", \"Nazdar\", \"Čau\")"
      ],
      "execution_count": null,
      "outputs": [
        {
          "output_type": "stream",
          "text": [
            "<class 'tuple'>\n",
            "Ahoj\n",
            "Nazdar\n",
            "Čau\n"
          ],
          "name": "stdout"
        }
      ]
    },
    {
      "cell_type": "markdown",
      "metadata": {
        "id": "iiBRm3LaafXB"
      },
      "source": [
        "Obdobně můžeme předat i libovolný počet pojmenovaných argumentů. Ty získáme opět pomocí hvězdičkového operátoru jako slovník (hvězdičkový operátor pro slovník má hvězdičky dvě `**`) "
      ]
    },
    {
      "cell_type": "code",
      "metadata": {
        "id": "ZFFvI8spXSoo",
        "colab": {
          "base_uri": "https://localhost:8080/"
        },
        "outputId": "525f4e6b-175a-4fb6-edc7-8fac4c80f1c7"
      },
      "source": [
        "def multiprint(**kwargs):\n",
        "  print(type(kwargs))\n",
        "  for key, val in kwargs.items():\n",
        "    print(key, val)\n",
        "\n",
        "multiprint(jedna=\"Ahoj\", dva=\"Nazdar\", tri=\"Čau\")"
      ],
      "execution_count": null,
      "outputs": [
        {
          "output_type": "stream",
          "text": [
            "<class 'dict'>\n",
            "jedna Ahoj\n",
            "dva Nazdar\n",
            "tri Čau\n"
          ],
          "name": "stdout"
        }
      ]
    },
    {
      "cell_type": "markdown",
      "metadata": {
        "id": "9k4tfrgucKbM"
      },
      "source": [
        "Poznámka: je dobrým zvykem používat parametry `args` a `kwargs`, aby bylo jasné o co jde na první pohled, ačkoliv si je samozřejmě můžete pojmenovat jakkoliv."
      ]
    },
    {
      "cell_type": "markdown",
      "metadata": {
        "id": "d8R1AdmNbEnd"
      },
      "source": [
        "Typicky můžeme poziční i pojmenované argumenty zkombinovat."
      ]
    },
    {
      "cell_type": "code",
      "metadata": {
        "id": "Fwdk26HIa7nU",
        "colab": {
          "base_uri": "https://localhost:8080/"
        },
        "outputId": "bcd72c00-bf1b-4422-aff1-5a436f172004"
      },
      "source": [
        "def multiprint(*args, **kwargs):\n",
        "  print(type(args))\n",
        "  for x in args:\n",
        "    print(x)\n",
        "  print(type(kwargs))\n",
        "  for key, val in kwargs.items():\n",
        "    print(key, val)\n",
        "\n",
        "multiprint(\"Ahoj\", \"Nazdar\", \"Čau\")\n",
        "print(\"--------------\")\n",
        "multiprint(jedna=\"Ahoj\", dva=\"Nazdar\", tri=\"Čau\")\n",
        "print(\"--------------\")\n",
        "multiprint(\"Ahoj\", \"Nazdar\", tri=\"Cau\")"
      ],
      "execution_count": null,
      "outputs": [
        {
          "output_type": "stream",
          "text": [
            "<class 'tuple'>\n",
            "Ahoj\n",
            "Nazdar\n",
            "Čau\n",
            "<class 'dict'>\n",
            "--------------\n",
            "<class 'tuple'>\n",
            "<class 'dict'>\n",
            "jedna Ahoj\n",
            "dva Nazdar\n",
            "tri Čau\n",
            "--------------\n",
            "<class 'tuple'>\n",
            "Ahoj\n",
            "Nazdar\n",
            "<class 'dict'>\n",
            "tri Cau\n"
          ],
          "name": "stdout"
        }
      ]
    },
    {
      "cell_type": "markdown",
      "metadata": {
        "id": "tx5Yb9wIb7O6"
      },
      "source": [
        "A můžeme i zkombinovat povinné a nepovinné argumenty"
      ]
    },
    {
      "cell_type": "code",
      "metadata": {
        "id": "IrdOt0Cpbfu6",
        "colab": {
          "base_uri": "https://localhost:8080/"
        },
        "outputId": "3697ad60-77fa-4b0e-88f7-f24e4c0c2f01"
      },
      "source": [
        "def multiprint(number, string=None, *args, **kwargs):\n",
        "  print(number)\n",
        "  print(string)\n",
        "  print(type(args))\n",
        "  for x in args:\n",
        "    print(x)\n",
        "  print(type(kwargs))\n",
        "  for key, val in kwargs.items():\n",
        "    print(key, val)\n",
        "\n",
        "multiprint(1, \"Ahoj\", \"Nazdar\", cau=\"Cau\")"
      ],
      "execution_count": null,
      "outputs": [
        {
          "output_type": "stream",
          "text": [
            "1\n",
            "Ahoj\n",
            "<class 'tuple'>\n",
            "Nazdar\n",
            "<class 'dict'>\n",
            "cau Cau\n"
          ],
          "name": "stdout"
        }
      ]
    },
    {
      "cell_type": "markdown",
      "metadata": {
        "id": "NZtU-Ijwdr6L"
      },
      "source": [
        "Pozor na pořadí!"
      ]
    },
    {
      "cell_type": "code",
      "metadata": {
        "id": "ij2-xPO_c-dY",
        "colab": {
          "base_uri": "https://localhost:8080/"
        },
        "outputId": "a7d521c5-a641-4e76-fc93-10a7fff6489b"
      },
      "source": [
        "def multiprint(number, *args, string=None, **kwargs):\n",
        "  print(number)\n",
        "  print(string)\n",
        "  print(type(args))\n",
        "  for x in args:\n",
        "    print(x)\n",
        "  print(type(kwargs))\n",
        "  for key, val in kwargs.items():\n",
        "    print(key, val)\n",
        "\n",
        "multiprint(1, \"Ahoj\", \"Nazdar\", cau=\"Cau\")"
      ],
      "execution_count": null,
      "outputs": [
        {
          "output_type": "stream",
          "text": [
            "1\n",
            "None\n",
            "<class 'tuple'>\n",
            "Ahoj\n",
            "Nazdar\n",
            "<class 'dict'>\n",
            "cau Cau\n"
          ],
          "name": "stdout"
        }
      ]
    },
    {
      "cell_type": "markdown",
      "metadata": {
        "id": "ipZt-snbdy3a"
      },
      "source": [
        "`*args` musí být poslední poziční, `**kwargs` poslední pojmenovaný. Doporučuji si vždy nejdříve vyřídit poziční a až pak pojmenované argumenty.\n",
        "\n",
        "Aby v tom nebyl takový zmatek, můžeme si vynutit předání pojmenovaného argumentu jen a pouze jako pojmenovaného argumentu pomocí `*`"
      ]
    },
    {
      "cell_type": "code",
      "metadata": {
        "id": "-zdXl-NwdkEI",
        "colab": {
          "base_uri": "https://localhost:8080/",
          "height": 248
        },
        "outputId": "ddd00ee9-ac6f-450b-9316-8d98330d51a3"
      },
      "source": [
        "def power(x, *, y=2):\n",
        "  return x**y\n",
        "\n",
        "print(power(2))\n",
        "print(power(2, y=10))\n",
        "print(power(y=10, x=2))\n",
        "# ale takto ne!\n",
        "print(power(2, 10))"
      ],
      "execution_count": null,
      "outputs": [
        {
          "output_type": "stream",
          "text": [
            "4\n",
            "1024\n",
            "1024\n"
          ],
          "name": "stdout"
        },
        {
          "output_type": "error",
          "ename": "TypeError",
          "evalue": "ignored",
          "traceback": [
            "\u001b[0;31m---------------------------------------------------------------------------\u001b[0m",
            "\u001b[0;31mTypeError\u001b[0m                                 Traceback (most recent call last)",
            "\u001b[0;32m<ipython-input-13-6f8eb9aff3a5>\u001b[0m in \u001b[0;36m<module>\u001b[0;34m()\u001b[0m\n\u001b[1;32m      6\u001b[0m \u001b[0mprint\u001b[0m\u001b[0;34m(\u001b[0m\u001b[0mpower\u001b[0m\u001b[0;34m(\u001b[0m\u001b[0my\u001b[0m\u001b[0;34m=\u001b[0m\u001b[0;36m10\u001b[0m\u001b[0;34m,\u001b[0m \u001b[0mx\u001b[0m\u001b[0;34m=\u001b[0m\u001b[0;36m2\u001b[0m\u001b[0;34m)\u001b[0m\u001b[0;34m)\u001b[0m\u001b[0;34m\u001b[0m\u001b[0;34m\u001b[0m\u001b[0m\n\u001b[1;32m      7\u001b[0m \u001b[0;31m# ale takto ne!\u001b[0m\u001b[0;34m\u001b[0m\u001b[0;34m\u001b[0m\u001b[0;34m\u001b[0m\u001b[0m\n\u001b[0;32m----> 8\u001b[0;31m \u001b[0mprint\u001b[0m\u001b[0;34m(\u001b[0m\u001b[0mpower\u001b[0m\u001b[0;34m(\u001b[0m\u001b[0;36m2\u001b[0m\u001b[0;34m,\u001b[0m \u001b[0;36m10\u001b[0m\u001b[0;34m)\u001b[0m\u001b[0;34m)\u001b[0m\u001b[0;34m\u001b[0m\u001b[0;34m\u001b[0m\u001b[0m\n\u001b[0m",
            "\u001b[0;31mTypeError\u001b[0m: power() takes 1 positional argument but 2 were given"
          ]
        }
      ]
    },
    {
      "cell_type": "markdown",
      "metadata": {
        "id": "vrg1kr9DgX0A"
      },
      "source": [
        "V pythonu 3.8 přibyla možnost si vynutit předání argumentu jen a pouze pozičně pomocí `/`"
      ]
    },
    {
      "cell_type": "code",
      "metadata": {
        "id": "k-wpKP87fPtN",
        "colab": {
          "base_uri": "https://localhost:8080/",
          "height": 129
        },
        "outputId": "deac74b7-dd2d-4fe6-d6cd-2c39f7c2c79b"
      },
      "source": [
        "# zkuste v 3.8 (v colabu nefunguje)\n",
        "\n",
        "def power(x, /, y):\n",
        "  return x**y\n",
        "\n",
        "print(power(2, 10))\n",
        "print(power(x=2, y=10))\n",
        "\n",
        "# v 3.8 vyhodi:\n",
        "#Traceback (most recent call last):\n",
        "#  File \"<stdin>\", line 1, in <module>\n",
        "#TypeError: power() got some positional-only arguments passed as keyword arguments: 'x'"
      ],
      "execution_count": null,
      "outputs": [
        {
          "output_type": "error",
          "ename": "SyntaxError",
          "evalue": "ignored",
          "traceback": [
            "\u001b[0;36m  File \u001b[0;32m\"<ipython-input-14-851346535b12>\"\u001b[0;36m, line \u001b[0;32m3\u001b[0m\n\u001b[0;31m    def power(x, /, y):\u001b[0m\n\u001b[0m                 ^\u001b[0m\n\u001b[0;31mSyntaxError\u001b[0m\u001b[0;31m:\u001b[0m invalid syntax\n"
          ]
        }
      ]
    },
    {
      "cell_type": "markdown",
      "metadata": {
        "id": "4MwmS3W_jorh"
      },
      "source": [
        "## Mutable a Immutable argumenty\n",
        "\n",
        "Už jsme si říkali, že v pythonu máme objekty dvou základních typů - mutable (proměnné) a immutable (neměnné). Krom toho, že immutable objekty nelze měnit (a mutable ano) platí, že mutable objekty jsou předávany odkazem a immutable hodnotou. Toto platí i pro objekty předané jako argumenty funkci."
      ]
    },
    {
      "cell_type": "code",
      "metadata": {
        "id": "QzmtgoKej37B",
        "colab": {
          "base_uri": "https://localhost:8080/"
        },
        "outputId": "5d6d4624-6a42-4dff-a72f-011b6ab5a6ae"
      },
      "source": [
        "def func(neco):\n",
        "  neco += \"Nazdar\"\n",
        "\n",
        "# string je immutable\n",
        "string = \"Ahoj\"\n",
        "func(string)\n",
        "print(string)\n",
        "\n",
        "# list je mutable\n",
        "seznam = [\"Ahoj\"]\n",
        "func(seznam)\n",
        "print(seznam)"
      ],
      "execution_count": null,
      "outputs": [
        {
          "output_type": "stream",
          "text": [
            "Ahoj\n",
            "['Ahoj', 'N', 'a', 'z', 'd', 'a', 'r']\n"
          ],
          "name": "stdout"
        }
      ]
    },
    {
      "cell_type": "markdown",
      "metadata": {
        "id": "64UvEJR9r_vj"
      },
      "source": [
        "Další zajímavostí je to, že pokud je pojmenovanému parametru předán jako výchozí argument mutable objekt, je tento objekt vytvořen při zavedení funkce a dále je s touto funkcí svázán. Toho lze například využít pro cachování výsledků funkce."
      ]
    },
    {
      "cell_type": "code",
      "metadata": {
        "id": "Q5WoAQJlJ3cl",
        "colab": {
          "base_uri": "https://localhost:8080/"
        },
        "outputId": "175beac1-6175-4ffc-84b2-65b4e44f696e"
      },
      "source": [
        "def pow2(x, _temp_dict={}):\n",
        "  if x not in _temp_dict:\n",
        "    #slozity vypocet\n",
        "    _temp_dict[x] = x**2\n",
        "  else:\n",
        "    print(\"Vysledek uz byl drive vypocten\")\n",
        "  return _temp_dict[x]\n",
        "\n",
        "help(pow2)\n",
        "print(\"---------------\")\n",
        "for x in range(10):\n",
        "  pow2(x)\n",
        "help(pow2)\n",
        "# vidíme, že v _temp_dict jsou uloženy výsledky předchozích volání\n",
        "# tzn. pokud funkci zavolám se stejným argumentem, nebude znovu provádět výpočet\n",
        "print(pow2(3))\n",
        "print(\"---------------\")\n",
        "# samozrejme to ma hacek - běda, pokud zároveň předám funkci i slovník :-/\n",
        "print(pow2(10, {10: \"ahoj\"}))\n",
        "print(\"---------------\")\n",
        "help(pow2)"
      ],
      "execution_count": null,
      "outputs": [
        {
          "output_type": "stream",
          "text": [
            "Help on function pow2 in module __main__:\n",
            "\n",
            "pow2(x, _temp_dict={})\n",
            "\n",
            "---------------\n",
            "Help on function pow2 in module __main__:\n",
            "\n",
            "pow2(x, _temp_dict={0: 0, 1: 1, 2: 4, 3: 9, 4: 16, 5: 25, 6: 36, 7: 49, 8: 64, 9: 81})\n",
            "\n",
            "Vysledek uz byl drive vypocten\n",
            "9\n",
            "---------------\n",
            "Vysledek uz byl drive vypocten\n",
            "ahoj\n",
            "---------------\n",
            "Help on function pow2 in module __main__:\n",
            "\n",
            "pow2(x, _temp_dict={0: 0, 1: 1, 2: 4, 3: 9, 4: 16, 5: 25, 6: 36, 7: 49, 8: 64, 9: 81})\n",
            "\n"
          ],
          "name": "stdout"
        }
      ]
    },
    {
      "cell_type": "markdown",
      "metadata": {
        "id": "gUxs3OBQnw8H"
      },
      "source": [
        "# Scoping\n",
        "\n",
        "Proměné v pythonu lze z hlediska dostupnosti rozdělit na globální, lokální a nelokální."
      ]
    },
    {
      "cell_type": "markdown",
      "metadata": {
        "id": "d-Js1wsN3lOe"
      },
      "source": [
        "## globální\n",
        "Globální proměnné (`global`) - jsou dostupné v celém programu / skriptu / modulu, na jehož nejvyšší úrovni byly zavedeny"
      ]
    },
    {
      "cell_type": "code",
      "metadata": {
        "id": "9Inj-QXYywSV",
        "colab": {
          "base_uri": "https://localhost:8080/",
          "height": 315
        },
        "outputId": "ed770f74-f29a-420c-d52c-021cdf141285"
      },
      "source": [
        "g = 10\n",
        "\n",
        "def f():\n",
        "  g += 1 # vyhodi chybu, g neni dostupne v lokalnim kontextu\n",
        "  print(g)\n",
        "\n",
        "f()"
      ],
      "execution_count": null,
      "outputs": [
        {
          "output_type": "error",
          "ename": "UnboundLocalError",
          "evalue": "ignored",
          "traceback": [
            "\u001b[0;31m---------------------------------------------------------------------------\u001b[0m",
            "\u001b[0;31mUnboundLocalError\u001b[0m                         Traceback (most recent call last)",
            "\u001b[0;32m<ipython-input-18-79a90ab8cc2b>\u001b[0m in \u001b[0;36m<module>\u001b[0;34m()\u001b[0m\n\u001b[1;32m      5\u001b[0m   \u001b[0mprint\u001b[0m\u001b[0;34m(\u001b[0m\u001b[0mg\u001b[0m\u001b[0;34m)\u001b[0m\u001b[0;34m\u001b[0m\u001b[0;34m\u001b[0m\u001b[0m\n\u001b[1;32m      6\u001b[0m \u001b[0;34m\u001b[0m\u001b[0m\n\u001b[0;32m----> 7\u001b[0;31m \u001b[0mf\u001b[0m\u001b[0;34m(\u001b[0m\u001b[0;34m)\u001b[0m\u001b[0;34m\u001b[0m\u001b[0;34m\u001b[0m\u001b[0m\n\u001b[0m",
            "\u001b[0;32m<ipython-input-18-79a90ab8cc2b>\u001b[0m in \u001b[0;36mf\u001b[0;34m()\u001b[0m\n\u001b[1;32m      2\u001b[0m \u001b[0;34m\u001b[0m\u001b[0m\n\u001b[1;32m      3\u001b[0m \u001b[0;32mdef\u001b[0m \u001b[0mf\u001b[0m\u001b[0;34m(\u001b[0m\u001b[0;34m)\u001b[0m\u001b[0;34m:\u001b[0m\u001b[0;34m\u001b[0m\u001b[0;34m\u001b[0m\u001b[0m\n\u001b[0;32m----> 4\u001b[0;31m   \u001b[0mg\u001b[0m \u001b[0;34m+=\u001b[0m \u001b[0;36m1\u001b[0m \u001b[0;31m# vyhodi chybu, g neni dostupne v lokalnim kontextu\u001b[0m\u001b[0;34m\u001b[0m\u001b[0;34m\u001b[0m\u001b[0m\n\u001b[0m\u001b[1;32m      5\u001b[0m   \u001b[0mprint\u001b[0m\u001b[0;34m(\u001b[0m\u001b[0mg\u001b[0m\u001b[0;34m)\u001b[0m\u001b[0;34m\u001b[0m\u001b[0;34m\u001b[0m\u001b[0m\n\u001b[1;32m      6\u001b[0m \u001b[0;34m\u001b[0m\u001b[0m\n",
            "\u001b[0;31mUnboundLocalError\u001b[0m: local variable 'g' referenced before assignment"
          ]
        }
      ]
    },
    {
      "cell_type": "markdown",
      "metadata": {
        "id": "SRvRBOQ80EZc"
      },
      "source": [
        "Globální proměnné lze ale použít jako konstanty. Dle PEP8 velkými písmeny, pripadne oddelit podtrzitky."
      ]
    },
    {
      "cell_type": "code",
      "metadata": {
        "id": "JhYk4jii1Cb6",
        "colab": {
          "base_uri": "https://localhost:8080/"
        },
        "outputId": "916f1376-ec79-4bb6-822c-c244b4382f55"
      },
      "source": [
        "CONST_PI = 3.14159\n",
        "\n",
        "def area_of_disk(radius):\n",
        "  return CONST_PI * (radius**2) # globalni promene jsou dostupne v lokalnim kontextu jen jako konstanty\n",
        "\n",
        "print(area_of_disk(2.2))"
      ],
      "execution_count": null,
      "outputs": [
        {
          "output_type": "stream",
          "text": [
            "15.205295600000001\n"
          ],
          "name": "stdout"
        }
      ]
    },
    {
      "cell_type": "markdown",
      "metadata": {
        "id": "NhqNJThh2g9C"
      },
      "source": [
        "Globální proměnné lze použít jako proměnné přes klíčové slovo `global`.\n",
        "\n",
        "Jak jste si už asi všimli, mám tendenci inklinovat k funkcionální stránce pythonu a tento přístup se mi moc nelíbí."
      ]
    },
    {
      "cell_type": "code",
      "metadata": {
        "id": "vnMdI4id2eOj",
        "colab": {
          "base_uri": "https://localhost:8080/"
        },
        "outputId": "d58e31b6-8649-48d8-8aea-45090c9bbf0e"
      },
      "source": [
        "g = 10\n",
        "\n",
        "def f():\n",
        "  global g\n",
        "  g += 1 \n",
        "  print(g)\n",
        "\n",
        "f()"
      ],
      "execution_count": null,
      "outputs": [
        {
          "output_type": "stream",
          "text": [
            "11\n"
          ],
          "name": "stdout"
        }
      ]
    },
    {
      "cell_type": "markdown",
      "metadata": {
        "id": "YvCpuVcb3zt5"
      },
      "source": [
        "## lokální\n",
        "Lokální proměnné jsou „vidět“ pouze v rámci bloku, v němž byly definovány (tj. např. v těle funkce), a ve všech jeho podřízených blocích"
      ]
    },
    {
      "cell_type": "code",
      "metadata": {
        "id": "ef0fe3Sh4Kk4",
        "colab": {
          "base_uri": "https://localhost:8080/",
          "height": 214
        },
        "outputId": "f9e67731-7011-462e-a213-20b00831c439"
      },
      "source": [
        "def f():\n",
        "  l = 6\n",
        "  print(l)\n",
        "\n",
        "f()\n",
        "print(l) # l je definovana pouze v lokalnim kontextu funkce f"
      ],
      "execution_count": null,
      "outputs": [
        {
          "output_type": "stream",
          "text": [
            "6\n"
          ],
          "name": "stdout"
        },
        {
          "output_type": "error",
          "ename": "NameError",
          "evalue": "ignored",
          "traceback": [
            "\u001b[0;31m---------------------------------------------------------------------------\u001b[0m",
            "\u001b[0;31mNameError\u001b[0m                                 Traceback (most recent call last)",
            "\u001b[0;32m<ipython-input-21-0fed196fd2c5>\u001b[0m in \u001b[0;36m<module>\u001b[0;34m()\u001b[0m\n\u001b[1;32m      4\u001b[0m \u001b[0;34m\u001b[0m\u001b[0m\n\u001b[1;32m      5\u001b[0m \u001b[0mf\u001b[0m\u001b[0;34m(\u001b[0m\u001b[0;34m)\u001b[0m\u001b[0;34m\u001b[0m\u001b[0;34m\u001b[0m\u001b[0m\n\u001b[0;32m----> 6\u001b[0;31m \u001b[0mprint\u001b[0m\u001b[0;34m(\u001b[0m\u001b[0ml\u001b[0m\u001b[0;34m)\u001b[0m \u001b[0;31m# l je definovana pouze v lokalnim kontextu funkce f\u001b[0m\u001b[0;34m\u001b[0m\u001b[0;34m\u001b[0m\u001b[0m\n\u001b[0m",
            "\u001b[0;31mNameError\u001b[0m: name 'l' is not defined"
          ]
        }
      ]
    },
    {
      "cell_type": "markdown",
      "metadata": {
        "id": "F_r85Vvp37ZS"
      },
      "source": [
        "## nelokální\n",
        "Nelokální proměnné (`nonlocal`) - umožňují z podbloku odkazovat na proměnné stejného jména v nadřazeném bloku, ale nikoli až na globální úroveň.\n",
        "\n",
        "Tady se to trochu zesložiťuje - pokud uvnitř funkce nadefinuji funkci jsem ve stejné situaci jako s globálními proměnými."
      ]
    },
    {
      "cell_type": "code",
      "metadata": {
        "id": "iuY8qvoB5Mc2",
        "colab": {
          "base_uri": "https://localhost:8080/",
          "height": 339
        },
        "outputId": "6390f3fd-fafa-4f7b-f239-f878a8f93437"
      },
      "source": [
        "def f():\n",
        "  x = 5\n",
        "  def g():\n",
        "    x += 5\n",
        "  g()\n",
        "  print(x)\n",
        "\n",
        "f()"
      ],
      "execution_count": null,
      "outputs": [
        {
          "output_type": "error",
          "ename": "UnboundLocalError",
          "evalue": "ignored",
          "traceback": [
            "\u001b[0;31m---------------------------------------------------------------------------\u001b[0m",
            "\u001b[0;31mUnboundLocalError\u001b[0m                         Traceback (most recent call last)",
            "\u001b[0;32m<ipython-input-22-7396cf1f1091>\u001b[0m in \u001b[0;36m<module>\u001b[0;34m()\u001b[0m\n\u001b[1;32m      6\u001b[0m   \u001b[0mprint\u001b[0m\u001b[0;34m(\u001b[0m\u001b[0mx\u001b[0m\u001b[0;34m)\u001b[0m\u001b[0;34m\u001b[0m\u001b[0;34m\u001b[0m\u001b[0m\n\u001b[1;32m      7\u001b[0m \u001b[0;34m\u001b[0m\u001b[0m\n\u001b[0;32m----> 8\u001b[0;31m \u001b[0mf\u001b[0m\u001b[0;34m(\u001b[0m\u001b[0;34m)\u001b[0m\u001b[0;34m\u001b[0m\u001b[0;34m\u001b[0m\u001b[0m\n\u001b[0m",
            "\u001b[0;32m<ipython-input-22-7396cf1f1091>\u001b[0m in \u001b[0;36mf\u001b[0;34m()\u001b[0m\n\u001b[1;32m      3\u001b[0m   \u001b[0;32mdef\u001b[0m \u001b[0mg\u001b[0m\u001b[0;34m(\u001b[0m\u001b[0;34m)\u001b[0m\u001b[0;34m:\u001b[0m\u001b[0;34m\u001b[0m\u001b[0;34m\u001b[0m\u001b[0m\n\u001b[1;32m      4\u001b[0m     \u001b[0mx\u001b[0m \u001b[0;34m+=\u001b[0m \u001b[0;36m5\u001b[0m\u001b[0;34m\u001b[0m\u001b[0;34m\u001b[0m\u001b[0m\n\u001b[0;32m----> 5\u001b[0;31m   \u001b[0mg\u001b[0m\u001b[0;34m(\u001b[0m\u001b[0;34m)\u001b[0m\u001b[0;34m\u001b[0m\u001b[0;34m\u001b[0m\u001b[0m\n\u001b[0m\u001b[1;32m      6\u001b[0m   \u001b[0mprint\u001b[0m\u001b[0;34m(\u001b[0m\u001b[0mx\u001b[0m\u001b[0;34m)\u001b[0m\u001b[0;34m\u001b[0m\u001b[0;34m\u001b[0m\u001b[0m\n\u001b[1;32m      7\u001b[0m \u001b[0;34m\u001b[0m\u001b[0m\n",
            "\u001b[0;32m<ipython-input-22-7396cf1f1091>\u001b[0m in \u001b[0;36mg\u001b[0;34m()\u001b[0m\n\u001b[1;32m      2\u001b[0m   \u001b[0mx\u001b[0m \u001b[0;34m=\u001b[0m \u001b[0;36m5\u001b[0m\u001b[0;34m\u001b[0m\u001b[0;34m\u001b[0m\u001b[0m\n\u001b[1;32m      3\u001b[0m   \u001b[0;32mdef\u001b[0m \u001b[0mg\u001b[0m\u001b[0;34m(\u001b[0m\u001b[0;34m)\u001b[0m\u001b[0;34m:\u001b[0m\u001b[0;34m\u001b[0m\u001b[0;34m\u001b[0m\u001b[0m\n\u001b[0;32m----> 4\u001b[0;31m     \u001b[0mx\u001b[0m \u001b[0;34m+=\u001b[0m \u001b[0;36m5\u001b[0m\u001b[0;34m\u001b[0m\u001b[0;34m\u001b[0m\u001b[0m\n\u001b[0m\u001b[1;32m      5\u001b[0m   \u001b[0mg\u001b[0m\u001b[0;34m(\u001b[0m\u001b[0;34m)\u001b[0m\u001b[0;34m\u001b[0m\u001b[0;34m\u001b[0m\u001b[0m\n\u001b[1;32m      6\u001b[0m   \u001b[0mprint\u001b[0m\u001b[0;34m(\u001b[0m\u001b[0mx\u001b[0m\u001b[0;34m)\u001b[0m\u001b[0;34m\u001b[0m\u001b[0;34m\u001b[0m\u001b[0m\n",
            "\u001b[0;31mUnboundLocalError\u001b[0m: local variable 'x' referenced before assignment"
          ]
        }
      ]
    },
    {
      "cell_type": "markdown",
      "metadata": {
        "id": "Q_Em_xzl5aOt"
      },
      "source": [
        "Pokud chci něco takového udělat, musím použít klíčové slovo `nonlocal`"
      ]
    },
    {
      "cell_type": "code",
      "metadata": {
        "id": "NfcAqOa75gqi",
        "colab": {
          "base_uri": "https://localhost:8080/"
        },
        "outputId": "fb9b6b1c-7994-43ba-cbaa-f292f502c3e0"
      },
      "source": [
        "def f():\n",
        "  x = 5\n",
        "  def g():\n",
        "    nonlocal x\n",
        "    x += 5\n",
        "  g()\n",
        "  print(x)\n",
        "\n",
        "f()"
      ],
      "execution_count": null,
      "outputs": [
        {
          "output_type": "stream",
          "text": [
            "10\n"
          ],
          "name": "stdout"
        }
      ]
    },
    {
      "cell_type": "markdown",
      "metadata": {
        "id": "mSiDnMt0i1Of"
      },
      "source": [
        "# Dokumentační řetezce funkce\n",
        "\n",
        "Dokumentační řetězce (docstrings) jsou předmětem [PEP-257](https://www.python.org/dev/peps/pep-0257/), doporučuji alespoň zběžně nahlédnout.\n",
        "\n",
        "Dokumentační řetězec je [literál](https://cs.wikipedia.org/wiki/Liter%C3%A1l), který je prvním příkazem modulu, funkce, třídy nebo metody. Dokumentační řetězec je pak přístupný jako magický atribut `__doc__` příslušného objektu.\n",
        "\n",
        "Dokumentační řetězce se uzavírají do třech uvozovek `\"\"\"`.\n",
        "\n",
        "Dokumentační řetězce jsou buď jednořádkové nebo víceřádkové. Víceřádkové dokumentační řetězce by měly mít na prvním řádku shrnutí následované jedním prázdným řádkem. Potom by měly na dalších řádcích následovat další detaily."
      ]
    },
    {
      "cell_type": "code",
      "metadata": {
        "id": "BHIkzATAxKv3",
        "colab": {
          "base_uri": "https://localhost:8080/"
        },
        "outputId": "ef120099-048e-4a14-a3c3-6db8834a9d8c"
      },
      "source": [
        "# jednoradkovy docstring\n",
        "def power(x, y=2):\n",
        "  \"\"\"Implements exponentiation\"\"\"\n",
        "  return x**y\n",
        "\n",
        "# docstring je ulozen v __doc__\n",
        "print(power.__doc__)\n",
        "print(\"---\")\n",
        "# a je součástí help\n",
        "help(power)"
      ],
      "execution_count": null,
      "outputs": [
        {
          "output_type": "stream",
          "text": [
            "Implements exponentiation\n",
            "---\n",
            "Help on function power in module __main__:\n",
            "\n",
            "power(x, y=2)\n",
            "    Implements exponentiation\n",
            "\n"
          ],
          "name": "stdout"
        }
      ]
    },
    {
      "cell_type": "code",
      "metadata": {
        "id": "BhRhWrzGyCY0",
        "colab": {
          "base_uri": "https://localhost:8080/"
        },
        "outputId": "af17ac46-42ab-4a81-a481-1c77da4bc0f9"
      },
      "source": [
        "# viceradkovy docstring\n",
        "def power(x, y=2):\n",
        "  \"\"\"Implements exponentiation.\n",
        "\n",
        "  Arguments:\n",
        "  ---------\n",
        "    x -- base\n",
        "    y -- exponent (default 2)\n",
        "\n",
        "  returns x^y\n",
        "  \"\"\"\n",
        "  return x**y\n",
        "\n",
        "\n",
        "print(power.__doc__)\n",
        "print(\"---\")\n",
        "help(power)"
      ],
      "execution_count": null,
      "outputs": [
        {
          "output_type": "stream",
          "text": [
            "Implements exponentiation.\n",
            "\n",
            "  Arguments:\n",
            "  ---------\n",
            "    x -- base\n",
            "    y -- exponent (default 2)\n",
            "\n",
            "  returns x^y\n",
            "  \n",
            "---\n",
            "Help on function power in module __main__:\n",
            "\n",
            "power(x, y=2)\n",
            "    Implements exponentiation.\n",
            "    \n",
            "    Arguments:\n",
            "    ---------\n",
            "      x -- base\n",
            "      y -- exponent (default 2)\n",
            "    \n",
            "    returns x^y\n",
            "\n"
          ],
          "name": "stdout"
        }
      ]
    },
    {
      "cell_type": "code",
      "metadata": {
        "id": "H2v_VohogoPF",
        "colab": {
          "base_uri": "https://localhost:8080/"
        },
        "outputId": "1e266abc-9076-4fe1-91b4-74e72233c473"
      },
      "source": [
        "# pojdme se podivat na docstringy nekterych vestavenych funkci\n",
        "help(print)\n",
        "help(input)\n",
        "help(len)"
      ],
      "execution_count": null,
      "outputs": [
        {
          "output_type": "stream",
          "text": [
            "Help on built-in function print in module builtins:\n",
            "\n",
            "print(...)\n",
            "    print(value, ..., sep=' ', end='\\n', file=sys.stdout, flush=False)\n",
            "    \n",
            "    Prints the values to a stream, or to sys.stdout by default.\n",
            "    Optional keyword arguments:\n",
            "    file:  a file-like object (stream); defaults to the current sys.stdout.\n",
            "    sep:   string inserted between values, default a space.\n",
            "    end:   string appended after the last value, default a newline.\n",
            "    flush: whether to forcibly flush the stream.\n",
            "\n",
            "Help on method raw_input in module ipykernel.kernelbase:\n",
            "\n",
            "raw_input(prompt='') method of google.colab._kernel.Kernel instance\n",
            "    Forward raw_input to frontends\n",
            "    \n",
            "    Raises\n",
            "    ------\n",
            "    StdinNotImplentedError if active frontend doesn't support stdin.\n",
            "\n",
            "Help on built-in function len in module builtins:\n",
            "\n",
            "len(obj, /)\n",
            "    Return the number of items in a container.\n",
            "\n"
          ],
          "name": "stdout"
        }
      ]
    },
    {
      "cell_type": "markdown",
      "metadata": {
        "id": "L8e1-9Ixy6RM"
      },
      "source": [
        "Poznámka k dokumentačním řetězcům: dokumentační řetězce se v pythonu běžně používají ke generování uživatelské dokumentace. Hezký nástroj k tomu je například [sphinx](https://www.sphinx-doc.org/en/master/). Pokud používáte výsledek nějakého většího projektu v pythonu, pravděpodobně má dokumentaci generovanou ve sphinx."
      ]
    },
    {
      "cell_type": "markdown",
      "metadata": {
        "id": "mYaHrtCejvKC"
      },
      "source": [
        "# Anotace funkcí\n",
        "\n",
        "Toto jsme již nakousli, když jsme si povídali o tom, že python je dynamicky typovaný jazyk a že statické typování je dodané tak trochu oklikou ... přes anotace. Anotace byly zavedeny prostřednictvím [PEP3107](https://www.python.org/dev/peps/pep-3107/) a [PEP484](https://www.python.org/dev/peps/pep-0484/) jako jednotný způsob zápisu (nejen) typů u funkcí.\n",
        "\n",
        "Anotace vypadá takto:"
      ]
    },
    {
      "cell_type": "code",
      "metadata": {
        "id": "gHiNV1y4jxFw",
        "colab": {
          "base_uri": "https://localhost:8080/"
        },
        "outputId": "730718f6-f17f-4081-b251-16856d4a1772"
      },
      "source": [
        "def power(x: int, y:int = 2) -> int:\n",
        "  \"\"\"Implements exponentiation.\n",
        "  \n",
        "  Arguments:\n",
        "  ---------\n",
        "    x -- base\n",
        "    y -- exponent (default 2)\n",
        "    \n",
        "  returns x^y\n",
        "  \"\"\"\n",
        "  return x**y\n",
        "\n",
        "help(power)"
      ],
      "execution_count": null,
      "outputs": [
        {
          "output_type": "stream",
          "text": [
            "Help on function power in module __main__:\n",
            "\n",
            "power(x: int, y: int = 2) -> int\n",
            "    Implements exponentiation.\n",
            "    \n",
            "    Arguments:\n",
            "    ---------\n",
            "      x -- base\n",
            "      y -- exponent (default 2)\n",
            "      \n",
            "    returns x^y\n",
            "\n"
          ],
          "name": "stdout"
        }
      ]
    },
    {
      "cell_type": "markdown",
      "metadata": {
        "id": "aHopqn2w2JhX"
      },
      "source": [
        "Nicméně anotace sama o sobě typování nevynutí"
      ]
    },
    {
      "cell_type": "code",
      "metadata": {
        "id": "cZ9o_6GT2I7J",
        "colab": {
          "base_uri": "https://localhost:8080/"
        },
        "outputId": "4f5c077b-764a-48f5-8a51-1a5e61c55590"
      },
      "source": [
        "print(power(2.1, 3.5))"
      ],
      "execution_count": null,
      "outputs": [
        {
          "output_type": "stream",
          "text": [
            "13.42046400464604\n"
          ],
          "name": "stdout"
        }
      ]
    },
    {
      "cell_type": "markdown",
      "metadata": {
        "id": "iE2goFvu2ct-"
      },
      "source": [
        "Tak k čemu je tedy anotace dobrá? Pokud zapíšeme při zavedení i anotace funkce, budou pak dostupné jako prvky slovníku přes magický atribut `__anotations__`"
      ]
    },
    {
      "cell_type": "code",
      "metadata": {
        "id": "QciXzQGt3Ets",
        "colab": {
          "base_uri": "https://localhost:8080/"
        },
        "outputId": "e4794772-e5ac-4a8a-d49f-396c3eafbb79"
      },
      "source": [
        "print(power.__annotations__)"
      ],
      "execution_count": null,
      "outputs": [
        {
          "output_type": "stream",
          "text": [
            "{'x': <class 'int'>, 'y': <class 'int'>, 'return': <class 'int'>}\n"
          ],
          "name": "stdout"
        }
      ]
    },
    {
      "cell_type": "markdown",
      "metadata": {
        "id": "E5exUdTi3R6N"
      },
      "source": [
        "poznámka: ještě se musíme vypořádat se slůvkem nejen z definice anotace nahoře. V anotaci může být totiž cokoliv (pokud slovem cokoliv rozumíme objekt)."
      ]
    },
    {
      "cell_type": "code",
      "metadata": {
        "id": "w8uWVrQu333q",
        "colab": {
          "base_uri": "https://localhost:8080/"
        },
        "outputId": "7694bd9e-b419-4497-a227-56a6cb10ca1c"
      },
      "source": [
        "def power(x:\"base\", y:\"exponent\" = 2) -> \"x^y\":\n",
        "  \"\"\"Implements exponentiation.\n",
        "  \n",
        "  Arguments:\n",
        "  ---------\n",
        "    x -- base\n",
        "    y -- exponent (default 2)\n",
        "    \n",
        "  returns x^y\n",
        "  \"\"\"\n",
        "  return x**y\n",
        "\n",
        "help(power)\n",
        "print(power.__annotations__)\n",
        "\n",
        "# anotací může být i ntice \n",
        "def power(x: (int, \"base\"), y:(int, \"exponent\") = 2) -> (int, \"x^y\"):\n",
        "  \"\"\"Implements exponentiation.\n",
        "  \n",
        "  Arguments:\n",
        "  ---------\n",
        "    x -- base\n",
        "    y -- exponent (default 2)\n",
        "    \n",
        "  returns x^y\n",
        "  \"\"\"\n",
        "  return x**y\n",
        "\n",
        "help(power)\n",
        "print(power.__annotations__)"
      ],
      "execution_count": null,
      "outputs": [
        {
          "output_type": "stream",
          "text": [
            "Help on function power in module __main__:\n",
            "\n",
            "power(x: 'base', y: 'exponent' = 2) -> 'x^y'\n",
            "    Implements exponentiation.\n",
            "    \n",
            "    Arguments:\n",
            "    ---------\n",
            "      x -- base\n",
            "      y -- exponent (default 2)\n",
            "      \n",
            "    returns x^y\n",
            "\n",
            "{'x': 'base', 'y': 'exponent', 'return': 'x^y'}\n",
            "Help on function power in module __main__:\n",
            "\n",
            "power(x: (<class 'int'>, 'base'), y: (<class 'int'>, 'exponent') = 2) -> (<class 'int'>, 'x^y')\n",
            "    Implements exponentiation.\n",
            "    \n",
            "    Arguments:\n",
            "    ---------\n",
            "      x -- base\n",
            "      y -- exponent (default 2)\n",
            "      \n",
            "    returns x^y\n",
            "\n",
            "{'x': (<class 'int'>, 'base'), 'y': (<class 'int'>, 'exponent'), 'return': (<class 'int'>, 'x^y')}\n"
          ],
          "name": "stdout"
        }
      ]
    },
    {
      "cell_type": "markdown",
      "metadata": {
        "id": "NnG6AjNu4zoo"
      },
      "source": [
        "Ovšem doporučuji se držet [PEP484](https://www.python.org/dev/peps/pep-0484/) a používat anotace pro typování proměnných. Zároveň přípomínám, že python interpret nedělá nic jiného, než že anotace umístí do slovníku `__annotations__` (typovou kontrolu si musíme pořešit jinak).\n",
        "\n",
        "Poznámka: pokud budete chtít reálně používat anotace na typovou kontrolu, nezbude vám nic jiného než se důkladně seznámit s modulem [typing](https://docs.python.org/3/library/typing.html)."
      ]
    },
    {
      "cell_type": "markdown",
      "metadata": {
        "id": "9E2--eaOjx2b"
      },
      "source": [
        "# Dekorátory\n",
        "\n",
        "Několikrát už bylo řečeno, že v pythonu je všechno objekt - tedy i funkce jsou objekty. Tím pádem můžeme funkce předávat jako argumenty, můžeme si dělat seznamy funkcí, můžeme je dávat do slovníků, funkce může vracet funkci a podobně.\n",
        "\n",
        "Zaměřme se nyní na funkce, které jako argument dostávají funkci.\n",
        "\n",
        "Zmiňoval jsem využití anotací k statické typové kontrole. Zkusme si tedy napsat funkci, která projde anotace funkce předané jako argument a zkontroluje typy argumentů předaných této funkci. Pokud bude vše ok vrátí funkci z argumentu."
      ]
    },
    {
      "cell_type": "code",
      "metadata": {
        "id": "Nmu_S-gEjzSp"
      },
      "source": [
        "# funkce type_check dostane v parametru func funkci k typové kontrole\n",
        "def type_check(func):\n",
        "  # vnitřní funkce, která provádí typovou kontrolu\n",
        "  def checked(*args, **kwargs):\n",
        "    # vyzobu si hodnoty argumentu pozicnich i pojmenovanych do jednoho seznamu\n",
        "    arguments = list(args) + list(kwargs)\n",
        "    # z anotaci si do dalsiho seznamu vytáhnu požadované typy, posledni je return, ten nekontroluji\n",
        "    types = [func.__annotations__[x] for x in func.__annotations__][0:-1]\n",
        "    # propojim si je zipem a postupne prochazim jednu dvojici po druhe\n",
        "    for a, t in zip(arguments, types):\n",
        "      try:\n",
        "        # assert znamená předpoklad - pokud není splněna podmínka vyhodí exception AssertionError\n",
        "        assert type(a) == t\n",
        "      except AssertionError:\n",
        "        # vyjímku ošetříme a vyvoláme další, kde blíže popíšeme typovou chybu\n",
        "        raise ValueError(\"Wrong type: expected \" + str(t) + \", got \" + str(type(a)))\n",
        "    # pokud prošla typová kontrola vrátím volání úplně původní funkci func\n",
        "    return func(*args, **kwargs)\n",
        "  #vrátím výsledek\n",
        "  return checked"
      ],
      "execution_count": null,
      "outputs": []
    },
    {
      "cell_type": "markdown",
      "metadata": {
        "id": "7jp3eJdSlcw9"
      },
      "source": [
        "Hezké, ale jak to použít? No například na naší funkci power."
      ]
    },
    {
      "cell_type": "code",
      "metadata": {
        "id": "1ZXdXhsZlZtM",
        "colab": {
          "base_uri": "https://localhost:8080/",
          "height": 441
        },
        "outputId": "051f8350-0ad5-49dd-f1fa-b6903df5b7f8"
      },
      "source": [
        "# funkce s anotací\n",
        "def power(x: int, y:int = 2) -> int:\n",
        "  return x**y\n",
        "\n",
        "# vynucení typové kontroly před voláním funkce\n",
        "print(type_check(power)(2, 10)) # OK\n",
        "print(type_check(power)(2, 10.2)) # Vyhodí exception s popisem, že chtěl int a dostal float\n"
      ],
      "execution_count": null,
      "outputs": [
        {
          "output_type": "stream",
          "text": [
            "1024\n"
          ],
          "name": "stdout"
        },
        {
          "output_type": "error",
          "ename": "ValueError",
          "evalue": "ignored",
          "traceback": [
            "\u001b[0;31m---------------------------------------------------------------------------\u001b[0m",
            "\u001b[0;31mAssertionError\u001b[0m                            Traceback (most recent call last)",
            "\u001b[0;32m<ipython-input-32-de9fae6fc9b9>\u001b[0m in \u001b[0;36mchecked\u001b[0;34m(*args, **kwargs)\u001b[0m\n\u001b[1;32m     12\u001b[0m         \u001b[0;31m# assert znamená předpoklad - pokud není splněna podmínka vyhodí exception AssertionError\u001b[0m\u001b[0;34m\u001b[0m\u001b[0;34m\u001b[0m\u001b[0;34m\u001b[0m\u001b[0m\n\u001b[0;32m---> 13\u001b[0;31m         \u001b[0;32massert\u001b[0m \u001b[0mtype\u001b[0m\u001b[0;34m(\u001b[0m\u001b[0ma\u001b[0m\u001b[0;34m)\u001b[0m \u001b[0;34m==\u001b[0m \u001b[0mt\u001b[0m\u001b[0;34m\u001b[0m\u001b[0;34m\u001b[0m\u001b[0m\n\u001b[0m\u001b[1;32m     14\u001b[0m       \u001b[0;32mexcept\u001b[0m \u001b[0mAssertionError\u001b[0m\u001b[0;34m:\u001b[0m\u001b[0;34m\u001b[0m\u001b[0;34m\u001b[0m\u001b[0m\n",
            "\u001b[0;31mAssertionError\u001b[0m: ",
            "\nDuring handling of the above exception, another exception occurred:\n",
            "\u001b[0;31mValueError\u001b[0m                                Traceback (most recent call last)",
            "\u001b[0;32m<ipython-input-33-9fddf2e82d03>\u001b[0m in \u001b[0;36m<module>\u001b[0;34m()\u001b[0m\n\u001b[1;32m      5\u001b[0m \u001b[0;31m# vynucení typové kontroly před voláním funkce\u001b[0m\u001b[0;34m\u001b[0m\u001b[0;34m\u001b[0m\u001b[0;34m\u001b[0m\u001b[0m\n\u001b[1;32m      6\u001b[0m \u001b[0mprint\u001b[0m\u001b[0;34m(\u001b[0m\u001b[0mtype_check\u001b[0m\u001b[0;34m(\u001b[0m\u001b[0mpower\u001b[0m\u001b[0;34m)\u001b[0m\u001b[0;34m(\u001b[0m\u001b[0;36m2\u001b[0m\u001b[0;34m,\u001b[0m \u001b[0;36m10\u001b[0m\u001b[0;34m)\u001b[0m\u001b[0;34m)\u001b[0m \u001b[0;31m# OK\u001b[0m\u001b[0;34m\u001b[0m\u001b[0;34m\u001b[0m\u001b[0m\n\u001b[0;32m----> 7\u001b[0;31m \u001b[0mprint\u001b[0m\u001b[0;34m(\u001b[0m\u001b[0mtype_check\u001b[0m\u001b[0;34m(\u001b[0m\u001b[0mpower\u001b[0m\u001b[0;34m)\u001b[0m\u001b[0;34m(\u001b[0m\u001b[0;36m2\u001b[0m\u001b[0;34m,\u001b[0m \u001b[0;36m10.2\u001b[0m\u001b[0;34m)\u001b[0m\u001b[0;34m)\u001b[0m \u001b[0;31m# Vyhodí exception s popisem, že chtěl int a dostal float\u001b[0m\u001b[0;34m\u001b[0m\u001b[0;34m\u001b[0m\u001b[0m\n\u001b[0m",
            "\u001b[0;32m<ipython-input-32-de9fae6fc9b9>\u001b[0m in \u001b[0;36mchecked\u001b[0;34m(*args, **kwargs)\u001b[0m\n\u001b[1;32m     14\u001b[0m       \u001b[0;32mexcept\u001b[0m \u001b[0mAssertionError\u001b[0m\u001b[0;34m:\u001b[0m\u001b[0;34m\u001b[0m\u001b[0;34m\u001b[0m\u001b[0m\n\u001b[1;32m     15\u001b[0m         \u001b[0;31m# vyjímku ošetříme a vyvoláme další, kde blíže popíšeme typovou chybu\u001b[0m\u001b[0;34m\u001b[0m\u001b[0;34m\u001b[0m\u001b[0;34m\u001b[0m\u001b[0m\n\u001b[0;32m---> 16\u001b[0;31m         \u001b[0;32mraise\u001b[0m \u001b[0mValueError\u001b[0m\u001b[0;34m(\u001b[0m\u001b[0;34m\"Wrong type: expected \"\u001b[0m \u001b[0;34m+\u001b[0m \u001b[0mstr\u001b[0m\u001b[0;34m(\u001b[0m\u001b[0mt\u001b[0m\u001b[0;34m)\u001b[0m \u001b[0;34m+\u001b[0m \u001b[0;34m\", got \"\u001b[0m \u001b[0;34m+\u001b[0m \u001b[0mstr\u001b[0m\u001b[0;34m(\u001b[0m\u001b[0mtype\u001b[0m\u001b[0;34m(\u001b[0m\u001b[0ma\u001b[0m\u001b[0;34m)\u001b[0m\u001b[0;34m)\u001b[0m\u001b[0;34m)\u001b[0m\u001b[0;34m\u001b[0m\u001b[0;34m\u001b[0m\u001b[0m\n\u001b[0m\u001b[1;32m     17\u001b[0m     \u001b[0;31m# pokud prošla typová kontrola vrátím volání úplně původní funkci func\u001b[0m\u001b[0;34m\u001b[0m\u001b[0;34m\u001b[0m\u001b[0;34m\u001b[0m\u001b[0m\n\u001b[1;32m     18\u001b[0m     \u001b[0;32mreturn\u001b[0m \u001b[0mfunc\u001b[0m\u001b[0;34m(\u001b[0m\u001b[0;34m*\u001b[0m\u001b[0margs\u001b[0m\u001b[0;34m,\u001b[0m \u001b[0;34m**\u001b[0m\u001b[0mkwargs\u001b[0m\u001b[0;34m)\u001b[0m\u001b[0;34m\u001b[0m\u001b[0;34m\u001b[0m\u001b[0m\n",
            "\u001b[0;31mValueError\u001b[0m: Wrong type: expected <class 'int'>, got <class 'float'>"
          ]
        }
      ]
    },
    {
      "cell_type": "markdown",
      "metadata": {
        "id": "4I84XQ7KmM_r"
      },
      "source": [
        "A teď to nejdůležitější: funkce, která jako argument dostane funkci a zároveň vrací funkci se nazývá dekorátor. A proč dekorátor? Protože místo výše použitého poněkud krkolomného zápisu `type_check(power)(2,10)` můžeme použít mnohem přehlednější:"
      ]
    },
    {
      "cell_type": "code",
      "metadata": {
        "id": "CpDM89ACTzLf",
        "colab": {
          "base_uri": "https://localhost:8080/",
          "height": 441
        },
        "outputId": "2267ff66-1af7-45c3-8ac1-f7b9150e84dc"
      },
      "source": [
        "@type_check\n",
        "def power(x: int, y:int = 2) -> int:\n",
        "  return x**y\n",
        "\n",
        "print(power(2, 10))\n",
        "print(power(2, 10.2))"
      ],
      "execution_count": null,
      "outputs": [
        {
          "output_type": "stream",
          "text": [
            "1024\n"
          ],
          "name": "stdout"
        },
        {
          "output_type": "error",
          "ename": "ValueError",
          "evalue": "ignored",
          "traceback": [
            "\u001b[0;31m---------------------------------------------------------------------------\u001b[0m",
            "\u001b[0;31mAssertionError\u001b[0m                            Traceback (most recent call last)",
            "\u001b[0;32m<ipython-input-32-de9fae6fc9b9>\u001b[0m in \u001b[0;36mchecked\u001b[0;34m(*args, **kwargs)\u001b[0m\n\u001b[1;32m     12\u001b[0m         \u001b[0;31m# assert znamená předpoklad - pokud není splněna podmínka vyhodí exception AssertionError\u001b[0m\u001b[0;34m\u001b[0m\u001b[0;34m\u001b[0m\u001b[0;34m\u001b[0m\u001b[0m\n\u001b[0;32m---> 13\u001b[0;31m         \u001b[0;32massert\u001b[0m \u001b[0mtype\u001b[0m\u001b[0;34m(\u001b[0m\u001b[0ma\u001b[0m\u001b[0;34m)\u001b[0m \u001b[0;34m==\u001b[0m \u001b[0mt\u001b[0m\u001b[0;34m\u001b[0m\u001b[0;34m\u001b[0m\u001b[0m\n\u001b[0m\u001b[1;32m     14\u001b[0m       \u001b[0;32mexcept\u001b[0m \u001b[0mAssertionError\u001b[0m\u001b[0;34m:\u001b[0m\u001b[0;34m\u001b[0m\u001b[0;34m\u001b[0m\u001b[0m\n",
            "\u001b[0;31mAssertionError\u001b[0m: ",
            "\nDuring handling of the above exception, another exception occurred:\n",
            "\u001b[0;31mValueError\u001b[0m                                Traceback (most recent call last)",
            "\u001b[0;32m<ipython-input-34-ced18e7a0fc1>\u001b[0m in \u001b[0;36m<module>\u001b[0;34m()\u001b[0m\n\u001b[1;32m      4\u001b[0m \u001b[0;34m\u001b[0m\u001b[0m\n\u001b[1;32m      5\u001b[0m \u001b[0mprint\u001b[0m\u001b[0;34m(\u001b[0m\u001b[0mpower\u001b[0m\u001b[0;34m(\u001b[0m\u001b[0;36m2\u001b[0m\u001b[0;34m,\u001b[0m \u001b[0;36m10\u001b[0m\u001b[0;34m)\u001b[0m\u001b[0;34m)\u001b[0m\u001b[0;34m\u001b[0m\u001b[0;34m\u001b[0m\u001b[0m\n\u001b[0;32m----> 6\u001b[0;31m \u001b[0mprint\u001b[0m\u001b[0;34m(\u001b[0m\u001b[0mpower\u001b[0m\u001b[0;34m(\u001b[0m\u001b[0;36m2\u001b[0m\u001b[0;34m,\u001b[0m \u001b[0;36m10.2\u001b[0m\u001b[0;34m)\u001b[0m\u001b[0;34m)\u001b[0m\u001b[0;34m\u001b[0m\u001b[0;34m\u001b[0m\u001b[0m\n\u001b[0m",
            "\u001b[0;32m<ipython-input-32-de9fae6fc9b9>\u001b[0m in \u001b[0;36mchecked\u001b[0;34m(*args, **kwargs)\u001b[0m\n\u001b[1;32m     14\u001b[0m       \u001b[0;32mexcept\u001b[0m \u001b[0mAssertionError\u001b[0m\u001b[0;34m:\u001b[0m\u001b[0;34m\u001b[0m\u001b[0;34m\u001b[0m\u001b[0m\n\u001b[1;32m     15\u001b[0m         \u001b[0;31m# vyjímku ošetříme a vyvoláme další, kde blíže popíšeme typovou chybu\u001b[0m\u001b[0;34m\u001b[0m\u001b[0;34m\u001b[0m\u001b[0;34m\u001b[0m\u001b[0m\n\u001b[0;32m---> 16\u001b[0;31m         \u001b[0;32mraise\u001b[0m \u001b[0mValueError\u001b[0m\u001b[0;34m(\u001b[0m\u001b[0;34m\"Wrong type: expected \"\u001b[0m \u001b[0;34m+\u001b[0m \u001b[0mstr\u001b[0m\u001b[0;34m(\u001b[0m\u001b[0mt\u001b[0m\u001b[0;34m)\u001b[0m \u001b[0;34m+\u001b[0m \u001b[0;34m\", got \"\u001b[0m \u001b[0;34m+\u001b[0m \u001b[0mstr\u001b[0m\u001b[0;34m(\u001b[0m\u001b[0mtype\u001b[0m\u001b[0;34m(\u001b[0m\u001b[0ma\u001b[0m\u001b[0;34m)\u001b[0m\u001b[0;34m)\u001b[0m\u001b[0;34m)\u001b[0m\u001b[0;34m\u001b[0m\u001b[0;34m\u001b[0m\u001b[0m\n\u001b[0m\u001b[1;32m     17\u001b[0m     \u001b[0;31m# pokud prošla typová kontrola vrátím volání úplně původní funkci func\u001b[0m\u001b[0;34m\u001b[0m\u001b[0;34m\u001b[0m\u001b[0;34m\u001b[0m\u001b[0m\n\u001b[1;32m     18\u001b[0m     \u001b[0;32mreturn\u001b[0m \u001b[0mfunc\u001b[0m\u001b[0;34m(\u001b[0m\u001b[0;34m*\u001b[0m\u001b[0margs\u001b[0m\u001b[0;34m,\u001b[0m \u001b[0;34m**\u001b[0m\u001b[0mkwargs\u001b[0m\u001b[0;34m)\u001b[0m\u001b[0;34m\u001b[0m\u001b[0;34m\u001b[0m\u001b[0m\n",
            "\u001b[0;31mValueError\u001b[0m: Wrong type: expected <class 'int'>, got <class 'float'>"
          ]
        }
      ]
    },
    {
      "cell_type": "markdown",
      "metadata": {
        "id": "PoE328tRFVc-"
      },
      "source": [
        "### Dekorátor s argumentem"
      ]
    },
    {
      "cell_type": "code",
      "metadata": {
        "id": "BKQO_9DuFaHP"
      },
      "source": [
        "# funkce type_check dostane argument warn_only\n",
        "def type_check(warn_only=False):\n",
        "  # funkce type_check dostane v parametru func funkci k typové kontrole\n",
        "  def decorator(func):\n",
        "    # vnitřní funkce, která provádí typovou kontrolu\n",
        "    def checked(*args, **kwargs):\n",
        "      # vyzobu si hodnoty argumentu pozicnich i pojmenovanych do jednoho seznamu\n",
        "      arguments = list(args) + list(kwargs)\n",
        "      # z anotaci si do dalsiho seznamu vytáhnu požadované typy, posledni je return, ten nekontroluji\n",
        "      types=[func.__annotations__[x] for x in func.__annotations__][0:-1]\n",
        "      # propojim si je zipem a postupne prochazim jednu dvojici po druhe\n",
        "      for a, t in zip(arguments, types):\n",
        "        try:\n",
        "          # assert znamená předpoklad - pokud není splněna podmínka vyhodí exception AssertionError\n",
        "          assert type(a) == t\n",
        "        except AssertionError:\n",
        "          if warn_only:\n",
        "            print(\"Warning: wrong type: expected \" + str(t) + \", got \" + str(type(a)))\n",
        "          else:\n",
        "            # vyjímku ošetříme a vyvoláme další, kde blíže popíšeme typovou chybu\n",
        "            raise ValueError(\"Wrong type: expected \" + str(t) + \", got \" + str(type(a)))\n",
        "      # pokud prošla typová kontrola vrátím volání úplně původní funkci func\n",
        "      return func(*args, **kwargs)\n",
        "    #vrátím výsledek\n",
        "    return checked\n",
        "  return decorator"
      ],
      "execution_count": null,
      "outputs": []
    },
    {
      "cell_type": "code",
      "metadata": {
        "id": "xjnHHw_cFdqb",
        "colab": {
          "base_uri": "https://localhost:8080/"
        },
        "outputId": "a56d4151-f066-4d0c-999b-b65c5aca6a8a"
      },
      "source": [
        "@type_check(warn_only=True)\n",
        "def power(x: int, y:int = 2) -> int:\n",
        "  return x**y\n",
        "\n",
        "print(power(2, 10))\n",
        "print(power(2, 10.2))"
      ],
      "execution_count": null,
      "outputs": [
        {
          "output_type": "stream",
          "text": [
            "1024\n",
            "Warning: wrong type: expected <class 'int'>, got <class 'float'>\n",
            "1176.2671155169633\n"
          ],
          "name": "stdout"
        }
      ]
    },
    {
      "cell_type": "markdown",
      "metadata": {
        "id": "cAj20s6goxc5"
      },
      "source": [
        "Ano, takhle jednoduché a elegantní to s dekorátory je. \n",
        "\n",
        "Dekorátory jsou jedna z nejmocnějších zbraní v pythonu.\n",
        "\n",
        "Dekorátory byly zavedeny [PEP318](https://www.python.org/dev/peps/pep-0318/) - doporučuji přečíst."
      ]
    },
    {
      "cell_type": "markdown",
      "metadata": {
        "id": "11L-Yf4dsNOn"
      },
      "source": [
        "# Bonus - je funkce opravdu funkce?\n",
        "\n",
        "zahrajeme si takovou hru: jaký je typ následujících objektů, o kterých jsme doposud mluvili jako o funkcích:\n",
        "\n",
        "- `zip`\n",
        "- `len`\n",
        "- `map`\n",
        "\n",
        "Ve skutečnosti jen jedno z nich je funkce."
      ]
    },
    {
      "cell_type": "code",
      "metadata": {
        "id": "rPv_RBorbYxP",
        "colab": {
          "base_uri": "https://localhost:8080/"
        },
        "outputId": "f65ff31d-a5a1-4b68-d436-5f659880d3b2"
      },
      "source": [
        "help(zip)\n",
        "help(map)\n",
        "help(len)"
      ],
      "execution_count": null,
      "outputs": [
        {
          "output_type": "stream",
          "text": [
            "Help on class zip in module builtins:\n",
            "\n",
            "class zip(object)\n",
            " |  zip(*iterables) --> zip object\n",
            " |  \n",
            " |  Return a zip object whose .__next__() method returns a tuple where\n",
            " |  the i-th element comes from the i-th iterable argument.  The .__next__()\n",
            " |  method continues until the shortest iterable in the argument sequence\n",
            " |  is exhausted and then it raises StopIteration.\n",
            " |  \n",
            " |  Methods defined here:\n",
            " |  \n",
            " |  __getattribute__(self, name, /)\n",
            " |      Return getattr(self, name).\n",
            " |  \n",
            " |  __iter__(self, /)\n",
            " |      Implement iter(self).\n",
            " |  \n",
            " |  __next__(self, /)\n",
            " |      Implement next(self).\n",
            " |  \n",
            " |  __reduce__(...)\n",
            " |      Return state information for pickling.\n",
            " |  \n",
            " |  ----------------------------------------------------------------------\n",
            " |  Static methods defined here:\n",
            " |  \n",
            " |  __new__(*args, **kwargs) from builtins.type\n",
            " |      Create and return a new object.  See help(type) for accurate signature.\n",
            "\n",
            "Help on class map in module builtins:\n",
            "\n",
            "class map(object)\n",
            " |  map(func, *iterables) --> map object\n",
            " |  \n",
            " |  Make an iterator that computes the function using arguments from\n",
            " |  each of the iterables.  Stops when the shortest iterable is exhausted.\n",
            " |  \n",
            " |  Methods defined here:\n",
            " |  \n",
            " |  __getattribute__(self, name, /)\n",
            " |      Return getattr(self, name).\n",
            " |  \n",
            " |  __iter__(self, /)\n",
            " |      Implement iter(self).\n",
            " |  \n",
            " |  __next__(self, /)\n",
            " |      Implement next(self).\n",
            " |  \n",
            " |  __reduce__(...)\n",
            " |      Return state information for pickling.\n",
            " |  \n",
            " |  ----------------------------------------------------------------------\n",
            " |  Static methods defined here:\n",
            " |  \n",
            " |  __new__(*args, **kwargs) from builtins.type\n",
            " |      Create and return a new object.  See help(type) for accurate signature.\n",
            "\n",
            "Help on built-in function len in module builtins:\n",
            "\n",
            "len(obj, /)\n",
            "    Return the number of items in a container.\n",
            "\n"
          ],
          "name": "stdout"
        }
      ]
    },
    {
      "cell_type": "markdown",
      "metadata": {
        "id": "YvACB0i8w7F9"
      },
      "source": [
        "Vidíme, že jenom `len` je skutečně funkce. `zip` a `map` jsou ve skutečnosti třídy, které se jako funkce tváří. Bylo by hezké rozebrat ještě callable třídy, ale protože nechci nakousávat další látku, tak snad jenom řeknu, že o tom si povíme někdy jindy."
      ]
    },
    {
      "cell_type": "code",
      "metadata": {
        "id": "XdMAYCRfsLy9"
      },
      "source": [
        ""
      ],
      "execution_count": null,
      "outputs": []
    }
  ]
}